{
  "nbformat": 4,
  "nbformat_minor": 0,
  "metadata": {
    "colab": {
      "name": "analise_4_Ridge-Lasso-ElasticNet.ipynb",
      "provenance": [],
      "collapsed_sections": [],
      "mount_file_id": "1vvLVvBvct3F0RV0lF3vlPrxNEZLnUxXw",
      "authorship_tag": "ABX9TyNxtd3kpWqyUI2PZJIBd/St",
      "include_colab_link": true
    },
    "kernelspec": {
      "name": "python3",
      "display_name": "Python 3"
    },
    "language_info": {
      "name": "python"
    }
  },
  "cells": [
    {
      "cell_type": "markdown",
      "metadata": {
        "id": "view-in-github",
        "colab_type": "text"
      },
      "source": [
        "<a href=\"https://colab.research.google.com/github/EliseuODaniel/Analise_temperatura_motor_eletrico/blob/main/analise_4_Ridge_Lasso_ElasticNet.ipynb\" target=\"_parent\"><img src=\"https://colab.research.google.com/assets/colab-badge.svg\" alt=\"Open In Colab\"/></a>"
      ]
    },
    {
      "cell_type": "code",
      "metadata": {
        "colab": {
          "base_uri": "https://localhost:8080/"
        },
        "id": "OGzDXN7EAxfw",
        "outputId": "62140a88-de6b-48d6-f043-b5285c39d4a1"
      },
      "source": [
        "import numpy as np \n",
        "import pandas as pd\n",
        "import matplotlib.pyplot as plt\n",
        "from matplotlib.colors import rgb2hex\n",
        "import seaborn as sns\n",
        "import scipy.stats as stats\n",
        "import statsmodels.api as sm\n",
        "import os"
      ],
      "execution_count": 3,
      "outputs": [
        {
          "output_type": "stream",
          "text": [
            "/usr/local/lib/python3.7/dist-packages/statsmodels/tools/_testing.py:19: FutureWarning: pandas.util.testing is deprecated. Use the functions in the public API at pandas.testing instead.\n",
            "  import pandas.util.testing as tm\n"
          ],
          "name": "stderr"
        }
      ]
    },
    {
      "cell_type": "markdown",
      "metadata": {
        "id": "I4TtZkpGpEjg"
      },
      "source": [
        "#Data and setup"
      ]
    },
    {
      "cell_type": "code",
      "metadata": {
        "id": "AOikYEXqBfDW"
      },
      "source": [
        "df = pd.read_csv('/content/drive/MyDrive/Colab Notebooks/notebooks/input/measures_v2.csv')\n",
        "# remoção da coluna torque, pois não servirá como variável nem de entrada e nem de saída\n",
        "X = df[['ambient', 'coolant','i_q', 'u_q','i_d', 'u_d', 'motor_speed']]\n",
        "y = df['pm']"
      ],
      "execution_count": 4,
      "outputs": []
    },
    {
      "cell_type": "markdown",
      "metadata": {
        "id": "NXWZoR2jpXRR"
      },
      "source": [
        "Polynomial Conversion"
      ]
    },
    {
      "cell_type": "code",
      "metadata": {
        "id": "WZKh4mRcbvs9"
      },
      "source": [
        "from sklearn.preprocessing import PolynomialFeatures\n",
        "polynomial_converter = PolynomialFeatures(degree=3,include_bias=False)\n",
        "poly_features = polynomial_converter.fit_transform(X)"
      ],
      "execution_count": 5,
      "outputs": []
    },
    {
      "cell_type": "markdown",
      "metadata": {
        "id": "K6cx19-9pr9q"
      },
      "source": [
        "# Train | Test Split"
      ]
    },
    {
      "cell_type": "code",
      "metadata": {
        "id": "QEI9JBhPpsx7"
      },
      "source": [
        "from sklearn.model_selection import train_test_split"
      ],
      "execution_count": 6,
      "outputs": []
    },
    {
      "cell_type": "code",
      "metadata": {
        "id": "HPLTY_Z-qX4S"
      },
      "source": [
        "X_train, X_test, y_train, y_test = train_test_split(poly_features, y, test_size=0.3, random_state=101)"
      ],
      "execution_count": 7,
      "outputs": []
    },
    {
      "cell_type": "markdown",
      "metadata": {
        "id": "EU0kSPN5qbJI"
      },
      "source": [
        "#Scaling the data"
      ]
    },
    {
      "cell_type": "code",
      "metadata": {
        "id": "y3Tm2xt7qdLE"
      },
      "source": [
        "from sklearn.preprocessing import StandardScaler"
      ],
      "execution_count": 8,
      "outputs": []
    },
    {
      "cell_type": "code",
      "metadata": {
        "id": "Ig4ggENYqfGN"
      },
      "source": [
        "# help (StandardScaler)"
      ],
      "execution_count": 9,
      "outputs": []
    },
    {
      "cell_type": "code",
      "metadata": {
        "id": "WOzXCyc5qjyD"
      },
      "source": [
        "scaler = StandardScaler()"
      ],
      "execution_count": 10,
      "outputs": []
    },
    {
      "cell_type": "code",
      "metadata": {
        "colab": {
          "base_uri": "https://localhost:8080/"
        },
        "id": "VO7ibs5BqlzM",
        "outputId": "23308ec1-794b-4187-d3f3-0d6e57119d84"
      },
      "source": [
        "scaler.fit(X_train)"
      ],
      "execution_count": 11,
      "outputs": [
        {
          "output_type": "execute_result",
          "data": {
            "text/plain": [
              "StandardScaler(copy=True, with_mean=True, with_std=True)"
            ]
          },
          "metadata": {
            "tags": []
          },
          "execution_count": 11
        }
      ]
    },
    {
      "cell_type": "code",
      "metadata": {
        "id": "EDjpvDRdqnlJ"
      },
      "source": [
        "X_train = scaler.transform(X_train)"
      ],
      "execution_count": 12,
      "outputs": []
    },
    {
      "cell_type": "code",
      "metadata": {
        "id": "UbUzIy57qoj_"
      },
      "source": [
        "X_test = scaler.transform(X_test)"
      ],
      "execution_count": 13,
      "outputs": []
    },
    {
      "cell_type": "markdown",
      "metadata": {
        "id": "LLku4OAcqvls"
      },
      "source": [
        "#Ridge Regression"
      ]
    },
    {
      "cell_type": "code",
      "metadata": {
        "id": "aEXUkxEvqzPi"
      },
      "source": [
        "from sklearn.linear_model import Ridge"
      ],
      "execution_count": 14,
      "outputs": []
    },
    {
      "cell_type": "code",
      "metadata": {
        "id": "W6o48AxCq3mb"
      },
      "source": [
        "ridge_model = Ridge(alpha=10)"
      ],
      "execution_count": 15,
      "outputs": []
    },
    {
      "cell_type": "code",
      "metadata": {
        "colab": {
          "base_uri": "https://localhost:8080/"
        },
        "id": "jUhi51wirLti",
        "outputId": "87e5f6a3-186b-4fe5-f35c-36a1a3157967"
      },
      "source": [
        "ridge_model.fit(X_train, y_train)"
      ],
      "execution_count": 16,
      "outputs": [
        {
          "output_type": "execute_result",
          "data": {
            "text/plain": [
              "Ridge(alpha=10, copy_X=True, fit_intercept=True, max_iter=None, normalize=False,\n",
              "      random_state=None, solver='auto', tol=0.001)"
            ]
          },
          "metadata": {
            "tags": []
          },
          "execution_count": 16
        }
      ]
    },
    {
      "cell_type": "code",
      "metadata": {
        "id": "VXIYh6LorPUa"
      },
      "source": [
        "test_predictions = ridge_model.predict(X_test)"
      ],
      "execution_count": 17,
      "outputs": []
    },
    {
      "cell_type": "code",
      "metadata": {
        "id": "X7LcyjVUrTrh"
      },
      "source": [
        "from sklearn.metrics import mean_absolute_error,mean_squared_error"
      ],
      "execution_count": 18,
      "outputs": []
    },
    {
      "cell_type": "code",
      "metadata": {
        "id": "i3-R9gVZrZAy"
      },
      "source": [
        "MAE = mean_absolute_error(y_test, test_predictions)\n",
        "MSE = mean_squared_error(y_test, test_predictions)\n",
        "RMSE = np.sqrt(MSE)"
      ],
      "execution_count": 19,
      "outputs": []
    },
    {
      "cell_type": "code",
      "metadata": {
        "colab": {
          "base_uri": "https://localhost:8080/"
        },
        "id": "-pE4mam4rkDy",
        "outputId": "7173d2c1-1d86-4558-e050-f26dfa5f8e8e"
      },
      "source": [
        "MAE"
      ],
      "execution_count": 20,
      "outputs": [
        {
          "output_type": "execute_result",
          "data": {
            "text/plain": [
              "4.893012944033831"
            ]
          },
          "metadata": {
            "tags": []
          },
          "execution_count": 20
        }
      ]
    },
    {
      "cell_type": "code",
      "metadata": {
        "colab": {
          "base_uri": "https://localhost:8080/"
        },
        "id": "cWMDZG9NrmHL",
        "outputId": "668db107-2059-44e4-9073-b51dbc448fc5"
      },
      "source": [
        "RMSE"
      ],
      "execution_count": 21,
      "outputs": [
        {
          "output_type": "execute_result",
          "data": {
            "text/plain": [
              "7.394832641970107"
            ]
          },
          "metadata": {
            "tags": []
          },
          "execution_count": 21
        }
      ]
    },
    {
      "cell_type": "markdown",
      "metadata": {
        "id": "r88cwTwsr690"
      },
      "source": [
        "#Choosing an alpha value with Cross-Validation"
      ]
    },
    {
      "cell_type": "code",
      "metadata": {
        "id": "i0-eHypmr90X"
      },
      "source": [
        "from sklearn.linear_model import RidgeCV"
      ],
      "execution_count": 22,
      "outputs": []
    },
    {
      "cell_type": "code",
      "metadata": {
        "id": "jVP1wY4BsBfq"
      },
      "source": [
        "# Choosing a scoring: https://scikit-learn.org/stable/modules/model_evaluation.html\n",
        "# Negative RMSE so all metrics follow convention \"Higher is better\"\n",
        "# all options: sklearn.metrics.SCORERS.keys()\n",
        "\n",
        "#split in 10\n",
        "\n",
        "ridge_cv_model = RidgeCV(alphas=(0, 0.01, 0.1, 1.0, 10.0), scoring='neg_mean_absolute_error', cv = 5)"
      ],
      "execution_count": 23,
      "outputs": []
    },
    {
      "cell_type": "code",
      "metadata": {
        "colab": {
          "base_uri": "https://localhost:8080/"
        },
        "id": "O_P-78oxslrN",
        "outputId": "51d8d7dd-eca0-4e18-997c-18ef415217cd"
      },
      "source": [
        "ridge_cv_model.fit(X_train, y_train)"
      ],
      "execution_count": 24,
      "outputs": [
        {
          "output_type": "execute_result",
          "data": {
            "text/plain": [
              "RidgeCV(alphas=array([ 0.  ,  0.01,  0.1 ,  1.  , 10.  ]), cv=5,\n",
              "        fit_intercept=True, gcv_mode=None, normalize=False,\n",
              "        scoring='neg_mean_absolute_error', store_cv_values=False)"
            ]
          },
          "metadata": {
            "tags": []
          },
          "execution_count": 24
        }
      ]
    },
    {
      "cell_type": "code",
      "metadata": {
        "colab": {
          "base_uri": "https://localhost:8080/"
        },
        "id": "38Y77bMhsp0S",
        "outputId": "62fc4302-9a0e-4ded-d008-09df4584ded9"
      },
      "source": [
        "ridge_cv_model.alpha_"
      ],
      "execution_count": 25,
      "outputs": [
        {
          "output_type": "execute_result",
          "data": {
            "text/plain": [
              "0.0"
            ]
          },
          "metadata": {
            "tags": []
          },
          "execution_count": 25
        }
      ]
    },
    {
      "cell_type": "code",
      "metadata": {
        "id": "LA9Yl7fpsvAC"
      },
      "source": [
        "test_predictions = ridge_cv_model.predict(X_test)"
      ],
      "execution_count": 26,
      "outputs": []
    },
    {
      "cell_type": "code",
      "metadata": {
        "id": "ga8CvlkosyrL"
      },
      "source": [
        "MAE = mean_absolute_error(y_test,test_predictions)\n",
        "MSE = mean_squared_error(y_test,test_predictions)\n",
        "RMSE = np.sqrt(MSE)"
      ],
      "execution_count": 27,
      "outputs": []
    },
    {
      "cell_type": "code",
      "metadata": {
        "colab": {
          "base_uri": "https://localhost:8080/"
        },
        "id": "xvL25MN9s1hn",
        "outputId": "14224fea-117c-49ef-a162-6fd6477a2495"
      },
      "source": [
        "MAE"
      ],
      "execution_count": 28,
      "outputs": [
        {
          "output_type": "execute_result",
          "data": {
            "text/plain": [
              "4.74569760554947"
            ]
          },
          "metadata": {
            "tags": []
          },
          "execution_count": 28
        }
      ]
    },
    {
      "cell_type": "code",
      "metadata": {
        "colab": {
          "base_uri": "https://localhost:8080/"
        },
        "id": "0tEPYPN7s2Vy",
        "outputId": "038c6d05-eb53-44fd-fd88-9d418f5b5d38"
      },
      "source": [
        "RMSE"
      ],
      "execution_count": 29,
      "outputs": [
        {
          "output_type": "execute_result",
          "data": {
            "text/plain": [
              "7.256573608311337"
            ]
          },
          "metadata": {
            "tags": []
          },
          "execution_count": 29
        }
      ]
    },
    {
      "cell_type": "markdown",
      "metadata": {
        "id": "XALvaCwVJZ8k"
      },
      "source": [
        "Ridge regression with cross-validation on standardized data"
      ]
    },
    {
      "cell_type": "code",
      "metadata": {
        "colab": {
          "base_uri": "https://localhost:8080/"
        },
        "id": "knZ8BtxVs35q",
        "outputId": "f31d8d45-3057-42fc-8503-397d7486b6bb"
      },
      "source": [
        "ridge_cv_model.coef_"
      ],
      "execution_count": 30,
      "outputs": [
        {
          "output_type": "execute_result",
          "data": {
            "text/plain": [
              "array([-3.83006809e+01,  8.41790400e+01,  4.95523288e+01, -3.77231415e+02,\n",
              "        2.42826689e+02, -1.46496312e+02,  7.50817373e+02,  3.77596018e+01,\n",
              "       -5.06481427e+01,  6.33708633e-01,  4.75213262e+02, -3.24015625e+02,\n",
              "       -1.23089940e+02, -7.24319403e+02, -3.59757573e+01,  1.29009495e+00,\n",
              "       -6.55852875e+01,  5.91107485e+00,  1.15605835e+02,  4.05556004e+00,\n",
              "        1.31089955e+01, -3.00721028e+01,  6.70658028e+01, -1.40571097e+02,\n",
              "       -2.42496355e+02, -2.43125878e+02,  8.78256527e+00, -6.50851566e+01,\n",
              "        4.82550654e+02,  1.79563050e+02,  1.07579218e+02,  3.88122716e+02,\n",
              "       -1.06780454e+01,  1.67892608e+02, -2.06623970e+02,  2.18728317e+01,\n",
              "       -4.36853411e+01, -3.84365438e+01, -1.75283159e+02,  1.40741455e+02,\n",
              "        5.63878818e+01,  1.10917555e+02,  5.82801745e+01,  6.82807490e+00,\n",
              "        8.01897735e+01, -2.57181798e+01, -2.39102312e+01, -2.11027794e+01,\n",
              "       -1.85687924e+00, -4.92591887e+01, -5.06518950e+01,  1.54626059e+01,\n",
              "        1.78801705e+02, -9.30936850e+00,  3.11218049e+01,  6.24094852e+01,\n",
              "        6.54928819e+01, -7.75201227e+01, -2.15573371e+02, -3.64552129e+02,\n",
              "        1.89314366e+01, -7.78930493e+01,  1.49722552e+00, -1.51348356e+01,\n",
              "       -2.19561139e+00,  3.08661381e+00, -2.05563037e+00, -3.23985040e+00,\n",
              "        6.20856005e-01, -4.13407015e+00,  1.68024033e+01,  3.46164984e+00,\n",
              "        4.30390074e+00,  3.27258337e+01, -9.43741375e+00,  1.19129156e+01,\n",
              "       -1.30425972e+01, -7.59203244e+00, -1.13097777e+01,  3.20300163e+01,\n",
              "       -1.74200666e+00,  1.16518911e-01,  4.59395286e+00,  1.38151760e+01,\n",
              "        8.64762556e+00, -9.20594489e+01,  4.09090078e+00, -1.27853419e+01,\n",
              "        7.37208420e+01,  6.74797197e+01, -7.90236311e+01, -6.93371650e+00,\n",
              "       -1.49149362e+02,  2.86805985e+01, -1.22934349e+02,  1.68876029e+02,\n",
              "       -1.33369342e+01,  7.52274028e+01,  2.25562879e+02, -2.29283919e+01,\n",
              "        2.14213455e+01,  3.59739906e+01,  1.16916055e+02, -3.99517434e+01,\n",
              "       -1.06703761e+01,  7.69085919e+01,  2.23564599e+01, -7.55251445e+01,\n",
              "       -2.17653614e+02,  9.06724488e+01, -1.11147635e+02, -2.82125200e+01,\n",
              "       -1.06362130e+02, -4.70794723e+01, -1.06350842e+02, -1.36288590e+01,\n",
              "       -5.63885199e+01,  5.16303708e+01,  6.83833712e+01])"
            ]
          },
          "metadata": {
            "tags": []
          },
          "execution_count": 30
        }
      ]
    },
    {
      "cell_type": "markdown",
      "metadata": {
        "id": "afZBoq7Fs-UZ"
      },
      "source": [
        "#Lasso Regression"
      ]
    },
    {
      "cell_type": "code",
      "metadata": {
        "id": "2PX3xqAss9ii"
      },
      "source": [
        "from sklearn.linear_model import LassoCV"
      ],
      "execution_count": 31,
      "outputs": []
    },
    {
      "cell_type": "code",
      "metadata": {
        "id": "vME9CvSktC7r"
      },
      "source": [
        "lasso_cv_model = LassoCV(eps=0.01,n_alphas=100,cv=5)"
      ],
      "execution_count": 32,
      "outputs": []
    },
    {
      "cell_type": "code",
      "metadata": {
        "colab": {
          "base_uri": "https://localhost:8080/"
        },
        "id": "utp6HzQ4tH97",
        "outputId": "31033d9a-0db7-4896-e4a5-2ba99ad9d501"
      },
      "source": [
        "lasso_cv_model.fit(X_train, y_train)"
      ],
      "execution_count": 33,
      "outputs": [
        {
          "output_type": "execute_result",
          "data": {
            "text/plain": [
              "LassoCV(alphas=None, copy_X=True, cv=5, eps=0.01, fit_intercept=True,\n",
              "        max_iter=1000, n_alphas=100, n_jobs=None, normalize=False,\n",
              "        positive=False, precompute='auto', random_state=None,\n",
              "        selection='cyclic', tol=0.0001, verbose=False)"
            ]
          },
          "metadata": {
            "tags": []
          },
          "execution_count": 33
        }
      ]
    },
    {
      "cell_type": "code",
      "metadata": {
        "colab": {
          "base_uri": "https://localhost:8080/"
        },
        "id": "nylIf8lPtMJr",
        "outputId": "3f2eb9ab-773f-4840-de3e-1864dd8ed281"
      },
      "source": [
        "lasso_cv_model.alpha_"
      ],
      "execution_count": 34,
      "outputs": [
        {
          "output_type": "execute_result",
          "data": {
            "text/plain": [
              "0.09877305286738816"
            ]
          },
          "metadata": {
            "tags": []
          },
          "execution_count": 34
        }
      ]
    },
    {
      "cell_type": "code",
      "metadata": {
        "id": "4mEFL8lItOaK"
      },
      "source": [
        "test_predictions = lasso_cv_model.predict(X_test)"
      ],
      "execution_count": 35,
      "outputs": []
    },
    {
      "cell_type": "code",
      "metadata": {
        "id": "XgjfZVlntSri"
      },
      "source": [
        "MAE = mean_absolute_error(y_test,test_predictions)\n",
        "MSE = mean_squared_error(y_test,test_predictions)\n",
        "RMSE = np.sqrt(MSE)"
      ],
      "execution_count": 36,
      "outputs": []
    },
    {
      "cell_type": "code",
      "metadata": {
        "colab": {
          "base_uri": "https://localhost:8080/"
        },
        "id": "Qem_dMCItVNf",
        "outputId": "57339a57-abec-42c9-f1c2-07b3830265fe"
      },
      "source": [
        "MAE"
      ],
      "execution_count": 37,
      "outputs": [
        {
          "output_type": "execute_result",
          "data": {
            "text/plain": [
              "8.175948866659608"
            ]
          },
          "metadata": {
            "tags": []
          },
          "execution_count": 37
        }
      ]
    },
    {
      "cell_type": "code",
      "metadata": {
        "colab": {
          "base_uri": "https://localhost:8080/"
        },
        "id": "os2o4MwVtVs6",
        "outputId": "9980365b-4ded-4ba5-f599-bf556daa1a18"
      },
      "source": [
        "RMSE"
      ],
      "execution_count": 38,
      "outputs": [
        {
          "output_type": "execute_result",
          "data": {
            "text/plain": [
              "10.672705074383575"
            ]
          },
          "metadata": {
            "tags": []
          },
          "execution_count": 38
        }
      ]
    },
    {
      "cell_type": "code",
      "metadata": {
        "colab": {
          "base_uri": "https://localhost:8080/"
        },
        "id": "6CivkZTjtWUK",
        "outputId": "574b13c7-37f6-4a89-82c0-3ec69ff7ed1c"
      },
      "source": [
        "lasso_cv_model.coef_"
      ],
      "execution_count": 39,
      "outputs": [
        {
          "output_type": "execute_result",
          "data": {
            "text/plain": [
              "array([ 0.        ,  8.04853274, -0.        , -0.        , -0.        ,\n",
              "       -4.43564414, 16.89532481,  0.        ,  0.        , -0.        ,\n",
              "       -0.        ,  0.        , -0.        ,  0.        , -0.        ,\n",
              "       -0.        ,  0.        , -0.        ,  0.        ,  0.        ,\n",
              "        0.        , -0.        , -0.        , -0.        ,  0.        ,\n",
              "       -0.        , -0.        ,  0.        ,  0.        , -0.        ,\n",
              "        0.        , -0.        ,  6.70875522, -0.        ,  0.5162863 ,\n",
              "        8.18881108,  0.        , -0.        , -9.23476327,  0.        ,\n",
              "        0.        , -0.        , -0.        , -0.        ,  0.        ,\n",
              "        0.        ,  0.        ,  0.        ,  0.        , -0.        ,\n",
              "       -0.        , -0.        , -0.        , -0.        , -0.        ,\n",
              "        0.        ,  0.        , -0.        ,  0.        ,  0.        ,\n",
              "        0.        , -0.        ,  0.        , -0.75772829,  0.        ,\n",
              "        0.03374019, -0.17309043,  0.        ,  0.        ,  1.30278423,\n",
              "       -0.21011415, -0.        ,  0.        , -1.08962345, -0.        ,\n",
              "       -0.        ,  0.        ,  0.        , -4.95956895, -0.11959791,\n",
              "        0.        , -0.        ,  0.        , -0.        ,  0.23225959,\n",
              "       -0.        , -0.79294338, -0.        ,  0.        , -0.92819938,\n",
              "        0.64686763,  1.93185062, -0.        ,  0.20221667,  0.        ,\n",
              "       -0.        , -0.        , -0.        ,  0.        , -0.        ,\n",
              "       -0.        , -0.        ,  0.        , -7.73050376, -0.        ,\n",
              "       -0.        , -0.        , -0.        ,  2.85143334,  1.75670968,\n",
              "       -0.        , -0.        , -0.        ,  0.        ,  0.        ,\n",
              "       -0.        ,  0.        , -0.36188424,  0.        ])"
            ]
          },
          "metadata": {
            "tags": []
          },
          "execution_count": 39
        }
      ]
    },
    {
      "cell_type": "markdown",
      "metadata": {
        "id": "xYQM96betaDi"
      },
      "source": [
        "#Elastic Net"
      ]
    },
    {
      "cell_type": "code",
      "metadata": {
        "id": "xgBUcq9TtYjC"
      },
      "source": [
        "from sklearn.linear_model import ElasticNetCV"
      ],
      "execution_count": 40,
      "outputs": []
    },
    {
      "cell_type": "code",
      "metadata": {
        "id": "74wdUjOctgUS"
      },
      "source": [
        "elastic_model = ElasticNetCV(eps=0.01,n_alphas=1000, l1_ratio=[0.001,.1, .5, .7,.9, .95, .99, 1],tol=0.01, max_iter = 10000)"
      ],
      "execution_count": 41,
      "outputs": []
    },
    {
      "cell_type": "code",
      "metadata": {
        "colab": {
          "base_uri": "https://localhost:8080/"
        },
        "id": "CjrraAOatwxT",
        "outputId": "b80e6084-5cb5-4133-bcad-49b0cb64dfea"
      },
      "source": [
        "elastic_model.fit(X_train,y_train)"
      ],
      "execution_count": 42,
      "outputs": [
        {
          "output_type": "execute_result",
          "data": {
            "text/plain": [
              "ElasticNetCV(alphas=None, copy_X=True, cv=None, eps=0.01, fit_intercept=True,\n",
              "             l1_ratio=[0.001, 0.1, 0.5, 0.7, 0.9, 0.95, 0.99, 1],\n",
              "             max_iter=10000, n_alphas=1000, n_jobs=None, normalize=False,\n",
              "             positive=False, precompute='auto', random_state=None,\n",
              "             selection='cyclic', tol=0.01, verbose=0)"
            ]
          },
          "metadata": {
            "tags": []
          },
          "execution_count": 42
        }
      ]
    },
    {
      "cell_type": "code",
      "metadata": {
        "colab": {
          "base_uri": "https://localhost:8080/"
        },
        "id": "UsDfHVVnt5WI",
        "outputId": "4c167a30-322f-463f-af59-be489a471e36"
      },
      "source": [
        "elastic_model.l1_ratio_"
      ],
      "execution_count": 43,
      "outputs": [
        {
          "output_type": "execute_result",
          "data": {
            "text/plain": [
              "1.0"
            ]
          },
          "metadata": {
            "tags": []
          },
          "execution_count": 43
        }
      ]
    },
    {
      "cell_type": "code",
      "metadata": {
        "id": "u56IqYd-t6-q"
      },
      "source": [
        "test_predictions = elastic_model.predict(X_test)"
      ],
      "execution_count": 44,
      "outputs": []
    },
    {
      "cell_type": "code",
      "metadata": {
        "id": "XjkExr2Zt9um"
      },
      "source": [
        "MAE = mean_absolute_error(y_test,test_predictions)\n",
        "MSE = mean_squared_error(y_test,test_predictions)\n",
        "RMSE = np.sqrt(MSE)"
      ],
      "execution_count": 45,
      "outputs": []
    },
    {
      "cell_type": "code",
      "metadata": {
        "colab": {
          "base_uri": "https://localhost:8080/"
        },
        "id": "pBXaQuUuuAnM",
        "outputId": "2ee907ea-0216-49e0-8214-4329d7268342"
      },
      "source": [
        "MAE"
      ],
      "execution_count": 46,
      "outputs": [
        {
          "output_type": "execute_result",
          "data": {
            "text/plain": [
              "8.1473847702098"
            ]
          },
          "metadata": {
            "tags": []
          },
          "execution_count": 46
        }
      ]
    },
    {
      "cell_type": "code",
      "metadata": {
        "colab": {
          "base_uri": "https://localhost:8080/"
        },
        "id": "jdfEwHZSuBIV",
        "outputId": "6c1fdc2a-248f-4b42-fecd-6377ca59a11a"
      },
      "source": [
        "RMSE"
      ],
      "execution_count": 47,
      "outputs": [
        {
          "output_type": "execute_result",
          "data": {
            "text/plain": [
              "10.62717497516822"
            ]
          },
          "metadata": {
            "tags": []
          },
          "execution_count": 47
        }
      ]
    },
    {
      "cell_type": "code",
      "metadata": {
        "colab": {
          "base_uri": "https://localhost:8080/"
        },
        "id": "nzcwafjHuBzS",
        "outputId": "64a67721-bd11-43af-b03e-03307cba7225"
      },
      "source": [
        "elastic_model.coef_"
      ],
      "execution_count": 48,
      "outputs": [
        {
          "output_type": "execute_result",
          "data": {
            "text/plain": [
              "array([ 0.        ,  8.03177772, -0.        , -0.        , -0.        ,\n",
              "       -5.94435217, 18.87427537,  2.94676764,  0.        , -0.        ,\n",
              "       -1.88188023, -0.        , -0.        ,  0.        ,  0.        ,\n",
              "        0.        ,  0.        , -0.        ,  0.        ,  0.        ,\n",
              "        0.        , -0.        , -0.        , -0.38066169,  0.        ,\n",
              "       -0.        , -0.        ,  0.        ,  0.        ,  0.        ,\n",
              "        0.        , -0.        ,  6.16828913, -0.        ,  0.        ,\n",
              "        5.30377508,  0.        , -0.        , -8.27069788,  0.        ,\n",
              "        0.        , -0.        , -0.        , -0.        ,  0.        ,\n",
              "        0.        ,  0.        ,  0.        ,  0.        , -0.91697666,\n",
              "       -0.        , -0.        , -0.        , -0.        , -0.        ,\n",
              "        0.        ,  0.        , -0.67502401, -0.        ,  0.        ,\n",
              "        0.        , -0.        ,  0.        , -0.77917284,  0.        ,\n",
              "        0.09293601, -0.14258309,  0.        ,  0.        ,  1.08690236,\n",
              "       -0.18641346, -0.        ,  0.        , -0.754614  , -0.        ,\n",
              "       -0.        ,  0.        ,  0.        , -4.16263994, -0.68874916,\n",
              "        0.46240904, -0.        ,  0.        , -0.        ,  0.37485734,\n",
              "       -0.        , -1.04530388, -0.        , -0.        , -0.87875471,\n",
              "        0.82807068,  1.92439558, -0.        ,  0.        ,  0.        ,\n",
              "       -0.        , -0.        ,  0.        ,  0.        , -0.        ,\n",
              "       -0.        , -0.        ,  0.        , -7.93436672, -0.        ,\n",
              "       -0.        , -0.        , -0.        ,  2.81862065,  2.30471225,\n",
              "       -0.        , -0.        , -0.        ,  0.        ,  0.        ,\n",
              "        0.        ,  0.        , -0.10121803,  0.        ])"
            ]
          },
          "metadata": {
            "tags": []
          },
          "execution_count": 48
        }
      ]
    }
  ]
}
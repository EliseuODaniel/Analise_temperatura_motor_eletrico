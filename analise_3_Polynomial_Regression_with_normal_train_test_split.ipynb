{
  "nbformat": 4,
  "nbformat_minor": 0,
  "metadata": {
    "colab": {
      "name": "analise_3_Polynomial_Regression_with_normal_train_test_split.ipynb",
      "provenance": [],
      "collapsed_sections": [],
      "mount_file_id": "1JXyjo6IlVyYkEYZBQhQYzuqvc5N7eFN1",
      "authorship_tag": "ABX9TyNVH+1z+0Qs7Kls14n72LSG",
      "include_colab_link": true
    },
    "kernelspec": {
      "name": "python3",
      "display_name": "Python 3"
    },
    "language_info": {
      "name": "python"
    },
    "accelerator": "GPU"
  },
  "cells": [
    {
      "cell_type": "markdown",
      "metadata": {
        "id": "view-in-github",
        "colab_type": "text"
      },
      "source": [
        "<a href=\"https://colab.research.google.com/github/EliseuODaniel/Analise_temperatura_motor_eletrico/blob/main/analise_3_Polynomial_Regression_with_normal_train_test_split.ipynb\" target=\"_parent\"><img src=\"https://colab.research.google.com/assets/colab-badge.svg\" alt=\"Open In Colab\"/></a>"
      ]
    },
    {
      "cell_type": "markdown",
      "metadata": {
        "id": "uWhkCVcOF-Dt"
      },
      "source": [
        "# Polynomial Regression"
      ]
    },
    {
      "cell_type": "code",
      "metadata": {
        "id": "AKokCHH42Pw3",
        "colab": {
          "base_uri": "https://localhost:8080/"
        },
        "outputId": "3708e069-afe2-415f-dbc2-6c38d07f930d"
      },
      "source": [
        "import numpy as np \n",
        "import pandas as pd\n",
        "import matplotlib.pyplot as plt\n",
        "from matplotlib.colors import rgb2hex\n",
        "import seaborn as sns\n",
        "import scipy.stats as stats\n",
        "import statsmodels.api as sm\n",
        "import os"
      ],
      "execution_count": 1,
      "outputs": [
        {
          "output_type": "stream",
          "text": [
            "/usr/local/lib/python3.7/dist-packages/statsmodels/tools/_testing.py:19: FutureWarning: pandas.util.testing is deprecated. Use the functions in the public API at pandas.testing instead.\n",
            "  import pandas.util.testing as tm\n"
          ],
          "name": "stderr"
        }
      ]
    },
    {
      "cell_type": "markdown",
      "metadata": {
        "id": "8lyY_YEsdMay"
      },
      "source": [
        "#Data and Setup"
      ]
    },
    {
      "cell_type": "code",
      "metadata": {
        "id": "bl24JgfS9zJu"
      },
      "source": [
        "df = pd.read_csv('/content/drive/MyDrive/Colab Notebooks/notebooks/input/measures_v2.csv')\n",
        "# remoção da coluna torque, pois não servirá como variável nem de entrada e nem de saída\n",
        "X = df[['ambient', 'coolant','i_q', 'u_q','i_d', 'u_d', 'motor_speed']]\n",
        "y = df['pm']"
      ],
      "execution_count": 2,
      "outputs": []
    },
    {
      "cell_type": "markdown",
      "metadata": {
        "id": "DepPoTbwc56x"
      },
      "source": [
        "#Polynomial conversion"
      ]
    },
    {
      "cell_type": "code",
      "metadata": {
        "id": "xMO_Nsfgc45w"
      },
      "source": [
        "from sklearn.preprocessing import PolynomialFeatures"
      ],
      "execution_count": 3,
      "outputs": []
    },
    {
      "cell_type": "markdown",
      "metadata": {
        "id": "bVwreASwm0ZE"
      },
      "source": [
        "regressão polinomial de grau 3 selecionada:"
      ]
    },
    {
      "cell_type": "code",
      "metadata": {
        "id": "UKeZZeQdc_Lo"
      },
      "source": [
        "polynomial_converter = PolynomialFeatures(degree=3,include_bias=False)"
      ],
      "execution_count": 4,
      "outputs": []
    },
    {
      "cell_type": "code",
      "metadata": {
        "id": "w1Eit5sPdBxu"
      },
      "source": [
        "poly_features = polynomial_converter.fit_transform(X)"
      ],
      "execution_count": 5,
      "outputs": []
    },
    {
      "cell_type": "markdown",
      "metadata": {
        "id": "A1r4k-aLGKYs"
      },
      "source": [
        "#Separação entre Datasets de treino e de teste"
      ]
    },
    {
      "cell_type": "code",
      "metadata": {
        "id": "DoLQKrXnAME5"
      },
      "source": [
        "from sklearn.model_selection import train_test_split\n",
        "\n",
        "X_train_poly_features, X_test_poly_features, y_train, y_test = train_test_split(poly_features, y, test_size=0.3, random_state=101)\n"
      ],
      "execution_count": 6,
      "outputs": []
    },
    {
      "cell_type": "markdown",
      "metadata": {
        "id": "Mz4p4CqwMA_a"
      },
      "source": [
        "a variável motor_speed cria resíduos distantes da média, como outliers. Talvez pela unidade da medida de velocidade. E que, ao ser multiplicada ao quadrado, gera valores maiores que os das outras unidades."
      ]
    },
    {
      "cell_type": "code",
      "metadata": {
        "colab": {
          "base_uri": "https://localhost:8080/"
        },
        "id": "X3mh382lIT4e",
        "outputId": "3130e0ae-41f9-4999-edc3-4f5f38a1f472"
      },
      "source": [
        "X_train_poly_features.shape"
      ],
      "execution_count": 7,
      "outputs": [
        {
          "output_type": "execute_result",
          "data": {
            "text/plain": [
              "(931571, 119)"
            ]
          },
          "metadata": {
            "tags": []
          },
          "execution_count": 7
        }
      ]
    },
    {
      "cell_type": "code",
      "metadata": {
        "colab": {
          "base_uri": "https://localhost:8080/"
        },
        "id": "wNOvX-WoIXVJ",
        "outputId": "6a6d682e-b9ea-4b74-acd6-852dd25426a7"
      },
      "source": [
        "X_test_poly_features.shape"
      ],
      "execution_count": 8,
      "outputs": [
        {
          "output_type": "execute_result",
          "data": {
            "text/plain": [
              "(399245, 119)"
            ]
          },
          "metadata": {
            "tags": []
          },
          "execution_count": 8
        }
      ]
    },
    {
      "cell_type": "markdown",
      "metadata": {
        "id": "ZrwPU49cGSV6"
      },
      "source": [
        "# Modeling"
      ]
    },
    {
      "cell_type": "code",
      "metadata": {
        "id": "RCd1rgcxDqk3"
      },
      "source": [
        "from sklearn.linear_model import LinearRegression\n",
        "model = LinearRegression(fit_intercept=True)\n",
        "model.fit(X_train_poly_features,y_train)\n",
        "test_predictions = model.predict(X_test_poly_features)"
      ],
      "execution_count": 9,
      "outputs": []
    },
    {
      "cell_type": "markdown",
      "metadata": {
        "id": "Y5twd5BaEMOp"
      },
      "source": [
        "# Mensuração dos erros"
      ]
    },
    {
      "cell_type": "code",
      "metadata": {
        "id": "e0cViF-HEAyH"
      },
      "source": [
        "from sklearn.metrics import mean_absolute_error,mean_squared_error"
      ],
      "execution_count": 10,
      "outputs": []
    },
    {
      "cell_type": "code",
      "metadata": {
        "id": "wWQ0lraOESNe"
      },
      "source": [
        "MAE = mean_absolute_error(y_test,test_predictions)\n",
        "MSE = mean_squared_error(y_test,test_predictions)\n",
        "RMSE = np.sqrt(MSE)"
      ],
      "execution_count": 11,
      "outputs": []
    },
    {
      "cell_type": "code",
      "metadata": {
        "colab": {
          "base_uri": "https://localhost:8080/"
        },
        "id": "h3nSVWjwEWkF",
        "outputId": "2b23c560-2058-4d50-e865-e433df185171"
      },
      "source": [
        "MAE"
      ],
      "execution_count": 12,
      "outputs": [
        {
          "output_type": "execute_result",
          "data": {
            "text/plain": [
              "4.745702075088555"
            ]
          },
          "metadata": {
            "tags": []
          },
          "execution_count": 12
        }
      ]
    },
    {
      "cell_type": "code",
      "metadata": {
        "colab": {
          "base_uri": "https://localhost:8080/"
        },
        "id": "LrPQ2hnDEy-q",
        "outputId": "7ef2d86c-7ea8-443f-bbe5-402b430b2da5"
      },
      "source": [
        "MSE"
      ],
      "execution_count": 13,
      "outputs": [
        {
          "output_type": "execute_result",
          "data": {
            "text/plain": [
              "52.65786342737679"
            ]
          },
          "metadata": {
            "tags": []
          },
          "execution_count": 13
        }
      ]
    },
    {
      "cell_type": "code",
      "metadata": {
        "colab": {
          "base_uri": "https://localhost:8080/"
        },
        "id": "TnA1gtmiE0Du",
        "outputId": "79920d23-d195-44bd-e821-f846dc0625b7"
      },
      "source": [
        "RMSE"
      ],
      "execution_count": 14,
      "outputs": [
        {
          "output_type": "execute_result",
          "data": {
            "text/plain": [
              "7.256573807753683"
            ]
          },
          "metadata": {
            "tags": []
          },
          "execution_count": 14
        }
      ]
    },
    {
      "cell_type": "code",
      "metadata": {
        "colab": {
          "base_uri": "https://localhost:8080/"
        },
        "id": "kXK5US64E0vn",
        "outputId": "7c7d22f2-286a-460f-fc84-c8a3928e0da3"
      },
      "source": [
        "#valor médio das temperaturas do rotor em todo o dataset - para comparar com o RMSE\n",
        "#ou seja, as previsões do modelo variam na media de 58,51 entre 9.25 para mais e para menos\n",
        "df['pm'].mean()"
      ],
      "execution_count": 15,
      "outputs": [
        {
          "output_type": "execute_result",
          "data": {
            "text/plain": [
              "58.50677585061459"
            ]
          },
          "metadata": {
            "tags": []
          },
          "execution_count": 15
        }
      ]
    },
    {
      "cell_type": "markdown",
      "metadata": {
        "id": "v0N7XVsAE-2Q"
      },
      "source": [
        "Comparison with multiple linear regression  \n",
        "MAE = 9.273602494057618  \n",
        "MSE = 143.54079870823813  \n",
        "RMSE = 11.980851334869243  "
      ]
    },
    {
      "cell_type": "code",
      "metadata": {
        "colab": {
          "base_uri": "https://localhost:8080/"
        },
        "id": "4NiyCR-eFR4p",
        "outputId": "5e10f878-4f64-4537-8b6e-fcd50a94d662"
      },
      "source": [
        "model.coef_"
      ],
      "execution_count": 16,
      "outputs": [
        {
          "output_type": "execute_result",
          "data": {
            "text/plain": [
              "array([-1.98466857e+01,  3.86334563e+00,  5.37582512e-01, -8.54309283e+00,\n",
              "        3.74064131e+00, -2.32176919e+00,  4.03834920e-01,  4.03238941e-01,\n",
              "       -8.64629379e-02,  2.79107417e-04,  4.26872738e-01, -2.04387380e-01,\n",
              "       -7.81756541e-02, -1.55919105e-02, -1.69754280e-02,  3.36776672e-04,\n",
              "       -2.82436358e-02,  2.12633917e-03,  4.22163148e-02,  4.40502038e-05,\n",
              "        8.77245753e-04, -6.59945527e-03,  6.23639831e-03, -2.23683097e-02,\n",
              "       -1.22573915e-03, -4.31525985e-02,  2.02816745e-03, -1.58149916e-02,\n",
              "        2.42741571e-03,  1.42702706e-02,  1.13305427e-02,  1.28444750e-03,\n",
              "       -1.84580176e-03,  6.98752433e-04, -2.07500361e-05,  6.36432855e-03,\n",
              "       -2.76035863e-03, -6.77241460e-04, -6.14682798e-03,  3.55343909e-03,\n",
              "        1.41695608e-03,  9.37857075e-05,  1.05614543e-03,  6.91284308e-05,\n",
              "        1.31993134e-03, -3.54599280e-04, -3.36684066e-04, -8.76017715e-06,\n",
              "       -5.16431714e-06, -4.30543677e-04, -1.93700301e-04,  9.88898052e-05,\n",
              "        3.61504129e-05, -6.58895726e-05,  2.86209898e-04,  6.00599079e-04,\n",
              "        1.31026494e-05, -2.56141231e-04, -9.26762034e-04, -4.93464810e-05,\n",
              "        1.32886530e-04, -1.30843341e-05,  6.05966644e-09, -8.30655140e-05,\n",
              "       -9.10732549e-06,  1.71825122e-05, -1.02471004e-05, -1.81442516e-05,\n",
              "        8.84673349e-08, -6.93277746e-06,  8.15864012e-05,  8.20425539e-06,\n",
              "        1.51790504e-05,  3.76996834e-06, -3.47737306e-05,  5.66559801e-05,\n",
              "       -6.75958244e-05, -7.74825551e-07, -2.49265009e-05,  8.75852692e-05,\n",
              "       -1.44749216e-07,  4.76318602e-07,  4.65052017e-07,  3.13234283e-08,\n",
              "        2.26491580e-06, -1.70732214e-04,  2.11683248e-06, -9.67129280e-06,\n",
              "        3.48794468e-06,  1.90790164e-04, -1.90075192e-04, -2.04541793e-05,\n",
              "       -1.18577384e-05,  1.63619593e-05, -1.24315084e-04,  5.70740955e-06,\n",
              "       -1.56530760e-05,  4.16893655e-06,  3.10563837e-07, -3.22558851e-05,\n",
              "        4.47510926e-05,  9.94537176e-05,  4.79816734e-06, -7.17864414e-05,\n",
              "       -2.33594035e-05,  3.50734535e-06,  7.13129125e-05, -4.76962196e-06,\n",
              "       -2.19836183e-07,  3.56655894e-05, -6.39576268e-05, -5.19480478e-07,\n",
              "       -1.01923194e-04, -1.19635892e-06, -6.96312474e-08, -1.66495241e-05,\n",
              "       -2.36846673e-06,  4.67312976e-08,  1.27615873e-09])"
            ]
          },
          "metadata": {
            "tags": []
          },
          "execution_count": 16
        }
      ]
    },
    {
      "cell_type": "code",
      "metadata": {
        "colab": {
          "base_uri": "https://localhost:8080/",
          "height": 296
        },
        "id": "hVgbBW4pHJd4",
        "outputId": "1db05086-a794-4b05-9d1f-200fb92d4575"
      },
      "source": [
        "# plotagem da distribuição dos resíduos\n",
        "test_res = y_test - test_predictions\n",
        "\n",
        "sns.scatterplot(x=y_test,y=test_res)\n",
        "plt.axhline(y=0, color='r', linestyle='--')"
      ],
      "execution_count": 17,
      "outputs": [
        {
          "output_type": "execute_result",
          "data": {
            "text/plain": [
              "<matplotlib.lines.Line2D at 0x7f39d8a46750>"
            ]
          },
          "metadata": {
            "tags": []
          },
          "execution_count": 17
        },
        {
          "output_type": "display_data",
          "data": {
            "image/png": "[encoded data removed]",
            "text/plain": [
              "<Figure size 432x288 with 1 Axes>"
            ]
          },
          "metadata": {
            "tags": [],
            "needs_background": "light"
          }
        }
      ]
    },
    {
      "cell_type": "code",
      "metadata": {
        "colab": {
          "base_uri": "https://localhost:8080/",
          "height": 386
        },
        "id": "_GXVJtxDHMoT",
        "outputId": "73998776-1af7-490c-9244-79a05a988c15"
      },
      "source": [
        "#plotagem da distribuição dos resíduos pra verificar visualmente a normalidade\n",
        "sns.displot(test_res,bins=25,kde=True)"
      ],
      "execution_count": 18,
      "outputs": [
        {
          "output_type": "execute_result",
          "data": {
            "text/plain": [
              "<seaborn.axisgrid.FacetGrid at 0x7f39d8a5fd10>"
            ]
          },
          "metadata": {
            "tags": []
          },
          "execution_count": 18
        },
        {
          "output_type": "display_data",
          "data": {
            "image/png": "[encoded data removed]",
            "text/plain": [
              "<Figure size 360x360 with 1 Axes>"
            ]
          },
          "metadata": {
            "tags": [],
            "needs_background": "light"
          }
        }
      ]
    },
    {
      "cell_type": "code",
      "metadata": {
        "colab": {
          "base_uri": "https://localhost:8080/",
          "height": 706
        },
        "id": "RrK-cFRWHX2l",
        "outputId": "5be749f0-512c-4c76-bab8-d659356f752a"
      },
      "source": [
        "import scipy as sp\n",
        "# Create a figure and axis to plot on\n",
        "fig, ax = plt.subplots(figsize=(6,8),dpi=100)\n",
        "# probplot returns the raw values if needed\n",
        "# we just want to see the plot, so we assign these values to _\n",
        "_ = sp.stats.probplot(test_res,plot=ax)"
      ],
      "execution_count": 19,
      "outputs": [
        {
          "output_type": "display_data",
          "data": {
            "image/png": "[encoded data removed]",
            "text/plain": [
              "<Figure size 600x800 with 1 Axes>"
            ]
          },
          "metadata": {
            "tags": [],
            "needs_background": "light"
          }
        }
      ]
    },
    {
      "cell_type": "markdown",
      "metadata": {
        "id": "sUXgTXa9Oaka"
      },
      "source": [
        "os resíduos distantes da normal devem-se à variável motor_speed como mencionado mais acima"
      ]
    },
    {
      "cell_type": "code",
      "metadata": {
        "colab": {
          "base_uri": "https://localhost:8080/",
          "height": 1000
        },
        "id": "iBn6g5mQOhe1",
        "outputId": "3657f1df-0cad-441f-8c6b-8105e84fed6b"
      },
      "source": [
        "import statsmodels.api as sm\n",
        "X_train_const = sm.add_constant(X_train_poly_features)\n",
        "lin_reg = sm.OLS(y_train,X_train_const).fit()\n",
        "lin_reg.summary()"
      ],
      "execution_count": 20,
      "outputs": [
        {
          "output_type": "execute_result",
          "data": {
            "text/html": [
              "<table class=\"simpletable\">\n",
              "<caption>OLS Regression Results</caption>\n",
              "<tr>\n",
              "  <th>Dep. Variable:</th>           <td>pm</td>        <th>  R-squared:         </th>  <td>   0.853</td>  \n",
              "</tr>\n",
              "<tr>\n",
              "  <th>Model:</th>                   <td>OLS</td>       <th>  Adj. R-squared:    </th>  <td>   0.853</td>  \n",
              "</tr>\n",
              "<tr>\n",
              "  <th>Method:</th>             <td>Least Squares</td>  <th>  F-statistic:       </th>  <td>4.592e+04</td> \n",
              "</tr>\n",
              "<tr>\n",
              "  <th>Date:</th>             <td>Fri, 16 Jul 2021</td> <th>  Prob (F-statistic):</th>   <td>  0.00</td>   \n",
              "</tr>\n",
              "<tr>\n",
              "  <th>Time:</th>                 <td>18:36:02</td>     <th>  Log-Likelihood:    </th> <td>-3.1706e+06</td>\n",
              "</tr>\n",
              "<tr>\n",
              "  <th>No. Observations:</th>      <td>931571</td>      <th>  AIC:               </th>  <td>6.342e+06</td> \n",
              "</tr>\n",
              "<tr>\n",
              "  <th>Df Residuals:</th>          <td>931452</td>      <th>  BIC:               </th>  <td>6.343e+06</td> \n",
              "</tr>\n",
              "<tr>\n",
              "  <th>Df Model:</th>              <td>   118</td>      <th>                     </th>      <td> </td>     \n",
              "</tr>\n",
              "<tr>\n",
              "  <th>Covariance Type:</th>      <td>nonrobust</td>    <th>                     </th>      <td> </td>     \n",
              "</tr>\n",
              "</table>\n",
              "<table class=\"simpletable\">\n",
              "<tr>\n",
              "    <td></td>       <th>coef</th>     <th>std err</th>      <th>t</th>      <th>P>|t|</th>  <th>[0.025</th>    <th>0.975]</th>  \n",
              "</tr>\n",
              "<tr>\n",
              "  <th>const</th> <td>  194.2747</td> <td>    9.736</td> <td>   19.954</td> <td> 0.000</td> <td>  175.193</td> <td>  213.357</td>\n",
              "</tr>\n",
              "<tr>\n",
              "  <th>x1</th>    <td>  -19.8467</td> <td>    1.294</td> <td>  -15.342</td> <td> 0.000</td> <td>  -22.382</td> <td>  -17.311</td>\n",
              "</tr>\n",
              "<tr>\n",
              "  <th>x2</th>    <td>    3.8633</td> <td>    0.115</td> <td>   33.466</td> <td> 0.000</td> <td>    3.637</td> <td>    4.090</td>\n",
              "</tr>\n",
              "<tr>\n",
              "  <th>x3</th>    <td>    0.5376</td> <td>    0.037</td> <td>   14.541</td> <td> 0.000</td> <td>    0.465</td> <td>    0.610</td>\n",
              "</tr>\n",
              "<tr>\n",
              "  <th>x4</th>    <td>   -8.5431</td> <td>    0.116</td> <td>  -73.939</td> <td> 0.000</td> <td>   -8.770</td> <td>   -8.317</td>\n",
              "</tr>\n",
              "<tr>\n",
              "  <th>x5</th>    <td>    3.7406</td> <td>    0.075</td> <td>   50.042</td> <td> 0.000</td> <td>    3.594</td> <td>    3.887</td>\n",
              "</tr>\n",
              "<tr>\n",
              "  <th>x6</th>    <td>   -2.3218</td> <td>    0.106</td> <td>  -21.849</td> <td> 0.000</td> <td>   -2.530</td> <td>   -2.113</td>\n",
              "</tr>\n",
              "<tr>\n",
              "  <th>x7</th>    <td>    0.4038</td> <td>    0.006</td> <td>   73.237</td> <td> 0.000</td> <td>    0.393</td> <td>    0.415</td>\n",
              "</tr>\n",
              "<tr>\n",
              "  <th>x8</th>    <td>    0.4032</td> <td>    0.058</td> <td>    6.964</td> <td> 0.000</td> <td>    0.290</td> <td>    0.517</td>\n",
              "</tr>\n",
              "<tr>\n",
              "  <th>x9</th>    <td>   -0.0865</td> <td>    0.010</td> <td>   -9.071</td> <td> 0.000</td> <td>   -0.105</td> <td>   -0.068</td>\n",
              "</tr>\n",
              "<tr>\n",
              "  <th>x10</th>   <td>    0.0003</td> <td>    0.003</td> <td>    0.094</td> <td> 0.925</td> <td>   -0.006</td> <td>    0.006</td>\n",
              "</tr>\n",
              "<tr>\n",
              "  <th>x11</th>   <td>    0.4269</td> <td>    0.007</td> <td>   59.804</td> <td> 0.000</td> <td>    0.413</td> <td>    0.441</td>\n",
              "</tr>\n",
              "<tr>\n",
              "  <th>x12</th>   <td>   -0.2044</td> <td>    0.005</td> <td>  -40.430</td> <td> 0.000</td> <td>   -0.214</td> <td>   -0.194</td>\n",
              "</tr>\n",
              "<tr>\n",
              "  <th>x13</th>   <td>   -0.0782</td> <td>    0.006</td> <td>  -13.618</td> <td> 0.000</td> <td>   -0.089</td> <td>   -0.067</td>\n",
              "</tr>\n",
              "<tr>\n",
              "  <th>x14</th>   <td>   -0.0156</td> <td>    0.000</td> <td>  -50.726</td> <td> 0.000</td> <td>   -0.016</td> <td>   -0.015</td>\n",
              "</tr>\n",
              "<tr>\n",
              "  <th>x15</th>   <td>   -0.0170</td> <td>    0.000</td> <td>  -37.161</td> <td> 0.000</td> <td>   -0.018</td> <td>   -0.016</td>\n",
              "</tr>\n",
              "<tr>\n",
              "  <th>x16</th>   <td>    0.0003</td> <td>    0.000</td> <td>    1.598</td> <td> 0.110</td> <td>-7.64e-05</td> <td>    0.001</td>\n",
              "</tr>\n",
              "<tr>\n",
              "  <th>x17</th>   <td>   -0.0282</td> <td>    0.001</td> <td>  -51.883</td> <td> 0.000</td> <td>   -0.029</td> <td>   -0.027</td>\n",
              "</tr>\n",
              "<tr>\n",
              "  <th>x18</th>   <td>    0.0021</td> <td>    0.000</td> <td>    5.217</td> <td> 0.000</td> <td>    0.001</td> <td>    0.003</td>\n",
              "</tr>\n",
              "<tr>\n",
              "  <th>x19</th>   <td>    0.0422</td> <td>    0.000</td> <td>   99.770</td> <td> 0.000</td> <td>    0.041</td> <td>    0.043</td>\n",
              "</tr>\n",
              "<tr>\n",
              "  <th>x20</th>   <td> 4.405e-05</td> <td> 2.09e-05</td> <td>    2.105</td> <td> 0.035</td> <td> 3.04e-06</td> <td> 8.51e-05</td>\n",
              "</tr>\n",
              "<tr>\n",
              "  <th>x21</th>   <td>    0.0009</td> <td> 7.78e-05</td> <td>   11.278</td> <td> 0.000</td> <td>    0.001</td> <td>    0.001</td>\n",
              "</tr>\n",
              "<tr>\n",
              "  <th>x22</th>   <td>   -0.0066</td> <td>    0.001</td> <td>   -4.718</td> <td> 0.000</td> <td>   -0.009</td> <td>   -0.004</td>\n",
              "</tr>\n",
              "<tr>\n",
              "  <th>x23</th>   <td>    0.0062</td> <td>    0.000</td> <td>   43.340</td> <td> 0.000</td> <td>    0.006</td> <td>    0.007</td>\n",
              "</tr>\n",
              "<tr>\n",
              "  <th>x24</th>   <td>   -0.0224</td> <td>    0.000</td> <td>  -94.274</td> <td> 0.000</td> <td>   -0.023</td> <td>   -0.022</td>\n",
              "</tr>\n",
              "<tr>\n",
              "  <th>x25</th>   <td>   -0.0012</td> <td> 6.75e-05</td> <td>  -18.147</td> <td> 0.000</td> <td>   -0.001</td> <td>   -0.001</td>\n",
              "</tr>\n",
              "<tr>\n",
              "  <th>x26</th>   <td>   -0.0432</td> <td>    0.000</td> <td>  -91.053</td> <td> 0.000</td> <td>   -0.044</td> <td>   -0.042</td>\n",
              "</tr>\n",
              "<tr>\n",
              "  <th>x27</th>   <td>    0.0020</td> <td>    0.001</td> <td>    2.992</td> <td> 0.003</td> <td>    0.001</td> <td>    0.003</td>\n",
              "</tr>\n",
              "<tr>\n",
              "  <th>x28</th>   <td>   -0.0158</td> <td>    0.001</td> <td>  -29.447</td> <td> 0.000</td> <td>   -0.017</td> <td>   -0.015</td>\n",
              "</tr>\n",
              "<tr>\n",
              "  <th>x29</th>   <td>    0.0024</td> <td>  2.8e-05</td> <td>   86.610</td> <td> 0.000</td> <td>    0.002</td> <td>    0.002</td>\n",
              "</tr>\n",
              "<tr>\n",
              "  <th>x30</th>   <td>    0.0143</td> <td>    0.000</td> <td>   57.278</td> <td> 0.000</td> <td>    0.014</td> <td>    0.015</td>\n",
              "</tr>\n",
              "<tr>\n",
              "  <th>x31</th>   <td>    0.0113</td> <td>    0.001</td> <td>   11.433</td> <td> 0.000</td> <td>    0.009</td> <td>    0.013</td>\n",
              "</tr>\n",
              "<tr>\n",
              "  <th>x32</th>   <td>    0.0013</td> <td> 2.76e-05</td> <td>   46.607</td> <td> 0.000</td> <td>    0.001</td> <td>    0.001</td>\n",
              "</tr>\n",
              "<tr>\n",
              "  <th>x33</th>   <td>   -0.0018</td> <td>    0.000</td> <td>   -5.288</td> <td> 0.000</td> <td>   -0.003</td> <td>   -0.001</td>\n",
              "</tr>\n",
              "<tr>\n",
              "  <th>x34</th>   <td>    0.0007</td> <td> 1.66e-05</td> <td>   42.188</td> <td> 0.000</td> <td>    0.001</td> <td>    0.001</td>\n",
              "</tr>\n",
              "<tr>\n",
              "  <th>x35</th>   <td>-2.075e-05</td> <td> 4.75e-07</td> <td>  -43.710</td> <td> 0.000</td> <td>-2.17e-05</td> <td>-1.98e-05</td>\n",
              "</tr>\n",
              "<tr>\n",
              "  <th>x36</th>   <td>    0.0064</td> <td>    0.001</td> <td>    7.328</td> <td> 0.000</td> <td>    0.005</td> <td>    0.008</td>\n",
              "</tr>\n",
              "<tr>\n",
              "  <th>x37</th>   <td>   -0.0028</td> <td>    0.000</td> <td>  -13.624</td> <td> 0.000</td> <td>   -0.003</td> <td>   -0.002</td>\n",
              "</tr>\n",
              "<tr>\n",
              "  <th>x38</th>   <td>   -0.0007</td> <td> 6.18e-05</td> <td>  -10.964</td> <td> 0.000</td> <td>   -0.001</td> <td>   -0.001</td>\n",
              "</tr>\n",
              "<tr>\n",
              "  <th>x39</th>   <td>   -0.0061</td> <td>    0.000</td> <td>  -47.306</td> <td> 0.000</td> <td>   -0.006</td> <td>   -0.006</td>\n",
              "</tr>\n",
              "<tr>\n",
              "  <th>x40</th>   <td>    0.0036</td> <td>  9.7e-05</td> <td>   36.650</td> <td> 0.000</td> <td>    0.003</td> <td>    0.004</td>\n",
              "</tr>\n",
              "<tr>\n",
              "  <th>x41</th>   <td>    0.0014</td> <td> 8.56e-05</td> <td>   16.551</td> <td> 0.000</td> <td>    0.001</td> <td>    0.002</td>\n",
              "</tr>\n",
              "<tr>\n",
              "  <th>x42</th>   <td> 9.379e-05</td> <td> 4.89e-06</td> <td>   19.167</td> <td> 0.000</td> <td> 8.42e-05</td> <td>    0.000</td>\n",
              "</tr>\n",
              "<tr>\n",
              "  <th>x43</th>   <td>    0.0011</td> <td>  1.8e-05</td> <td>   58.829</td> <td> 0.000</td> <td>    0.001</td> <td>    0.001</td>\n",
              "</tr>\n",
              "<tr>\n",
              "  <th>x44</th>   <td> 6.913e-05</td> <td> 8.37e-06</td> <td>    8.255</td> <td> 0.000</td> <td> 5.27e-05</td> <td> 8.55e-05</td>\n",
              "</tr>\n",
              "<tr>\n",
              "  <th>x45</th>   <td>    0.0013</td> <td>    2e-05</td> <td>   65.867</td> <td> 0.000</td> <td>    0.001</td> <td>    0.001</td>\n",
              "</tr>\n",
              "<tr>\n",
              "  <th>x46</th>   <td>   -0.0004</td> <td>  1.5e-05</td> <td>  -23.697</td> <td> 0.000</td> <td>   -0.000</td> <td>   -0.000</td>\n",
              "</tr>\n",
              "<tr>\n",
              "  <th>x47</th>   <td>   -0.0003</td> <td> 1.21e-05</td> <td>  -27.842</td> <td> 0.000</td> <td>   -0.000</td> <td>   -0.000</td>\n",
              "</tr>\n",
              "<tr>\n",
              "  <th>x48</th>   <td> -8.76e-06</td> <td> 7.32e-07</td> <td>  -11.974</td> <td> 0.000</td> <td>-1.02e-05</td> <td>-7.33e-06</td>\n",
              "</tr>\n",
              "<tr>\n",
              "  <th>x49</th>   <td>-5.164e-06</td> <td> 2.91e-06</td> <td>   -1.775</td> <td> 0.076</td> <td>-1.09e-05</td> <td> 5.37e-07</td>\n",
              "</tr>\n",
              "<tr>\n",
              "  <th>x50</th>   <td>   -0.0004</td> <td> 5.56e-05</td> <td>   -7.743</td> <td> 0.000</td> <td>   -0.001</td> <td>   -0.000</td>\n",
              "</tr>\n",
              "<tr>\n",
              "  <th>x51</th>   <td>   -0.0002</td> <td>  5.5e-06</td> <td>  -35.215</td> <td> 0.000</td> <td>   -0.000</td> <td>   -0.000</td>\n",
              "</tr>\n",
              "<tr>\n",
              "  <th>x52</th>   <td> 9.889e-05</td> <td> 5.66e-06</td> <td>   17.474</td> <td> 0.000</td> <td> 8.78e-05</td> <td>    0.000</td>\n",
              "</tr>\n",
              "<tr>\n",
              "  <th>x53</th>   <td> 3.615e-05</td> <td> 2.65e-06</td> <td>   13.631</td> <td> 0.000</td> <td>  3.1e-05</td> <td> 4.13e-05</td>\n",
              "</tr>\n",
              "<tr>\n",
              "  <th>x54</th>   <td>-6.589e-05</td> <td> 1.64e-05</td> <td>   -4.020</td> <td> 0.000</td> <td> -9.8e-05</td> <td>-3.38e-05</td>\n",
              "</tr>\n",
              "<tr>\n",
              "  <th>x55</th>   <td>    0.0003</td> <td> 2.26e-05</td> <td>   12.668</td> <td> 0.000</td> <td>    0.000</td> <td>    0.000</td>\n",
              "</tr>\n",
              "<tr>\n",
              "  <th>x56</th>   <td>    0.0006</td> <td> 1.53e-05</td> <td>   39.338</td> <td> 0.000</td> <td>    0.001</td> <td>    0.001</td>\n",
              "</tr>\n",
              "<tr>\n",
              "  <th>x57</th>   <td>  1.31e-05</td> <td> 9.98e-07</td> <td>   13.128</td> <td> 0.000</td> <td> 1.11e-05</td> <td> 1.51e-05</td>\n",
              "</tr>\n",
              "<tr>\n",
              "  <th>x58</th>   <td>   -0.0003</td> <td> 8.26e-06</td> <td>  -31.029</td> <td> 0.000</td> <td>   -0.000</td> <td>   -0.000</td>\n",
              "</tr>\n",
              "<tr>\n",
              "  <th>x59</th>   <td>   -0.0009</td> <td> 3.78e-05</td> <td>  -24.486</td> <td> 0.000</td> <td>   -0.001</td> <td>   -0.001</td>\n",
              "</tr>\n",
              "<tr>\n",
              "  <th>x60</th>   <td>-4.935e-05</td> <td> 9.34e-07</td> <td>  -52.843</td> <td> 0.000</td> <td>-5.12e-05</td> <td>-4.75e-05</td>\n",
              "</tr>\n",
              "<tr>\n",
              "  <th>x61</th>   <td>    0.0001</td> <td> 6.94e-06</td> <td>   19.138</td> <td> 0.000</td> <td>    0.000</td> <td>    0.000</td>\n",
              "</tr>\n",
              "<tr>\n",
              "  <th>x62</th>   <td>-1.308e-05</td> <td> 3.75e-07</td> <td>  -34.896</td> <td> 0.000</td> <td>-1.38e-05</td> <td>-1.23e-05</td>\n",
              "</tr>\n",
              "<tr>\n",
              "  <th>x63</th>   <td>  6.06e-09</td> <td> 1.53e-08</td> <td>    0.397</td> <td> 0.692</td> <td>-2.39e-08</td> <td>  3.6e-08</td>\n",
              "</tr>\n",
              "<tr>\n",
              "  <th>x64</th>   <td>-8.307e-05</td> <td> 1.16e-06</td> <td>  -71.388</td> <td> 0.000</td> <td>-8.53e-05</td> <td>-8.08e-05</td>\n",
              "</tr>\n",
              "<tr>\n",
              "  <th>x65</th>   <td>-9.107e-06</td> <td>    5e-07</td> <td>  -18.218</td> <td> 0.000</td> <td>-1.01e-05</td> <td>-8.13e-06</td>\n",
              "</tr>\n",
              "<tr>\n",
              "  <th>x66</th>   <td> 1.718e-05</td> <td> 1.22e-06</td> <td>   14.113</td> <td> 0.000</td> <td> 1.48e-05</td> <td> 1.96e-05</td>\n",
              "</tr>\n",
              "<tr>\n",
              "  <th>x67</th>   <td>-1.025e-05</td> <td> 8.57e-07</td> <td>  -11.952</td> <td> 0.000</td> <td>-1.19e-05</td> <td>-8.57e-06</td>\n",
              "</tr>\n",
              "<tr>\n",
              "  <th>x68</th>   <td>-1.814e-05</td> <td> 7.23e-07</td> <td>  -25.107</td> <td> 0.000</td> <td>-1.96e-05</td> <td>-1.67e-05</td>\n",
              "</tr>\n",
              "<tr>\n",
              "  <th>x69</th>   <td> 8.847e-08</td> <td> 4.42e-08</td> <td>    2.004</td> <td> 0.045</td> <td> 1.93e-09</td> <td> 1.75e-07</td>\n",
              "</tr>\n",
              "<tr>\n",
              "  <th>x70</th>   <td>-6.933e-06</td> <td> 2.87e-07</td> <td>  -24.118</td> <td> 0.000</td> <td> -7.5e-06</td> <td>-6.37e-06</td>\n",
              "</tr>\n",
              "<tr>\n",
              "  <th>x71</th>   <td> 8.159e-05</td> <td> 3.99e-06</td> <td>   20.427</td> <td> 0.000</td> <td> 7.38e-05</td> <td> 8.94e-05</td>\n",
              "</tr>\n",
              "<tr>\n",
              "  <th>x72</th>   <td> 8.204e-06</td> <td> 4.43e-07</td> <td>   18.517</td> <td> 0.000</td> <td> 7.34e-06</td> <td> 9.07e-06</td>\n",
              "</tr>\n",
              "<tr>\n",
              "  <th>x73</th>   <td> 1.518e-05</td> <td> 5.55e-07</td> <td>   27.325</td> <td> 0.000</td> <td> 1.41e-05</td> <td> 1.63e-05</td>\n",
              "</tr>\n",
              "<tr>\n",
              "  <th>x74</th>   <td>  3.77e-06</td> <td> 1.86e-07</td> <td>   20.267</td> <td> 0.000</td> <td> 3.41e-06</td> <td> 4.13e-06</td>\n",
              "</tr>\n",
              "<tr>\n",
              "  <th>x75</th>   <td>-3.477e-05</td> <td> 1.63e-06</td> <td>  -21.287</td> <td> 0.000</td> <td> -3.8e-05</td> <td>-3.16e-05</td>\n",
              "</tr>\n",
              "<tr>\n",
              "  <th>x76</th>   <td> 5.666e-05</td> <td> 2.08e-06</td> <td>   27.247</td> <td> 0.000</td> <td> 5.26e-05</td> <td> 6.07e-05</td>\n",
              "</tr>\n",
              "<tr>\n",
              "  <th>x77</th>   <td> -6.76e-05</td> <td> 1.33e-06</td> <td>  -50.951</td> <td> 0.000</td> <td>-7.02e-05</td> <td> -6.5e-05</td>\n",
              "</tr>\n",
              "<tr>\n",
              "  <th>x78</th>   <td>-7.748e-07</td> <td> 1.09e-07</td> <td>   -7.105</td> <td> 0.000</td> <td>-9.89e-07</td> <td>-5.61e-07</td>\n",
              "</tr>\n",
              "<tr>\n",
              "  <th>x79</th>   <td>-2.493e-05</td> <td> 6.91e-07</td> <td>  -36.067</td> <td> 0.000</td> <td>-2.63e-05</td> <td>-2.36e-05</td>\n",
              "</tr>\n",
              "<tr>\n",
              "  <th>x80</th>   <td> 8.759e-05</td> <td> 2.59e-06</td> <td>   33.839</td> <td> 0.000</td> <td> 8.25e-05</td> <td> 9.27e-05</td>\n",
              "</tr>\n",
              "<tr>\n",
              "  <th>x81</th>   <td>-1.447e-07</td> <td>  6.2e-08</td> <td>   -2.335</td> <td> 0.020</td> <td>-2.66e-07</td> <td>-2.32e-08</td>\n",
              "</tr>\n",
              "<tr>\n",
              "  <th>x82</th>   <td> 4.763e-07</td> <td> 6.57e-07</td> <td>    0.725</td> <td> 0.469</td> <td>-8.12e-07</td> <td> 1.76e-06</td>\n",
              "</tr>\n",
              "<tr>\n",
              "  <th>x83</th>   <td> 4.651e-07</td> <td> 2.95e-08</td> <td>   15.771</td> <td> 0.000</td> <td> 4.07e-07</td> <td> 5.23e-07</td>\n",
              "</tr>\n",
              "<tr>\n",
              "  <th>x84</th>   <td> 3.132e-08</td> <td> 2.01e-09</td> <td>   15.607</td> <td> 0.000</td> <td> 2.74e-08</td> <td> 3.53e-08</td>\n",
              "</tr>\n",
              "<tr>\n",
              "  <th>x85</th>   <td> 2.265e-06</td> <td>  1.2e-07</td> <td>   18.868</td> <td> 0.000</td> <td> 2.03e-06</td> <td>  2.5e-06</td>\n",
              "</tr>\n",
              "<tr>\n",
              "  <th>x86</th>   <td>   -0.0002</td> <td> 1.82e-06</td> <td>  -93.597</td> <td> 0.000</td> <td>   -0.000</td> <td>   -0.000</td>\n",
              "</tr>\n",
              "<tr>\n",
              "  <th>x87</th>   <td> 2.117e-06</td> <td> 2.08e-07</td> <td>   10.178</td> <td> 0.000</td> <td> 1.71e-06</td> <td> 2.52e-06</td>\n",
              "</tr>\n",
              "<tr>\n",
              "  <th>x88</th>   <td>-9.671e-06</td> <td> 3.44e-07</td> <td>  -28.124</td> <td> 0.000</td> <td>-1.03e-05</td> <td>   -9e-06</td>\n",
              "</tr>\n",
              "<tr>\n",
              "  <th>x89</th>   <td> 3.488e-06</td> <td> 9.44e-08</td> <td>   36.931</td> <td> 0.000</td> <td>  3.3e-06</td> <td> 3.67e-06</td>\n",
              "</tr>\n",
              "<tr>\n",
              "  <th>x90</th>   <td>    0.0002</td> <td> 3.83e-06</td> <td>   49.796</td> <td> 0.000</td> <td>    0.000</td> <td>    0.000</td>\n",
              "</tr>\n",
              "<tr>\n",
              "  <th>x91</th>   <td>   -0.0002</td> <td> 2.39e-06</td> <td>  -79.536</td> <td> 0.000</td> <td>   -0.000</td> <td>   -0.000</td>\n",
              "</tr>\n",
              "<tr>\n",
              "  <th>x92</th>   <td>-2.045e-05</td> <td> 2.98e-06</td> <td>   -6.857</td> <td> 0.000</td> <td>-2.63e-05</td> <td>-1.46e-05</td>\n",
              "</tr>\n",
              "<tr>\n",
              "  <th>x93</th>   <td>-1.186e-05</td> <td> 1.92e-07</td> <td>  -61.821</td> <td> 0.000</td> <td>-1.22e-05</td> <td>-1.15e-05</td>\n",
              "</tr>\n",
              "<tr>\n",
              "  <th>x94</th>   <td> 1.636e-05</td> <td> 2.49e-07</td> <td>   65.611</td> <td> 0.000</td> <td> 1.59e-05</td> <td> 1.69e-05</td>\n",
              "</tr>\n",
              "<tr>\n",
              "  <th>x95</th>   <td>   -0.0001</td> <td> 1.42e-06</td> <td>  -87.493</td> <td> 0.000</td> <td>   -0.000</td> <td>   -0.000</td>\n",
              "</tr>\n",
              "<tr>\n",
              "  <th>x96</th>   <td> 5.707e-06</td> <td> 1.05e-07</td> <td>   54.202</td> <td> 0.000</td> <td>  5.5e-06</td> <td> 5.91e-06</td>\n",
              "</tr>\n",
              "<tr>\n",
              "  <th>x97</th>   <td>-1.565e-05</td> <td> 4.58e-07</td> <td>  -34.193</td> <td> 0.000</td> <td>-1.66e-05</td> <td>-1.48e-05</td>\n",
              "</tr>\n",
              "<tr>\n",
              "  <th>x98</th>   <td> 4.169e-06</td> <td> 1.33e-07</td> <td>   31.310</td> <td> 0.000</td> <td> 3.91e-06</td> <td> 4.43e-06</td>\n",
              "</tr>\n",
              "<tr>\n",
              "  <th>x99</th>   <td> 3.106e-07</td> <td> 4.12e-09</td> <td>   75.426</td> <td> 0.000</td> <td> 3.02e-07</td> <td> 3.19e-07</td>\n",
              "</tr>\n",
              "<tr>\n",
              "  <th>x100</th>  <td>-3.226e-05</td> <td>  2.2e-06</td> <td>  -14.688</td> <td> 0.000</td> <td>-3.66e-05</td> <td> -2.8e-05</td>\n",
              "</tr>\n",
              "<tr>\n",
              "  <th>x101</th>  <td> 4.475e-05</td> <td> 4.13e-06</td> <td>   10.835</td> <td> 0.000</td> <td> 3.67e-05</td> <td> 5.28e-05</td>\n",
              "</tr>\n",
              "<tr>\n",
              "  <th>x102</th>  <td> 9.945e-05</td> <td> 1.86e-06</td> <td>   53.611</td> <td> 0.000</td> <td> 9.58e-05</td> <td>    0.000</td>\n",
              "</tr>\n",
              "<tr>\n",
              "  <th>x103</th>  <td> 4.798e-06</td> <td> 1.72e-07</td> <td>   27.907</td> <td> 0.000</td> <td> 4.46e-06</td> <td> 5.14e-06</td>\n",
              "</tr>\n",
              "<tr>\n",
              "  <th>x104</th>  <td>-7.179e-05</td> <td> 2.36e-06</td> <td>  -30.369</td> <td> 0.000</td> <td>-7.64e-05</td> <td>-6.72e-05</td>\n",
              "</tr>\n",
              "<tr>\n",
              "  <th>x105</th>  <td>-2.336e-05</td> <td> 2.69e-06</td> <td>   -8.699</td> <td> 0.000</td> <td>-2.86e-05</td> <td>-1.81e-05</td>\n",
              "</tr>\n",
              "<tr>\n",
              "  <th>x106</th>  <td> 3.507e-06</td> <td> 1.81e-07</td> <td>   19.340</td> <td> 0.000</td> <td> 3.15e-06</td> <td> 3.86e-06</td>\n",
              "</tr>\n",
              "<tr>\n",
              "  <th>x107</th>  <td> 7.131e-05</td> <td>  1.1e-06</td> <td>   64.755</td> <td> 0.000</td> <td> 6.92e-05</td> <td> 7.35e-05</td>\n",
              "</tr>\n",
              "<tr>\n",
              "  <th>x108</th>  <td> -4.77e-06</td> <td> 8.81e-08</td> <td>  -54.165</td> <td> 0.000</td> <td>-4.94e-06</td> <td> -4.6e-06</td>\n",
              "</tr>\n",
              "<tr>\n",
              "  <th>x109</th>  <td>-2.198e-07</td> <td> 4.61e-09</td> <td>  -47.661</td> <td> 0.000</td> <td>-2.29e-07</td> <td>-2.11e-07</td>\n",
              "</tr>\n",
              "<tr>\n",
              "  <th>x110</th>  <td> 3.567e-05</td> <td> 4.11e-07</td> <td>   86.857</td> <td> 0.000</td> <td> 3.49e-05</td> <td> 3.65e-05</td>\n",
              "</tr>\n",
              "<tr>\n",
              "  <th>x111</th>  <td>-6.396e-05</td> <td> 1.59e-06</td> <td>  -40.191</td> <td> 0.000</td> <td>-6.71e-05</td> <td>-6.08e-05</td>\n",
              "</tr>\n",
              "<tr>\n",
              "  <th>x112</th>  <td>-5.195e-07</td> <td>  5.2e-08</td> <td>   -9.984</td> <td> 0.000</td> <td>-6.21e-07</td> <td>-4.18e-07</td>\n",
              "</tr>\n",
              "<tr>\n",
              "  <th>x113</th>  <td>   -0.0001</td> <td> 2.16e-06</td> <td>  -47.280</td> <td> 0.000</td> <td>   -0.000</td> <td>-9.77e-05</td>\n",
              "</tr>\n",
              "<tr>\n",
              "  <th>x114</th>  <td>-1.196e-06</td> <td> 7.78e-08</td> <td>  -15.387</td> <td> 0.000</td> <td>-1.35e-06</td> <td>-1.04e-06</td>\n",
              "</tr>\n",
              "<tr>\n",
              "  <th>x115</th>  <td>-6.963e-08</td> <td> 2.53e-09</td> <td>  -27.520</td> <td> 0.000</td> <td>-7.46e-08</td> <td>-6.47e-08</td>\n",
              "</tr>\n",
              "<tr>\n",
              "  <th>x116</th>  <td>-1.665e-05</td> <td>  3.9e-07</td> <td>  -42.684</td> <td> 0.000</td> <td>-1.74e-05</td> <td>-1.59e-05</td>\n",
              "</tr>\n",
              "<tr>\n",
              "  <th>x117</th>  <td>-2.368e-06</td> <td> 3.46e-08</td> <td>  -68.403</td> <td> 0.000</td> <td>-2.44e-06</td> <td> -2.3e-06</td>\n",
              "</tr>\n",
              "<tr>\n",
              "  <th>x118</th>  <td> 4.673e-08</td> <td> 1.36e-09</td> <td>   34.406</td> <td> 0.000</td> <td> 4.41e-08</td> <td> 4.94e-08</td>\n",
              "</tr>\n",
              "<tr>\n",
              "  <th>x119</th>  <td> 1.276e-09</td> <td> 5.48e-11</td> <td>   23.299</td> <td> 0.000</td> <td> 1.17e-09</td> <td> 1.38e-09</td>\n",
              "</tr>\n",
              "</table>\n",
              "<table class=\"simpletable\">\n",
              "<tr>\n",
              "  <th>Omnibus:</th>       <td>260810.417</td> <th>  Durbin-Watson:     </th>  <td>   1.999</td>  \n",
              "</tr>\n",
              "<tr>\n",
              "  <th>Prob(Omnibus):</th>   <td> 0.000</td>   <th>  Jarque-Bera (JB):  </th> <td>5575147.261</td>\n",
              "</tr>\n",
              "<tr>\n",
              "  <th>Skew:</th>            <td> 0.836</td>   <th>  Prob(JB):          </th>  <td>    0.00</td>  \n",
              "</tr>\n",
              "<tr>\n",
              "  <th>Kurtosis:</th>        <td>14.867</td>   <th>  Cond. No.          </th>  <td>8.41e+13</td>  \n",
              "</tr>\n",
              "</table><br/><br/>Warnings:<br/>[1] Standard Errors assume that the covariance matrix of the errors is correctly specified.<br/>[2] The condition number is large, 8.41e+13. This might indicate that there are<br/>strong multicollinearity or other numerical problems."
            ],
            "text/plain": [
              "<class 'statsmodels.iolib.summary.Summary'>\n",
              "\"\"\"\n",
              "                            OLS Regression Results                            \n",
              "==============================================================================\n",
              "Dep. Variable:                     pm   R-squared:                       0.853\n",
              "Model:                            OLS   Adj. R-squared:                  0.853\n",
              "Method:                 Least Squares   F-statistic:                 4.592e+04\n",
              "Date:                Fri, 16 Jul 2021   Prob (F-statistic):               0.00\n",
              "Time:                        18:36:02   Log-Likelihood:            -3.1706e+06\n",
              "No. Observations:              931571   AIC:                         6.342e+06\n",
              "Df Residuals:                  931452   BIC:                         6.343e+06\n",
              "Df Model:                         118                                         \n",
              "Covariance Type:            nonrobust                                         \n",
              "==============================================================================\n",
              "                 coef    std err          t      P>|t|      [0.025      0.975]\n",
              "------------------------------------------------------------------------------\n",
              "const        194.2747      9.736     19.954      0.000     175.193     213.357\n",
              "x1           -19.8467      1.294    -15.342      0.000     -22.382     -17.311\n",
              "x2             3.8633      0.115     33.466      0.000       3.637       4.090\n",
              "x3             0.5376      0.037     14.541      0.000       0.465       0.610\n",
              "x4            -8.5431      0.116    -73.939      0.000      -8.770      -8.317\n",
              "x5             3.7406      0.075     50.042      0.000       3.594       3.887\n",
              "x6            -2.3218      0.106    -21.849      0.000      -2.530      -2.113\n",
              "x7             0.4038      0.006     73.237      0.000       0.393       0.415\n",
              "x8             0.4032      0.058      6.964      0.000       0.290       0.517\n",
              "x9            -0.0865      0.010     -9.071      0.000      -0.105      -0.068\n",
              "x10            0.0003      0.003      0.094      0.925      -0.006       0.006\n",
              "x11            0.4269      0.007     59.804      0.000       0.413       0.441\n",
              "x12           -0.2044      0.005    -40.430      0.000      -0.214      -0.194\n",
              "x13           -0.0782      0.006    -13.618      0.000      -0.089      -0.067\n",
              "x14           -0.0156      0.000    -50.726      0.000      -0.016      -0.015\n",
              "x15           -0.0170      0.000    -37.161      0.000      -0.018      -0.016\n",
              "x16            0.0003      0.000      1.598      0.110   -7.64e-05       0.001\n",
              "x17           -0.0282      0.001    -51.883      0.000      -0.029      -0.027\n",
              "x18            0.0021      0.000      5.217      0.000       0.001       0.003\n",
              "x19            0.0422      0.000     99.770      0.000       0.041       0.043\n",
              "x20         4.405e-05   2.09e-05      2.105      0.035    3.04e-06    8.51e-05\n",
              "x21            0.0009   7.78e-05     11.278      0.000       0.001       0.001\n",
              "x22           -0.0066      0.001     -4.718      0.000      -0.009      -0.004\n",
              "x23            0.0062      0.000     43.340      0.000       0.006       0.007\n",
              "x24           -0.0224      0.000    -94.274      0.000      -0.023      -0.022\n",
              "x25           -0.0012   6.75e-05    -18.147      0.000      -0.001      -0.001\n",
              "x26           -0.0432      0.000    -91.053      0.000      -0.044      -0.042\n",
              "x27            0.0020      0.001      2.992      0.003       0.001       0.003\n",
              "x28           -0.0158      0.001    -29.447      0.000      -0.017      -0.015\n",
              "x29            0.0024    2.8e-05     86.610      0.000       0.002       0.002\n",
              "x30            0.0143      0.000     57.278      0.000       0.014       0.015\n",
              "x31            0.0113      0.001     11.433      0.000       0.009       0.013\n",
              "x32            0.0013   2.76e-05     46.607      0.000       0.001       0.001\n",
              "x33           -0.0018      0.000     -5.288      0.000      -0.003      -0.001\n",
              "x34            0.0007   1.66e-05     42.188      0.000       0.001       0.001\n",
              "x35        -2.075e-05   4.75e-07    -43.710      0.000   -2.17e-05   -1.98e-05\n",
              "x36            0.0064      0.001      7.328      0.000       0.005       0.008\n",
              "x37           -0.0028      0.000    -13.624      0.000      -0.003      -0.002\n",
              "x38           -0.0007   6.18e-05    -10.964      0.000      -0.001      -0.001\n",
              "x39           -0.0061      0.000    -47.306      0.000      -0.006      -0.006\n",
              "x40            0.0036    9.7e-05     36.650      0.000       0.003       0.004\n",
              "x41            0.0014   8.56e-05     16.551      0.000       0.001       0.002\n",
              "x42         9.379e-05   4.89e-06     19.167      0.000    8.42e-05       0.000\n",
              "x43            0.0011    1.8e-05     58.829      0.000       0.001       0.001\n",
              "x44         6.913e-05   8.37e-06      8.255      0.000    5.27e-05    8.55e-05\n",
              "x45            0.0013      2e-05     65.867      0.000       0.001       0.001\n",
              "x46           -0.0004    1.5e-05    -23.697      0.000      -0.000      -0.000\n",
              "x47           -0.0003   1.21e-05    -27.842      0.000      -0.000      -0.000\n",
              "x48         -8.76e-06   7.32e-07    -11.974      0.000   -1.02e-05   -7.33e-06\n",
              "x49        -5.164e-06   2.91e-06     -1.775      0.076   -1.09e-05    5.37e-07\n",
              "x50           -0.0004   5.56e-05     -7.743      0.000      -0.001      -0.000\n",
              "x51           -0.0002    5.5e-06    -35.215      0.000      -0.000      -0.000\n",
              "x52         9.889e-05   5.66e-06     17.474      0.000    8.78e-05       0.000\n",
              "x53         3.615e-05   2.65e-06     13.631      0.000     3.1e-05    4.13e-05\n",
              "x54        -6.589e-05   1.64e-05     -4.020      0.000    -9.8e-05   -3.38e-05\n",
              "x55            0.0003   2.26e-05     12.668      0.000       0.000       0.000\n",
              "x56            0.0006   1.53e-05     39.338      0.000       0.001       0.001\n",
              "x57          1.31e-05   9.98e-07     13.128      0.000    1.11e-05    1.51e-05\n",
              "x58           -0.0003   8.26e-06    -31.029      0.000      -0.000      -0.000\n",
              "x59           -0.0009   3.78e-05    -24.486      0.000      -0.001      -0.001\n",
              "x60        -4.935e-05   9.34e-07    -52.843      0.000   -5.12e-05   -4.75e-05\n",
              "x61            0.0001   6.94e-06     19.138      0.000       0.000       0.000\n",
              "x62        -1.308e-05   3.75e-07    -34.896      0.000   -1.38e-05   -1.23e-05\n",
              "x63          6.06e-09   1.53e-08      0.397      0.692   -2.39e-08     3.6e-08\n",
              "x64        -8.307e-05   1.16e-06    -71.388      0.000   -8.53e-05   -8.08e-05\n",
              "x65        -9.107e-06      5e-07    -18.218      0.000   -1.01e-05   -8.13e-06\n",
              "x66         1.718e-05   1.22e-06     14.113      0.000    1.48e-05    1.96e-05\n",
              "x67        -1.025e-05   8.57e-07    -11.952      0.000   -1.19e-05   -8.57e-06\n",
              "x68        -1.814e-05   7.23e-07    -25.107      0.000   -1.96e-05   -1.67e-05\n",
              "x69         8.847e-08   4.42e-08      2.004      0.045    1.93e-09    1.75e-07\n",
              "x70        -6.933e-06   2.87e-07    -24.118      0.000    -7.5e-06   -6.37e-06\n",
              "x71         8.159e-05   3.99e-06     20.427      0.000    7.38e-05    8.94e-05\n",
              "x72         8.204e-06   4.43e-07     18.517      0.000    7.34e-06    9.07e-06\n",
              "x73         1.518e-05   5.55e-07     27.325      0.000    1.41e-05    1.63e-05\n",
              "x74          3.77e-06   1.86e-07     20.267      0.000    3.41e-06    4.13e-06\n",
              "x75        -3.477e-05   1.63e-06    -21.287      0.000    -3.8e-05   -3.16e-05\n",
              "x76         5.666e-05   2.08e-06     27.247      0.000    5.26e-05    6.07e-05\n",
              "x77         -6.76e-05   1.33e-06    -50.951      0.000   -7.02e-05    -6.5e-05\n",
              "x78        -7.748e-07   1.09e-07     -7.105      0.000   -9.89e-07   -5.61e-07\n",
              "x79        -2.493e-05   6.91e-07    -36.067      0.000   -2.63e-05   -2.36e-05\n",
              "x80         8.759e-05   2.59e-06     33.839      0.000    8.25e-05    9.27e-05\n",
              "x81        -1.447e-07    6.2e-08     -2.335      0.020   -2.66e-07   -2.32e-08\n",
              "x82         4.763e-07   6.57e-07      0.725      0.469   -8.12e-07    1.76e-06\n",
              "x83         4.651e-07   2.95e-08     15.771      0.000    4.07e-07    5.23e-07\n",
              "x84         3.132e-08   2.01e-09     15.607      0.000    2.74e-08    3.53e-08\n",
              "x85         2.265e-06    1.2e-07     18.868      0.000    2.03e-06     2.5e-06\n",
              "x86           -0.0002   1.82e-06    -93.597      0.000      -0.000      -0.000\n",
              "x87         2.117e-06   2.08e-07     10.178      0.000    1.71e-06    2.52e-06\n",
              "x88        -9.671e-06   3.44e-07    -28.124      0.000   -1.03e-05      -9e-06\n",
              "x89         3.488e-06   9.44e-08     36.931      0.000     3.3e-06    3.67e-06\n",
              "x90            0.0002   3.83e-06     49.796      0.000       0.000       0.000\n",
              "x91           -0.0002   2.39e-06    -79.536      0.000      -0.000      -0.000\n",
              "x92        -2.045e-05   2.98e-06     -6.857      0.000   -2.63e-05   -1.46e-05\n",
              "x93        -1.186e-05   1.92e-07    -61.821      0.000   -1.22e-05   -1.15e-05\n",
              "x94         1.636e-05   2.49e-07     65.611      0.000    1.59e-05    1.69e-05\n",
              "x95           -0.0001   1.42e-06    -87.493      0.000      -0.000      -0.000\n",
              "x96         5.707e-06   1.05e-07     54.202      0.000     5.5e-06    5.91e-06\n",
              "x97        -1.565e-05   4.58e-07    -34.193      0.000   -1.66e-05   -1.48e-05\n",
              "x98         4.169e-06   1.33e-07     31.310      0.000    3.91e-06    4.43e-06\n",
              "x99         3.106e-07   4.12e-09     75.426      0.000    3.02e-07    3.19e-07\n",
              "x100       -3.226e-05    2.2e-06    -14.688      0.000   -3.66e-05    -2.8e-05\n",
              "x101        4.475e-05   4.13e-06     10.835      0.000    3.67e-05    5.28e-05\n",
              "x102        9.945e-05   1.86e-06     53.611      0.000    9.58e-05       0.000\n",
              "x103        4.798e-06   1.72e-07     27.907      0.000    4.46e-06    5.14e-06\n",
              "x104       -7.179e-05   2.36e-06    -30.369      0.000   -7.64e-05   -6.72e-05\n",
              "x105       -2.336e-05   2.69e-06     -8.699      0.000   -2.86e-05   -1.81e-05\n",
              "x106        3.507e-06   1.81e-07     19.340      0.000    3.15e-06    3.86e-06\n",
              "x107        7.131e-05    1.1e-06     64.755      0.000    6.92e-05    7.35e-05\n",
              "x108        -4.77e-06   8.81e-08    -54.165      0.000   -4.94e-06    -4.6e-06\n",
              "x109       -2.198e-07   4.61e-09    -47.661      0.000   -2.29e-07   -2.11e-07\n",
              "x110        3.567e-05   4.11e-07     86.857      0.000    3.49e-05    3.65e-05\n",
              "x111       -6.396e-05   1.59e-06    -40.191      0.000   -6.71e-05   -6.08e-05\n",
              "x112       -5.195e-07    5.2e-08     -9.984      0.000   -6.21e-07   -4.18e-07\n",
              "x113          -0.0001   2.16e-06    -47.280      0.000      -0.000   -9.77e-05\n",
              "x114       -1.196e-06   7.78e-08    -15.387      0.000   -1.35e-06   -1.04e-06\n",
              "x115       -6.963e-08   2.53e-09    -27.520      0.000   -7.46e-08   -6.47e-08\n",
              "x116       -1.665e-05    3.9e-07    -42.684      0.000   -1.74e-05   -1.59e-05\n",
              "x117       -2.368e-06   3.46e-08    -68.403      0.000   -2.44e-06    -2.3e-06\n",
              "x118        4.673e-08   1.36e-09     34.406      0.000    4.41e-08    4.94e-08\n",
              "x119        1.276e-09   5.48e-11     23.299      0.000    1.17e-09    1.38e-09\n",
              "==============================================================================\n",
              "Omnibus:                   260810.417   Durbin-Watson:                   1.999\n",
              "Prob(Omnibus):                  0.000   Jarque-Bera (JB):          5575147.261\n",
              "Skew:                           0.836   Prob(JB):                         0.00\n",
              "Kurtosis:                      14.867   Cond. No.                     8.41e+13\n",
              "==============================================================================\n",
              "\n",
              "Warnings:\n",
              "[1] Standard Errors assume that the covariance matrix of the errors is correctly specified.\n",
              "[2] The condition number is large, 8.41e+13. This might indicate that there are\n",
              "strong multicollinearity or other numerical problems.\n",
              "\"\"\""
            ]
          },
          "metadata": {
            "tags": []
          },
          "execution_count": 20
        }
      ]
    },
    {
      "cell_type": "markdown",
      "metadata": {
        "id": "_hxPsUcSSX7L"
      },
      "source": [
        "Ajustando os parâmetros"
      ]
    },
    {
      "cell_type": "code",
      "metadata": {
        "id": "N51UhxoGSdKp"
      },
      "source": [
        "# TRAINING ERROR PER DEGREE\n",
        "train_rmse_errors = []\n",
        "# TEST ERROR PER DEGREE\n",
        "test_rmse_errors = []\n",
        "\n",
        "for d in range(1,4):\n",
        "    \n",
        "    # CREATE POLY DATA SET FOR DEGREE \"d\"\n",
        "    polynomial_converter = PolynomialFeatures(degree=d,include_bias=False)\n",
        "    X_train_poly_features = polynomial_converter.fit_transform(X_train_poly_features)\n",
        "    X_test_poly_features = polynomial_converter.fit_transform(X_test_poly_features)\n",
        "\n",
        "    # TRAIN ON THIS NEW POLY SET    \n",
        "    model = LinearRegression(fit_intercept=True)\n",
        "    model.fit(X_train_poly_features,y_train)\n",
        "\n",
        "    # PREDICT ON BOTH TRAIN AND TEST\n",
        "    train_pred = model.predict(X_train_poly_features)\n",
        "    test_pred = model.predict(X_test_poly_features)\n",
        "    \n",
        "    \n",
        "    # Errors on Train Set\n",
        "    train_RMSE = np.sqrt(mean_squared_error(y_train,train_pred))\n",
        "    \n",
        "    # Errors on Test Set\n",
        "    test_RMSE = np.sqrt(mean_squared_error(y_test,test_pred))\n",
        "\n",
        "    # Append errors to lists for plotting later\n",
        "    \n",
        "   \n",
        "    train_rmse_errors.append(train_RMSE)\n",
        "    test_rmse_errors.append(test_RMSE)"
      ],
      "execution_count": null,
      "outputs": []
    },
    {
      "cell_type": "code",
      "metadata": {
        "id": "QNPzICqQW1oE"
      },
      "source": [
        "train_rmse_errors"
      ],
      "execution_count": null,
      "outputs": []
    },
    {
      "cell_type": "code",
      "metadata": {
        "id": "ssvr5EmEW5f2"
      },
      "source": [
        "test_rmse_errors"
      ],
      "execution_count": null,
      "outputs": []
    },
    {
      "cell_type": "markdown",
      "metadata": {
        "id": "CsFj_lyEgaFH"
      },
      "source": [
        "Baseado nos valores, percebe-se que do polinômio de grau 2 para o 3 há relativa estabilização do erro no teste e do 3 para o 4, o erro do teste começa a subir, enquanto o erro do treino continua a decrescer.  \n",
        "Considerando o aumento de computação necessária do polinômio de grau 2 para o 3 e também o aumento do erro posterior, escolhe-se manter o grau 2. Embora, no teste de OLS de regressão, o R^2 de uma regressão polinomial de grau 3 é de 87%, enquanto de grau 2 é de 78.8%."
      ]
    },
    {
      "cell_type": "code",
      "metadata": {
        "id": "1hn8FYeCWMRX"
      },
      "source": [
        "plt.plot(range(1,5),train_rmse_errors,label='TRAIN')\n",
        "plt.plot(range(1,5),test_rmse_errors,label='TEST')\n",
        "plt.xlabel(\"Polynomial Complexity\")\n",
        "plt.ylabel(\"RMSE\")\n",
        "plt.legend()"
      ],
      "execution_count": null,
      "outputs": []
    }
  ]
}
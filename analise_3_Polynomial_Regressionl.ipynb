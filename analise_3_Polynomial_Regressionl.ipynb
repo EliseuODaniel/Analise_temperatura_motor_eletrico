{
  "nbformat": 4,
  "nbformat_minor": 0,
  "metadata": {
    "colab": {
      "name": "analise_3_Polynomial_Regressionl.ipynb",
      "provenance": [],
      "collapsed_sections": [],
      "mount_file_id": "1f8cfoSfBZPXTWFZgyDPjnhfWbgXUuwrq",
      "authorship_tag": "ABX9TyOvLDg3s84lLCA43tbFRMZR",
      "include_colab_link": true
    },
    "kernelspec": {
      "name": "python3",
      "display_name": "Python 3"
    },
    "language_info": {
      "name": "python"
    }
  },
  "cells": [
    {
      "cell_type": "markdown",
      "metadata": {
        "id": "view-in-github",
        "colab_type": "text"
      },
      "source": [
        "<a href=\"https://colab.research.google.com/github/EliseuODaniel/Analise_temperatura_motor_eletrico/blob/main/analise_3_Polynomial_Regressionl.ipynb\" target=\"_parent\"><img src=\"https://colab.research.google.com/assets/colab-badge.svg\" alt=\"Open In Colab\"/></a>"
      ]
    },
    {
      "cell_type": "markdown",
      "metadata": {
        "id": "uWhkCVcOF-Dt"
      },
      "source": [
        "# Polynomial Regression"
      ]
    },
    {
      "cell_type": "code",
      "metadata": {
        "colab": {
          "base_uri": "https://localhost:8080/"
        },
        "id": "AKokCHH42Pw3",
        "outputId": "d3c4d4bb-e2fe-4050-ce13-524703620b55"
      },
      "source": [
        "import numpy as np \n",
        "import pandas as pd\n",
        "import matplotlib.pyplot as plt\n",
        "from matplotlib.colors import rgb2hex\n",
        "import seaborn as sns\n",
        "import scipy.stats as stats\n",
        "import statsmodels.api as sm\n",
        "import os"
      ],
      "execution_count": 1,
      "outputs": [
        {
          "output_type": "stream",
          "text": [
            "/usr/local/lib/python3.7/dist-packages/statsmodels/tools/_testing.py:19: FutureWarning: pandas.util.testing is deprecated. Use the functions in the public API at pandas.testing instead.\n",
            "  import pandas.util.testing as tm\n"
          ],
          "name": "stderr"
        }
      ]
    },
    {
      "cell_type": "code",
      "metadata": {
        "colab": {
          "base_uri": "https://localhost:8080/"
        },
        "id": "UB-0qCVI2sBv",
        "outputId": "26873008-7103-4ab0-b02f-2f707c34bdc4"
      },
      "source": [
        "df = pd.read_csv('/content/drive/MyDrive/Colab Notebooks/notebooks/input/measures_v2.csv')\n",
        "df.shape"
      ],
      "execution_count": 2,
      "outputs": [
        {
          "output_type": "execute_result",
          "data": {
            "text/plain": [
              "(1330816, 13)"
            ]
          },
          "metadata": {
            "tags": []
          },
          "execution_count": 2
        }
      ]
    },
    {
      "cell_type": "code",
      "metadata": {
        "id": "bVG2zPiB6EPT"
      },
      "source": [
        "from sklearn.preprocessing import PolynomialFeatures"
      ],
      "execution_count": 3,
      "outputs": []
    },
    {
      "cell_type": "code",
      "metadata": {
        "id": "bl24JgfS9zJu"
      },
      "source": [
        "# remoção da coluna torque, pois não servirá como variável nem de entrada e nem de saída\n",
        "df.drop('torque', axis=1, inplace=True)"
      ],
      "execution_count": 4,
      "outputs": []
    },
    {
      "cell_type": "markdown",
      "metadata": {
        "id": "A1r4k-aLGKYs"
      },
      "source": [
        "#Separação entre Datasets de treino e de teste"
      ]
    },
    {
      "cell_type": "code",
      "metadata": {
        "id": "DoLQKrXnAME5"
      },
      "source": [
        "#testagens separadas pra teste\n",
        "test_set_profiles = range(65,73)\n",
        "x_cols = ['ambient', 'coolant','i_q', 'u_q','i_d', 'u_d', 'motor_speed'] #RMSE = 10.51 (com todas as variáveis)\n",
        "#x_cols = ['ambient', 'coolant','i_q', 'u_q','i_d', 'u_d'] #RMSE = 12.06 (sem motor_speed)\n",
        "#x_cols = ['ambient', 'coolant','i_q', 'u_q','i_d',  'motor_speed'] #RMSE =  10.55\n",
        "#x_cols = ['ambient', 'coolant','i_q', 'u_q', 'u_d', 'motor_speed'] #RMSE = 11.79\n",
        "#x_cols = ['ambient', 'coolant','i_q', 'i_d', 'u_d', 'motor_speed'] #RMSE = 12.22\n",
        "#x_cols = ['ambient', 'coolant', 'u_q','i_d', 'u_d', 'motor_speed'] #RMSE = 10.36 (sem i_q - melhor resultado)\n",
        "#x_cols = ['ambient', 'i_q', 'u_q','i_d', 'u_d', 'motor_speed'] #RMSE = 11.38\n",
        "#x_cols = [ 'coolant','i_q', 'u_q','i_d', 'u_d', 'motor_speed'] #RMSE = 11.01\n",
        "\n",
        "#separado 2 datasets, um com as testagens que serão usadas pra treino e outro as de teste\n",
        "trainset = df.loc[~df.profile_id.isin(test_set_profiles), :].reset_index(drop=True)\n",
        "testset = df.loc[df.profile_id.isin(test_set_profiles), :].reset_index(drop=True)\n",
        "\n",
        "\n",
        "X_train = trainset.loc[:, x_cols]\n",
        "y_train = trainset.loc[:, 'pm']\n",
        "X_test = testset.loc[:, x_cols]\n",
        "y_test = testset.loc[:, 'pm']"
      ],
      "execution_count": 5,
      "outputs": []
    },
    {
      "cell_type": "markdown",
      "metadata": {
        "id": "Mz4p4CqwMA_a"
      },
      "source": [
        "a variável motor_speed cria resíduos distantes da média, como outliers. Talvez pela unidade da medida de velocidade."
      ]
    },
    {
      "cell_type": "code",
      "metadata": {
        "colab": {
          "base_uri": "https://localhost:8080/"
        },
        "id": "X3mh382lIT4e",
        "outputId": "eb2af522-4f16-462f-a5de-ba8bf4dc7988"
      },
      "source": [
        "X_train.shape"
      ],
      "execution_count": 6,
      "outputs": [
        {
          "output_type": "execute_result",
          "data": {
            "text/plain": [
              "(1148796, 7)"
            ]
          },
          "metadata": {
            "tags": []
          },
          "execution_count": 6
        }
      ]
    },
    {
      "cell_type": "code",
      "metadata": {
        "colab": {
          "base_uri": "https://localhost:8080/"
        },
        "id": "wNOvX-WoIXVJ",
        "outputId": "20f4d9dc-426b-4668-9761-39efcdc448d2"
      },
      "source": [
        "X_test.shape"
      ],
      "execution_count": 7,
      "outputs": [
        {
          "output_type": "execute_result",
          "data": {
            "text/plain": [
              "(182020, 7)"
            ]
          },
          "metadata": {
            "tags": []
          },
          "execution_count": 7
        }
      ]
    },
    {
      "cell_type": "markdown",
      "metadata": {
        "id": "ZrwPU49cGSV6"
      },
      "source": [
        "# Modelagem"
      ]
    },
    {
      "cell_type": "code",
      "metadata": {
        "id": "RcwUg_mC9o_T"
      },
      "source": [
        "polynomial_converter = PolynomialFeatures(degree=2,include_bias=False)"
      ],
      "execution_count": 8,
      "outputs": []
    },
    {
      "cell_type": "code",
      "metadata": {
        "id": "i_g0Txx1-C-O"
      },
      "source": [
        "# Converter \"fits\" to data, in this case, reads in every X column\n",
        "# Then it \"transforms\" and ouputs the new polynomial data\n",
        "X_train_poly_features = polynomial_converter.fit_transform(X_train)\n",
        "X_test_poly_features = polynomial_converter.fit_transform(X_test)"
      ],
      "execution_count": 9,
      "outputs": []
    },
    {
      "cell_type": "code",
      "metadata": {
        "colab": {
          "base_uri": "https://localhost:8080/"
        },
        "id": "A6BYLl9k_SHZ",
        "outputId": "dab478ae-b164-4157-982d-6965c2f2114f"
      },
      "source": [
        "X_train_poly_features.shape"
      ],
      "execution_count": 10,
      "outputs": [
        {
          "output_type": "execute_result",
          "data": {
            "text/plain": [
              "(1148796, 35)"
            ]
          },
          "metadata": {
            "tags": []
          },
          "execution_count": 10
        }
      ]
    },
    {
      "cell_type": "code",
      "metadata": {
        "colab": {
          "base_uri": "https://localhost:8080/"
        },
        "id": "EkbMQXfuDoIE",
        "outputId": "ed611912-f36c-4b01-e738-779765cc7f4a"
      },
      "source": [
        "X_test_poly_features.shape"
      ],
      "execution_count": 11,
      "outputs": [
        {
          "output_type": "execute_result",
          "data": {
            "text/plain": [
              "(182020, 35)"
            ]
          },
          "metadata": {
            "tags": []
          },
          "execution_count": 11
        }
      ]
    },
    {
      "cell_type": "code",
      "metadata": {
        "id": "RCd1rgcxDqk3"
      },
      "source": [
        "from sklearn.linear_model import LinearRegression\n",
        "model = LinearRegression()\n",
        "model.fit(X_train_poly_features,y_train)\n",
        "test_predictions = model.predict(X_test_poly_features)"
      ],
      "execution_count": 12,
      "outputs": []
    },
    {
      "cell_type": "markdown",
      "metadata": {
        "id": "Y5twd5BaEMOp"
      },
      "source": [
        "# Mensuração dos erros"
      ]
    },
    {
      "cell_type": "code",
      "metadata": {
        "id": "e0cViF-HEAyH"
      },
      "source": [
        "from sklearn.metrics import mean_absolute_error,mean_squared_error"
      ],
      "execution_count": 13,
      "outputs": []
    },
    {
      "cell_type": "code",
      "metadata": {
        "id": "wWQ0lraOESNe"
      },
      "source": [
        "MAE = mean_absolute_error(y_test,test_predictions)\n",
        "MSE = mean_squared_error(y_test,test_predictions)\n",
        "RMSE = np.sqrt(MSE)"
      ],
      "execution_count": 14,
      "outputs": []
    },
    {
      "cell_type": "code",
      "metadata": {
        "colab": {
          "base_uri": "https://localhost:8080/"
        },
        "id": "h3nSVWjwEWkF",
        "outputId": "c0287d46-bd8b-452d-9c0d-2c50ed4cf9f3"
      },
      "source": [
        "MAE"
      ],
      "execution_count": 15,
      "outputs": [
        {
          "output_type": "execute_result",
          "data": {
            "text/plain": [
              "8.121261553539135"
            ]
          },
          "metadata": {
            "tags": []
          },
          "execution_count": 15
        }
      ]
    },
    {
      "cell_type": "code",
      "metadata": {
        "colab": {
          "base_uri": "https://localhost:8080/"
        },
        "id": "LrPQ2hnDEy-q",
        "outputId": "8ffb46f0-ed72-4464-cf64-e49f5a6b54f7"
      },
      "source": [
        "MSE"
      ],
      "execution_count": 16,
      "outputs": [
        {
          "output_type": "execute_result",
          "data": {
            "text/plain": [
              "110.47258994617297"
            ]
          },
          "metadata": {
            "tags": []
          },
          "execution_count": 16
        }
      ]
    },
    {
      "cell_type": "code",
      "metadata": {
        "colab": {
          "base_uri": "https://localhost:8080/"
        },
        "id": "TnA1gtmiE0Du",
        "outputId": "88cba015-a2ae-4848-f21e-a336c898597a"
      },
      "source": [
        "RMSE"
      ],
      "execution_count": 17,
      "outputs": [
        {
          "output_type": "execute_result",
          "data": {
            "text/plain": [
              "10.51059417664734"
            ]
          },
          "metadata": {
            "tags": []
          },
          "execution_count": 17
        }
      ]
    },
    {
      "cell_type": "code",
      "metadata": {
        "colab": {
          "base_uri": "https://localhost:8080/"
        },
        "id": "kXK5US64E0vn",
        "outputId": "a3dd4403-1bf8-4b42-dad9-4919c269ca4e"
      },
      "source": [
        "#valor médio das temperaturas do rotor em todo o dataset - para comparar com o RMSE\n",
        "#ou seja, as previsões do modelo variam 12 para + e - de 58,51\n",
        "df['pm'].mean()"
      ],
      "execution_count": 18,
      "outputs": [
        {
          "output_type": "execute_result",
          "data": {
            "text/plain": [
              "58.50677585061459"
            ]
          },
          "metadata": {
            "tags": []
          },
          "execution_count": 18
        }
      ]
    },
    {
      "cell_type": "markdown",
      "metadata": {
        "id": "v0N7XVsAE-2Q"
      },
      "source": [
        "Comparison with multiple linear regression  \n",
        "MAE = 9.626260043968127  \n",
        "MSE = 145.61949126832434   \n",
        "RMSE = 12.067290137736986 "
      ]
    },
    {
      "cell_type": "code",
      "metadata": {
        "colab": {
          "base_uri": "https://localhost:8080/"
        },
        "id": "4NiyCR-eFR4p",
        "outputId": "deba7529-ab78-4bd8-da85-a79d75401c1b"
      },
      "source": [
        "model.coef_"
      ],
      "execution_count": 19,
      "outputs": [
        {
          "output_type": "execute_result",
          "data": {
            "text/plain": [
              "array([-9.93535005e+00,  1.40102607e+00, -7.75913016e-02, -1.13689428e+00,\n",
              "       -3.52007918e-01, -2.25577035e+00,  8.87746876e-02,  3.42470931e-01,\n",
              "       -3.97550142e-02, -1.31863397e-03, -2.45873556e-02, -3.60042922e-04,\n",
              "        1.25726976e-02, -3.87792866e-04, -1.58548367e-03,  6.59811720e-05,\n",
              "        2.96787620e-03, -1.45692693e-03,  1.80325691e-03, -1.33145911e-04,\n",
              "        7.57587966e-06, -1.41835252e-02, -1.75697633e-03, -1.17726225e-03,\n",
              "        2.65587087e-04, -6.24152582e-03,  9.61577208e-03,  3.95196116e-03,\n",
              "        4.08292748e-04, -2.32474616e-03, -1.32206296e-02,  2.43315895e-04,\n",
              "        1.02513274e-03, -3.90729119e-05, -3.78633379e-06])"
            ]
          },
          "metadata": {
            "tags": []
          },
          "execution_count": 19
        }
      ]
    },
    {
      "cell_type": "code",
      "metadata": {
        "colab": {
          "base_uri": "https://localhost:8080/",
          "height": 296
        },
        "id": "hVgbBW4pHJd4",
        "outputId": "2bfb653d-41a4-497f-bdf8-9bfc3eccbd03"
      },
      "source": [
        "# plotagem da distribuição dos resíduos\n",
        "test_res = y_test - test_predictions\n",
        "\n",
        "sns.scatterplot(x=y_test,y=test_res)\n",
        "plt.axhline(y=0, color='r', linestyle='--')"
      ],
      "execution_count": 20,
      "outputs": [
        {
          "output_type": "execute_result",
          "data": {
            "text/plain": [
              "<matplotlib.lines.Line2D at 0x7f4520da0d90>"
            ]
          },
          "metadata": {
            "tags": []
          },
          "execution_count": 20
        },
        {
          "output_type": "display_data",
          "data": {
            "image/png": "[encoded data removed]",
            "text/plain": [
              "<Figure size 432x288 with 1 Axes>"
            ]
          },
          "metadata": {
            "tags": [],
            "needs_background": "light"
          }
        }
      ]
    },
    {
      "cell_type": "code",
      "metadata": {
        "colab": {
          "base_uri": "https://localhost:8080/",
          "height": 386
        },
        "id": "_GXVJtxDHMoT",
        "outputId": "7818d342-78a1-40f8-8256-3adf3ef9bbb7"
      },
      "source": [
        "#plotagem da distribuição dos resíduos pra verificar visualmente a normalidade\n",
        "sns.displot(test_res,bins=25,kde=True)"
      ],
      "execution_count": 21,
      "outputs": [
        {
          "output_type": "execute_result",
          "data": {
            "text/plain": [
              "<seaborn.axisgrid.FacetGrid at 0x7f45160d7790>"
            ]
          },
          "metadata": {
            "tags": []
          },
          "execution_count": 21
        },
        {
          "output_type": "display_data",
          "data": {
            "image/png": "[encoded data removed]",
            "text/plain": [
              "<Figure size 360x360 with 1 Axes>"
            ]
          },
          "metadata": {
            "tags": [],
            "needs_background": "light"
          }
        }
      ]
    },
    {
      "cell_type": "code",
      "metadata": {
        "colab": {
          "base_uri": "https://localhost:8080/",
          "height": 706
        },
        "id": "RrK-cFRWHX2l",
        "outputId": "d08ec30b-8a85-4474-aa5d-d5569bdab9e8"
      },
      "source": [
        "import scipy as sp\n",
        "# Create a figure and axis to plot on\n",
        "fig, ax = plt.subplots(figsize=(6,8),dpi=100)\n",
        "# probplot returns the raw values if needed\n",
        "# we just want to see the plot, so we assign these values to _\n",
        "_ = sp.stats.probplot(test_res,plot=ax)"
      ],
      "execution_count": 22,
      "outputs": [
        {
          "output_type": "display_data",
          "data": {
            "image/png": "[encoded data removed]",
            "text/plain": [
              "<Figure size 600x800 with 1 Axes>"
            ]
          },
          "metadata": {
            "tags": [],
            "needs_background": "light"
          }
        }
      ]
    },
    {
      "cell_type": "markdown",
      "metadata": {
        "id": "sUXgTXa9Oaka"
      },
      "source": [
        "os resíduos distantes da normal devem-se à variável motor_speed como mencionado mais acima"
      ]
    },
    {
      "cell_type": "code",
      "metadata": {
        "colab": {
          "base_uri": "https://localhost:8080/",
          "height": 1000
        },
        "id": "iBn6g5mQOhe1",
        "outputId": "6b457cee-c526-4685-c04f-622733bed5c3"
      },
      "source": [
        "import statsmodels.api as sm\n",
        "X_train_const = sm.add_constant(X_train_poly_features)\n",
        "lin_reg = sm.OLS(y_train,X_train_const).fit()\n",
        "lin_reg.summary()"
      ],
      "execution_count": 24,
      "outputs": [
        {
          "output_type": "execute_result",
          "data": {
            "text/html": [
              "<table class=\"simpletable\">\n",
              "<caption>OLS Regression Results</caption>\n",
              "<tr>\n",
              "  <th>Dep. Variable:</th>           <td>pm</td>        <th>  R-squared:         </th>  <td>   0.788</td>  \n",
              "</tr>\n",
              "<tr>\n",
              "  <th>Model:</th>                   <td>OLS</td>       <th>  Adj. R-squared:    </th>  <td>   0.788</td>  \n",
              "</tr>\n",
              "<tr>\n",
              "  <th>Method:</th>             <td>Least Squares</td>  <th>  F-statistic:       </th>  <td>1.218e+05</td> \n",
              "</tr>\n",
              "<tr>\n",
              "  <th>Date:</th>             <td>Fri, 09 Jul 2021</td> <th>  Prob (F-statistic):</th>   <td>  0.00</td>   \n",
              "</tr>\n",
              "<tr>\n",
              "  <th>Time:</th>                 <td>07:47:25</td>     <th>  Log-Likelihood:    </th> <td>-4.1610e+06</td>\n",
              "</tr>\n",
              "<tr>\n",
              "  <th>No. Observations:</th>      <td>1148796</td>     <th>  AIC:               </th>  <td>8.322e+06</td> \n",
              "</tr>\n",
              "<tr>\n",
              "  <th>Df Residuals:</th>          <td>1148760</td>     <th>  BIC:               </th>  <td>8.322e+06</td> \n",
              "</tr>\n",
              "<tr>\n",
              "  <th>Df Model:</th>              <td>    35</td>      <th>                     </th>      <td> </td>     \n",
              "</tr>\n",
              "<tr>\n",
              "  <th>Covariance Type:</th>      <td>nonrobust</td>    <th>                     </th>      <td> </td>     \n",
              "</tr>\n",
              "</table>\n",
              "<table class=\"simpletable\">\n",
              "<tr>\n",
              "    <td></td>       <th>coef</th>     <th>std err</th>      <th>t</th>      <th>P>|t|</th>  <th>[0.025</th>    <th>0.975]</th>  \n",
              "</tr>\n",
              "<tr>\n",
              "  <th>const</th> <td>   77.2253</td> <td>    1.228</td> <td>   62.903</td> <td> 0.000</td> <td>   74.819</td> <td>   79.632</td>\n",
              "</tr>\n",
              "<tr>\n",
              "  <th>x1</th>    <td>   -9.9354</td> <td>    0.108</td> <td>  -91.933</td> <td> 0.000</td> <td>  -10.147</td> <td>   -9.724</td>\n",
              "</tr>\n",
              "<tr>\n",
              "  <th>x2</th>    <td>    1.4010</td> <td>    0.009</td> <td>  148.598</td> <td> 0.000</td> <td>    1.383</td> <td>    1.420</td>\n",
              "</tr>\n",
              "<tr>\n",
              "  <th>x3</th>    <td>   -0.0776</td> <td>    0.003</td> <td>  -25.354</td> <td> 0.000</td> <td>   -0.084</td> <td>   -0.072</td>\n",
              "</tr>\n",
              "<tr>\n",
              "  <th>x4</th>    <td>   -1.1369</td> <td>    0.008</td> <td> -141.096</td> <td> 0.000</td> <td>   -1.153</td> <td>   -1.121</td>\n",
              "</tr>\n",
              "<tr>\n",
              "  <th>x5</th>    <td>   -0.3520</td> <td>    0.006</td> <td>  -59.568</td> <td> 0.000</td> <td>   -0.364</td> <td>   -0.340</td>\n",
              "</tr>\n",
              "<tr>\n",
              "  <th>x6</th>    <td>   -2.2558</td> <td>    0.007</td> <td> -312.025</td> <td> 0.000</td> <td>   -2.270</td> <td>   -2.242</td>\n",
              "</tr>\n",
              "<tr>\n",
              "  <th>x7</th>    <td>    0.0888</td> <td>    0.000</td> <td>  270.437</td> <td> 0.000</td> <td>    0.088</td> <td>    0.089</td>\n",
              "</tr>\n",
              "<tr>\n",
              "  <th>x8</th>    <td>    0.3425</td> <td>    0.002</td> <td>  142.273</td> <td> 0.000</td> <td>    0.338</td> <td>    0.347</td>\n",
              "</tr>\n",
              "<tr>\n",
              "  <th>x9</th>    <td>   -0.0398</td> <td>    0.000</td> <td> -101.822</td> <td> 0.000</td> <td>   -0.041</td> <td>   -0.039</td>\n",
              "</tr>\n",
              "<tr>\n",
              "  <th>x10</th>   <td>   -0.0013</td> <td>    0.000</td> <td>  -10.574</td> <td> 0.000</td> <td>   -0.002</td> <td>   -0.001</td>\n",
              "</tr>\n",
              "<tr>\n",
              "  <th>x11</th>   <td>   -0.0246</td> <td>    0.000</td> <td>  -83.796</td> <td> 0.000</td> <td>   -0.025</td> <td>   -0.024</td>\n",
              "</tr>\n",
              "<tr>\n",
              "  <th>x12</th>   <td>   -0.0004</td> <td>    0.000</td> <td>   -1.742</td> <td> 0.081</td> <td>   -0.001</td> <td>  4.5e-05</td>\n",
              "</tr>\n",
              "<tr>\n",
              "  <th>x13</th>   <td>    0.0126</td> <td>    0.000</td> <td>   72.870</td> <td> 0.000</td> <td>    0.012</td> <td>    0.013</td>\n",
              "</tr>\n",
              "<tr>\n",
              "  <th>x14</th>   <td>   -0.0004</td> <td> 1.06e-05</td> <td>  -36.710</td> <td> 0.000</td> <td>   -0.000</td> <td>   -0.000</td>\n",
              "</tr>\n",
              "<tr>\n",
              "  <th>x15</th>   <td>   -0.0016</td> <td> 2.35e-05</td> <td>  -67.545</td> <td> 0.000</td> <td>   -0.002</td> <td>   -0.002</td>\n",
              "</tr>\n",
              "<tr>\n",
              "  <th>x16</th>   <td> 6.598e-05</td> <td> 1.12e-05</td> <td>    5.880</td> <td> 0.000</td> <td>  4.4e-05</td> <td>  8.8e-05</td>\n",
              "</tr>\n",
              "<tr>\n",
              "  <th>x17</th>   <td>    0.0030</td> <td> 2.66e-05</td> <td>  111.547</td> <td> 0.000</td> <td>    0.003</td> <td>    0.003</td>\n",
              "</tr>\n",
              "<tr>\n",
              "  <th>x18</th>   <td>   -0.0015</td> <td> 1.95e-05</td> <td>  -74.871</td> <td> 0.000</td> <td>   -0.001</td> <td>   -0.001</td>\n",
              "</tr>\n",
              "<tr>\n",
              "  <th>x19</th>   <td>    0.0018</td> <td> 1.68e-05</td> <td>  107.629</td> <td> 0.000</td> <td>    0.002</td> <td>    0.002</td>\n",
              "</tr>\n",
              "<tr>\n",
              "  <th>x20</th>   <td>   -0.0001</td> <td>  9.7e-07</td> <td> -137.306</td> <td> 0.000</td> <td>   -0.000</td> <td>   -0.000</td>\n",
              "</tr>\n",
              "<tr>\n",
              "  <th>x21</th>   <td> 7.576e-06</td> <td>    5e-06</td> <td>    1.516</td> <td> 0.130</td> <td>-2.22e-06</td> <td> 1.74e-05</td>\n",
              "</tr>\n",
              "<tr>\n",
              "  <th>x22</th>   <td>   -0.0142</td> <td> 8.56e-05</td> <td> -165.695</td> <td> 0.000</td> <td>   -0.014</td> <td>   -0.014</td>\n",
              "</tr>\n",
              "<tr>\n",
              "  <th>x23</th>   <td>   -0.0018</td> <td> 7.49e-06</td> <td> -234.514</td> <td> 0.000</td> <td>   -0.002</td> <td>   -0.002</td>\n",
              "</tr>\n",
              "<tr>\n",
              "  <th>x24</th>   <td>   -0.0012</td> <td> 9.07e-06</td> <td> -129.839</td> <td> 0.000</td> <td>   -0.001</td> <td>   -0.001</td>\n",
              "</tr>\n",
              "<tr>\n",
              "  <th>x25</th>   <td>    0.0003</td> <td> 4.12e-06</td> <td>   64.433</td> <td> 0.000</td> <td>    0.000</td> <td>    0.000</td>\n",
              "</tr>\n",
              "<tr>\n",
              "  <th>x26</th>   <td>   -0.0062</td> <td> 2.55e-05</td> <td> -244.885</td> <td> 0.000</td> <td>   -0.006</td> <td>   -0.006</td>\n",
              "</tr>\n",
              "<tr>\n",
              "  <th>x27</th>   <td>    0.0096</td> <td> 3.38e-05</td> <td>  284.177</td> <td> 0.000</td> <td>    0.010</td> <td>    0.010</td>\n",
              "</tr>\n",
              "<tr>\n",
              "  <th>x28</th>   <td>    0.0040</td> <td> 2.29e-05</td> <td>  172.277</td> <td> 0.000</td> <td>    0.004</td> <td>    0.004</td>\n",
              "</tr>\n",
              "<tr>\n",
              "  <th>x29</th>   <td>    0.0004</td> <td> 1.58e-06</td> <td>  257.856</td> <td> 0.000</td> <td>    0.000</td> <td>    0.000</td>\n",
              "</tr>\n",
              "<tr>\n",
              "  <th>x30</th>   <td>   -0.0023</td> <td> 1.18e-05</td> <td> -196.846</td> <td> 0.000</td> <td>   -0.002</td> <td>   -0.002</td>\n",
              "</tr>\n",
              "<tr>\n",
              "  <th>x31</th>   <td>   -0.0132</td> <td> 5.71e-05</td> <td> -231.377</td> <td> 0.000</td> <td>   -0.013</td> <td>   -0.013</td>\n",
              "</tr>\n",
              "<tr>\n",
              "  <th>x32</th>   <td>    0.0002</td> <td> 1.09e-06</td> <td>  223.495</td> <td> 0.000</td> <td>    0.000</td> <td>    0.000</td>\n",
              "</tr>\n",
              "<tr>\n",
              "  <th>x33</th>   <td>    0.0010</td> <td> 1.08e-05</td> <td>   94.986</td> <td> 0.000</td> <td>    0.001</td> <td>    0.001</td>\n",
              "</tr>\n",
              "<tr>\n",
              "  <th>x34</th>   <td>-3.907e-05</td> <td> 5.55e-07</td> <td>  -70.442</td> <td> 0.000</td> <td>-4.02e-05</td> <td> -3.8e-05</td>\n",
              "</tr>\n",
              "<tr>\n",
              "  <th>x35</th>   <td>-3.786e-06</td> <td> 2.65e-08</td> <td> -143.030</td> <td> 0.000</td> <td>-3.84e-06</td> <td>-3.73e-06</td>\n",
              "</tr>\n",
              "</table>\n",
              "<table class=\"simpletable\">\n",
              "<tr>\n",
              "  <th>Omnibus:</th>       <td>326782.791</td> <th>  Durbin-Watson:     </th>   <td>   0.005</td>  \n",
              "</tr>\n",
              "<tr>\n",
              "  <th>Prob(Omnibus):</th>   <td> 0.000</td>   <th>  Jarque-Bera (JB):  </th> <td>26784304.227</td>\n",
              "</tr>\n",
              "<tr>\n",
              "  <th>Skew:</th>            <td>-0.405</td>   <th>  Prob(JB):          </th>   <td>    0.00</td>  \n",
              "</tr>\n",
              "<tr>\n",
              "  <th>Kurtosis:</th>        <td>26.641</td>   <th>  Cond. No.          </th>   <td>1.92e+09</td>  \n",
              "</tr>\n",
              "</table><br/><br/>Warnings:<br/>[1] Standard Errors assume that the covariance matrix of the errors is correctly specified.<br/>[2] The condition number is large, 1.92e+09. This might indicate that there are<br/>strong multicollinearity or other numerical problems."
            ],
            "text/plain": [
              "<class 'statsmodels.iolib.summary.Summary'>\n",
              "\"\"\"\n",
              "                            OLS Regression Results                            \n",
              "==============================================================================\n",
              "Dep. Variable:                     pm   R-squared:                       0.788\n",
              "Model:                            OLS   Adj. R-squared:                  0.788\n",
              "Method:                 Least Squares   F-statistic:                 1.218e+05\n",
              "Date:                Fri, 09 Jul 2021   Prob (F-statistic):               0.00\n",
              "Time:                        07:47:25   Log-Likelihood:            -4.1610e+06\n",
              "No. Observations:             1148796   AIC:                         8.322e+06\n",
              "Df Residuals:                 1148760   BIC:                         8.322e+06\n",
              "Df Model:                          35                                         \n",
              "Covariance Type:            nonrobust                                         \n",
              "==============================================================================\n",
              "                 coef    std err          t      P>|t|      [0.025      0.975]\n",
              "------------------------------------------------------------------------------\n",
              "const         77.2253      1.228     62.903      0.000      74.819      79.632\n",
              "x1            -9.9354      0.108    -91.933      0.000     -10.147      -9.724\n",
              "x2             1.4010      0.009    148.598      0.000       1.383       1.420\n",
              "x3            -0.0776      0.003    -25.354      0.000      -0.084      -0.072\n",
              "x4            -1.1369      0.008   -141.096      0.000      -1.153      -1.121\n",
              "x5            -0.3520      0.006    -59.568      0.000      -0.364      -0.340\n",
              "x6            -2.2558      0.007   -312.025      0.000      -2.270      -2.242\n",
              "x7             0.0888      0.000    270.437      0.000       0.088       0.089\n",
              "x8             0.3425      0.002    142.273      0.000       0.338       0.347\n",
              "x9            -0.0398      0.000   -101.822      0.000      -0.041      -0.039\n",
              "x10           -0.0013      0.000    -10.574      0.000      -0.002      -0.001\n",
              "x11           -0.0246      0.000    -83.796      0.000      -0.025      -0.024\n",
              "x12           -0.0004      0.000     -1.742      0.081      -0.001     4.5e-05\n",
              "x13            0.0126      0.000     72.870      0.000       0.012       0.013\n",
              "x14           -0.0004   1.06e-05    -36.710      0.000      -0.000      -0.000\n",
              "x15           -0.0016   2.35e-05    -67.545      0.000      -0.002      -0.002\n",
              "x16         6.598e-05   1.12e-05      5.880      0.000     4.4e-05     8.8e-05\n",
              "x17            0.0030   2.66e-05    111.547      0.000       0.003       0.003\n",
              "x18           -0.0015   1.95e-05    -74.871      0.000      -0.001      -0.001\n",
              "x19            0.0018   1.68e-05    107.629      0.000       0.002       0.002\n",
              "x20           -0.0001    9.7e-07   -137.306      0.000      -0.000      -0.000\n",
              "x21         7.576e-06      5e-06      1.516      0.130   -2.22e-06    1.74e-05\n",
              "x22           -0.0142   8.56e-05   -165.695      0.000      -0.014      -0.014\n",
              "x23           -0.0018   7.49e-06   -234.514      0.000      -0.002      -0.002\n",
              "x24           -0.0012   9.07e-06   -129.839      0.000      -0.001      -0.001\n",
              "x25            0.0003   4.12e-06     64.433      0.000       0.000       0.000\n",
              "x26           -0.0062   2.55e-05   -244.885      0.000      -0.006      -0.006\n",
              "x27            0.0096   3.38e-05    284.177      0.000       0.010       0.010\n",
              "x28            0.0040   2.29e-05    172.277      0.000       0.004       0.004\n",
              "x29            0.0004   1.58e-06    257.856      0.000       0.000       0.000\n",
              "x30           -0.0023   1.18e-05   -196.846      0.000      -0.002      -0.002\n",
              "x31           -0.0132   5.71e-05   -231.377      0.000      -0.013      -0.013\n",
              "x32            0.0002   1.09e-06    223.495      0.000       0.000       0.000\n",
              "x33            0.0010   1.08e-05     94.986      0.000       0.001       0.001\n",
              "x34        -3.907e-05   5.55e-07    -70.442      0.000   -4.02e-05    -3.8e-05\n",
              "x35        -3.786e-06   2.65e-08   -143.030      0.000   -3.84e-06   -3.73e-06\n",
              "==============================================================================\n",
              "Omnibus:                   326782.791   Durbin-Watson:                   0.005\n",
              "Prob(Omnibus):                  0.000   Jarque-Bera (JB):         26784304.227\n",
              "Skew:                          -0.405   Prob(JB):                         0.00\n",
              "Kurtosis:                      26.641   Cond. No.                     1.92e+09\n",
              "==============================================================================\n",
              "\n",
              "Warnings:\n",
              "[1] Standard Errors assume that the covariance matrix of the errors is correctly specified.\n",
              "[2] The condition number is large, 1.92e+09. This might indicate that there are\n",
              "strong multicollinearity or other numerical problems.\n",
              "\"\"\""
            ]
          },
          "metadata": {
            "tags": []
          },
          "execution_count": 24
        }
      ]
    }
  ]
}
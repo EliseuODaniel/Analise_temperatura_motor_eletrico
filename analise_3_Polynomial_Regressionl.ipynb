{
  "nbformat": 4,
  "nbformat_minor": 0,
  "metadata": {
    "colab": {
      "name": "analise_3_Polynomial_Regressionl.ipynb",
      "provenance": [],
      "collapsed_sections": [],
      "mount_file_id": "1f8cfoSfBZPXTWFZgyDPjnhfWbgXUuwrq",
      "authorship_tag": "ABX9TyPAFl/7W/Jhx2I48LFOlcLS",
      "include_colab_link": true
    },
    "kernelspec": {
      "name": "python3",
      "display_name": "Python 3"
    },
    "language_info": {
      "name": "python"
    }
  },
  "cells": [
    {
      "cell_type": "markdown",
      "metadata": {
        "id": "view-in-github",
        "colab_type": "text"
      },
      "source": [
        "<a href=\"https://colab.research.google.com/github/EliseuODaniel/Analise_temperatura_motor_eletrico/blob/main/analise_3_Polynomial_Regressionl.ipynb\" target=\"_parent\"><img src=\"https://colab.research.google.com/assets/colab-badge.svg\" alt=\"Open In Colab\"/></a>"
      ]
    },
    {
      "cell_type": "markdown",
      "metadata": {
        "id": "uWhkCVcOF-Dt"
      },
      "source": [
        "# Polynomial Regression"
      ]
    },
    {
      "cell_type": "code",
      "metadata": {
        "id": "AKokCHH42Pw3"
      },
      "source": [
        "import numpy as np \n",
        "import pandas as pd\n",
        "import matplotlib.pyplot as plt\n",
        "from matplotlib.colors import rgb2hex\n",
        "import seaborn as sns\n",
        "import scipy.stats as stats\n",
        "import statsmodels.api as sm\n",
        "import os"
      ],
      "execution_count": 110,
      "outputs": []
    },
    {
      "cell_type": "code",
      "metadata": {
        "colab": {
          "base_uri": "https://localhost:8080/"
        },
        "id": "UB-0qCVI2sBv",
        "outputId": "35483af5-b542-4be4-8191-abdbfd995a14"
      },
      "source": [
        "df = pd.read_csv('/content/drive/MyDrive/Colab Notebooks/notebooks/input/measures_v2.csv')\n",
        "df.shape"
      ],
      "execution_count": 111,
      "outputs": [
        {
          "output_type": "execute_result",
          "data": {
            "text/plain": [
              "(1330816, 13)"
            ]
          },
          "metadata": {
            "tags": []
          },
          "execution_count": 111
        }
      ]
    },
    {
      "cell_type": "code",
      "metadata": {
        "id": "bVG2zPiB6EPT"
      },
      "source": [
        "from sklearn.preprocessing import PolynomialFeatures"
      ],
      "execution_count": 112,
      "outputs": []
    },
    {
      "cell_type": "code",
      "metadata": {
        "id": "bl24JgfS9zJu"
      },
      "source": [
        "# remoção da coluna torque, pois não servirá como variável nem de entrada e nem de saída\n",
        "df.drop('torque', axis=1, inplace=True)"
      ],
      "execution_count": 113,
      "outputs": []
    },
    {
      "cell_type": "markdown",
      "metadata": {
        "id": "A1r4k-aLGKYs"
      },
      "source": [
        "#Separação entre Datasets de treino e de teste"
      ]
    },
    {
      "cell_type": "code",
      "metadata": {
        "id": "DoLQKrXnAME5"
      },
      "source": [
        "#testagens separadas pra teste\n",
        "test_set_profiles = range(65,73)\n",
        "x_cols = ['ambient', 'coolant','i_q', 'u_q','i_d', 'u_d', 'motor_speed'] #RMSE = 10.51 (com todas as variáveis)\n",
        "#x_cols = ['ambient', 'coolant','i_q', 'u_q','i_d', 'u_d'] #RMSE = 12.06 (sem motor_speed)\n",
        "#x_cols = ['ambient', 'coolant','i_q', 'u_q','i_d',  'motor_speed'] #RMSE =  10.55\n",
        "#x_cols = ['ambient', 'coolant','i_q', 'u_q', 'u_d', 'motor_speed'] #RMSE = 11.79\n",
        "#x_cols = ['ambient', 'coolant','i_q', 'i_d', 'u_d', 'motor_speed'] #RMSE = 12.22\n",
        "#x_cols = ['ambient', 'coolant', 'u_q','i_d', 'u_d', 'motor_speed'] #RMSE = 10.36 (sem i_q - melhor resultado)\n",
        "#x_cols = ['ambient', 'i_q', 'u_q','i_d', 'u_d', 'motor_speed'] #RMSE = 11.38\n",
        "#x_cols = [ 'coolant','i_q', 'u_q','i_d', 'u_d', 'motor_speed'] #RMSE = 11.01\n",
        "\n",
        "#separado 2 datasets, um com as testagens que serão usadas pra treino e outro as de teste\n",
        "trainset = df.loc[~df.profile_id.isin(test_set_profiles), :].reset_index(drop=True)\n",
        "testset = df.loc[df.profile_id.isin(test_set_profiles), :].reset_index(drop=True)\n",
        "\n",
        "\n",
        "X_train = trainset.loc[:, x_cols]\n",
        "y_train = trainset.loc[:, 'pm']\n",
        "X_test = testset.loc[:, x_cols]\n",
        "y_test = testset.loc[:, 'pm']"
      ],
      "execution_count": 348,
      "outputs": []
    },
    {
      "cell_type": "markdown",
      "metadata": {
        "id": "Mz4p4CqwMA_a"
      },
      "source": [
        "a variável motor_speed cria resíduos distantes da média, como outliers. Talvez pela unidade da medida de velocidade."
      ]
    },
    {
      "cell_type": "code",
      "metadata": {
        "colab": {
          "base_uri": "https://localhost:8080/"
        },
        "id": "X3mh382lIT4e",
        "outputId": "e4267350-13e9-4151-bab5-428ac92be6ba"
      },
      "source": [
        "X_train.shape"
      ],
      "execution_count": 349,
      "outputs": [
        {
          "output_type": "execute_result",
          "data": {
            "text/plain": [
              "(1148796, 6)"
            ]
          },
          "metadata": {
            "tags": []
          },
          "execution_count": 349
        }
      ]
    },
    {
      "cell_type": "code",
      "metadata": {
        "colab": {
          "base_uri": "https://localhost:8080/"
        },
        "id": "wNOvX-WoIXVJ",
        "outputId": "9e60e482-c257-4b57-f635-92f25757fbf7"
      },
      "source": [
        "X_test.shape"
      ],
      "execution_count": 350,
      "outputs": [
        {
          "output_type": "execute_result",
          "data": {
            "text/plain": [
              "(182020, 6)"
            ]
          },
          "metadata": {
            "tags": []
          },
          "execution_count": 350
        }
      ]
    },
    {
      "cell_type": "markdown",
      "metadata": {
        "id": "ZrwPU49cGSV6"
      },
      "source": [
        "# Modelagem"
      ]
    },
    {
      "cell_type": "code",
      "metadata": {
        "id": "RcwUg_mC9o_T"
      },
      "source": [
        "polynomial_converter = PolynomialFeatures(degree=2,include_bias=False)"
      ],
      "execution_count": 351,
      "outputs": []
    },
    {
      "cell_type": "code",
      "metadata": {
        "id": "i_g0Txx1-C-O"
      },
      "source": [
        "# Converter \"fits\" to data, in this case, reads in every X column\n",
        "# Then it \"transforms\" and ouputs the new polynomial data\n",
        "X_train_poly_features = polynomial_converter.fit_transform(X_train)\n",
        "X_test_poly_features = polynomial_converter.fit_transform(X_test)"
      ],
      "execution_count": 352,
      "outputs": []
    },
    {
      "cell_type": "code",
      "metadata": {
        "colab": {
          "base_uri": "https://localhost:8080/"
        },
        "id": "A6BYLl9k_SHZ",
        "outputId": "6af951b5-af09-4d58-b55f-d4f76393472a"
      },
      "source": [
        "X_train_poly_features.shape"
      ],
      "execution_count": 353,
      "outputs": [
        {
          "output_type": "execute_result",
          "data": {
            "text/plain": [
              "(1148796, 27)"
            ]
          },
          "metadata": {
            "tags": []
          },
          "execution_count": 353
        }
      ]
    },
    {
      "cell_type": "code",
      "metadata": {
        "colab": {
          "base_uri": "https://localhost:8080/"
        },
        "id": "EkbMQXfuDoIE",
        "outputId": "4b71f6a9-4661-4f78-f22b-4511d286d14f"
      },
      "source": [
        "X_test_poly_features.shape"
      ],
      "execution_count": 354,
      "outputs": [
        {
          "output_type": "execute_result",
          "data": {
            "text/plain": [
              "(182020, 27)"
            ]
          },
          "metadata": {
            "tags": []
          },
          "execution_count": 354
        }
      ]
    },
    {
      "cell_type": "code",
      "metadata": {
        "id": "RCd1rgcxDqk3"
      },
      "source": [
        "from sklearn.linear_model import LinearRegression\n",
        "model = LinearRegression()\n",
        "model.fit(X_train_poly_features,y_train)\n",
        "test_predictions = model.predict(X_test_poly_features)"
      ],
      "execution_count": 355,
      "outputs": []
    },
    {
      "cell_type": "markdown",
      "metadata": {
        "id": "Y5twd5BaEMOp"
      },
      "source": [
        "# Mensuração dos erros"
      ]
    },
    {
      "cell_type": "code",
      "metadata": {
        "id": "e0cViF-HEAyH"
      },
      "source": [
        "from sklearn.metrics import mean_absolute_error,mean_squared_error"
      ],
      "execution_count": 356,
      "outputs": []
    },
    {
      "cell_type": "code",
      "metadata": {
        "id": "wWQ0lraOESNe"
      },
      "source": [
        "MAE = mean_absolute_error(y_test,test_predictions)\n",
        "MSE = mean_squared_error(y_test,test_predictions)\n",
        "RMSE = np.sqrt(MSE)"
      ],
      "execution_count": 357,
      "outputs": []
    },
    {
      "cell_type": "code",
      "metadata": {
        "colab": {
          "base_uri": "https://localhost:8080/"
        },
        "id": "h3nSVWjwEWkF",
        "outputId": "f5440cec-7918-421c-8d52-9d440e1eeac7"
      },
      "source": [
        "MAE"
      ],
      "execution_count": 358,
      "outputs": [
        {
          "output_type": "execute_result",
          "data": {
            "text/plain": [
              "8.185612385888744"
            ]
          },
          "metadata": {
            "tags": []
          },
          "execution_count": 358
        }
      ]
    },
    {
      "cell_type": "code",
      "metadata": {
        "colab": {
          "base_uri": "https://localhost:8080/"
        },
        "id": "LrPQ2hnDEy-q",
        "outputId": "0c97f1ff-bd2a-482b-c9e6-a0279ff3b420"
      },
      "source": [
        "MSE"
      ],
      "execution_count": 359,
      "outputs": [
        {
          "output_type": "execute_result",
          "data": {
            "text/plain": [
              "111.51085399422324"
            ]
          },
          "metadata": {
            "tags": []
          },
          "execution_count": 359
        }
      ]
    },
    {
      "cell_type": "code",
      "metadata": {
        "colab": {
          "base_uri": "https://localhost:8080/"
        },
        "id": "TnA1gtmiE0Du",
        "outputId": "15197e1a-185b-42bb-835d-76547001a372"
      },
      "source": [
        "RMSE"
      ],
      "execution_count": 360,
      "outputs": [
        {
          "output_type": "execute_result",
          "data": {
            "text/plain": [
              "10.55986997998665"
            ]
          },
          "metadata": {
            "tags": []
          },
          "execution_count": 360
        }
      ]
    },
    {
      "cell_type": "code",
      "metadata": {
        "colab": {
          "base_uri": "https://localhost:8080/"
        },
        "id": "kXK5US64E0vn",
        "outputId": "cd3b979a-0321-43aa-9093-2c834abdba69"
      },
      "source": [
        "#valor médio das temperaturas do rotor em todo o dataset - para comparar com o RMSE\n",
        "#ou seja, as previsões do modelo variam 12 para + e - de 58,51\n",
        "df['pm'].mean()"
      ],
      "execution_count": 361,
      "outputs": [
        {
          "output_type": "execute_result",
          "data": {
            "text/plain": [
              "58.50677585061459"
            ]
          },
          "metadata": {
            "tags": []
          },
          "execution_count": 361
        }
      ]
    },
    {
      "cell_type": "markdown",
      "metadata": {
        "id": "v0N7XVsAE-2Q"
      },
      "source": [
        "Comparison with multiple linear regression  \n",
        "MAE = 9.626260043968127  \n",
        "MSE = 145.61949126832434   \n",
        "RMSE = 12.067290137736986 "
      ]
    },
    {
      "cell_type": "code",
      "metadata": {
        "colab": {
          "base_uri": "https://localhost:8080/"
        },
        "id": "4NiyCR-eFR4p",
        "outputId": "318bb2c8-00e4-4618-c61a-62ec0f1e275f"
      },
      "source": [
        "model.coef_"
      ],
      "execution_count": 362,
      "outputs": [
        {
          "output_type": "execute_result",
          "data": {
            "text/plain": [
              "array([-9.36056095e+00,  1.50932618e+00,  1.33080018e-01, -1.73857185e+00,\n",
              "        6.44506583e-03,  1.21266433e-01,  3.32099419e-01, -4.38291065e-02,\n",
              "       -3.19786935e-03, -1.95485219e-02,  1.18960068e-03, -5.02681433e-04,\n",
              "       -1.60145070e-03, -3.74151248e-04,  3.98308487e-03, -1.34661917e-03,\n",
              "       -1.62532306e-04,  2.35370955e-04,  4.00675748e-04, -2.79401440e-04,\n",
              "        6.76086629e-08, -2.82867779e-03,  4.86934532e-03,  2.26403306e-04,\n",
              "       -1.13875395e-03,  2.71732550e-04, -5.30895921e-06])"
            ]
          },
          "metadata": {
            "tags": []
          },
          "execution_count": 362
        }
      ]
    },
    {
      "cell_type": "code",
      "metadata": {
        "colab": {
          "base_uri": "https://localhost:8080/",
          "height": 296
        },
        "id": "hVgbBW4pHJd4",
        "outputId": "2fc2341d-cbb5-4fdd-d527-c6295f386554"
      },
      "source": [
        "# plotagem da distribuição dos resíduos\n",
        "test_res = y_test - test_predictions\n",
        "\n",
        "sns.scatterplot(x=y_test,y=test_res)\n",
        "plt.axhline(y=0, color='r', linestyle='--')"
      ],
      "execution_count": 363,
      "outputs": [
        {
          "output_type": "execute_result",
          "data": {
            "text/plain": [
              "<matplotlib.lines.Line2D at 0x7fdaf54c3e90>"
            ]
          },
          "metadata": {
            "tags": []
          },
          "execution_count": 363
        },
        {
          "output_type": "display_data",
          "data": {
            "image/png": "[encoded data removed]",
            "text/plain": [
              "<Figure size 432x288 with 1 Axes>"
            ]
          },
          "metadata": {
            "tags": [],
            "needs_background": "light"
          }
        }
      ]
    },
    {
      "cell_type": "code",
      "metadata": {
        "colab": {
          "base_uri": "https://localhost:8080/",
          "height": 386
        },
        "id": "_GXVJtxDHMoT",
        "outputId": "97e81f9a-c15f-4ca1-c09e-fe5bfc5bd57b"
      },
      "source": [
        "#plotagem da distribuição dos resíduos pra verificar visualmente a normalidade\n",
        "sns.displot(test_res,bins=25,kde=True)"
      ],
      "execution_count": 364,
      "outputs": [
        {
          "output_type": "execute_result",
          "data": {
            "text/plain": [
              "<seaborn.axisgrid.FacetGrid at 0x7fdaf4fd0950>"
            ]
          },
          "metadata": {
            "tags": []
          },
          "execution_count": 364
        },
        {
          "output_type": "display_data",
          "data": {
            "image/png": "[encoded data removed]",
            "text/plain": [
              "<Figure size 360x360 with 1 Axes>"
            ]
          },
          "metadata": {
            "tags": [],
            "needs_background": "light"
          }
        }
      ]
    },
    {
      "cell_type": "code",
      "metadata": {
        "colab": {
          "base_uri": "https://localhost:8080/",
          "height": 706
        },
        "id": "RrK-cFRWHX2l",
        "outputId": "453745c5-b512-4d10-b3b5-a81b54a68847"
      },
      "source": [
        "import scipy as sp\n",
        "# Create a figure and axis to plot on\n",
        "fig, ax = plt.subplots(figsize=(6,8),dpi=100)\n",
        "# probplot returns the raw values if needed\n",
        "# we just want to see the plot, so we assign these values to _\n",
        "_ = sp.stats.probplot(test_res,plot=ax)"
      ],
      "execution_count": 365,
      "outputs": [
        {
          "output_type": "display_data",
          "data": {
            "image/png": "[encoded data removed]",
            "text/plain": [
              "<Figure size 600x800 with 1 Axes>"
            ]
          },
          "metadata": {
            "tags": [],
            "needs_background": "light"
          }
        }
      ]
    }
  ]
}
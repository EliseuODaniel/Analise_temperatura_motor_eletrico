{
  "nbformat": 4,
  "nbformat_minor": 0,
  "metadata": {
    "colab": {
      "name": "analise_3_Polynomial_Regression.ipynb",
      "provenance": [],
      "collapsed_sections": [],
      "mount_file_id": "1f8cfoSfBZPXTWFZgyDPjnhfWbgXUuwrq",
      "authorship_tag": "ABX9TyNhbvan85vWoEVbRMc5w+X+",
      "include_colab_link": true
    },
    "kernelspec": {
      "name": "python3",
      "display_name": "Python 3"
    },
    "language_info": {
      "name": "python"
    }
  },
  "cells": [
    {
      "cell_type": "markdown",
      "metadata": {
        "id": "view-in-github",
        "colab_type": "text"
      },
      "source": [
        "<a href=\"https://colab.research.google.com/github/EliseuODaniel/Analise_temperatura_motor_eletrico/blob/main/analise_3_Polynomial_Regression.ipynb\" target=\"_parent\"><img src=\"https://colab.research.google.com/assets/colab-badge.svg\" alt=\"Open In Colab\"/></a>"
      ]
    },
    {
      "cell_type": "markdown",
      "metadata": {
        "id": "uWhkCVcOF-Dt"
      },
      "source": [
        "# Polynomial Regression"
      ]
    },
    {
      "cell_type": "code",
      "metadata": {
        "id": "AKokCHH42Pw3",
        "colab": {
          "base_uri": "https://localhost:8080/"
        },
        "outputId": "8d95c495-d66b-40f2-f25d-979e400380c4"
      },
      "source": [
        "import numpy as np \n",
        "import pandas as pd\n",
        "import matplotlib.pyplot as plt\n",
        "from matplotlib.colors import rgb2hex\n",
        "import seaborn as sns\n",
        "import scipy.stats as stats\n",
        "import statsmodels.api as sm\n",
        "import os"
      ],
      "execution_count": 1,
      "outputs": [
        {
          "output_type": "stream",
          "text": [
            "/usr/local/lib/python3.7/dist-packages/statsmodels/tools/_testing.py:19: FutureWarning: pandas.util.testing is deprecated. Use the functions in the public API at pandas.testing instead.\n",
            "  import pandas.util.testing as tm\n"
          ],
          "name": "stderr"
        }
      ]
    },
    {
      "cell_type": "code",
      "metadata": {
        "colab": {
          "base_uri": "https://localhost:8080/"
        },
        "id": "UB-0qCVI2sBv",
        "outputId": "2fe38b37-b664-4ebb-9156-5bbf6f7e586d"
      },
      "source": [
        "df = pd.read_csv('/content/drive/MyDrive/Colab Notebooks/notebooks/input/measures_v2.csv')\n",
        "df.shape"
      ],
      "execution_count": 2,
      "outputs": [
        {
          "output_type": "execute_result",
          "data": {
            "text/plain": [
              "(1330816, 13)"
            ]
          },
          "metadata": {
            "tags": []
          },
          "execution_count": 2
        }
      ]
    },
    {
      "cell_type": "code",
      "metadata": {
        "id": "bVG2zPiB6EPT"
      },
      "source": [
        "from sklearn.preprocessing import PolynomialFeatures"
      ],
      "execution_count": 3,
      "outputs": []
    },
    {
      "cell_type": "code",
      "metadata": {
        "id": "bl24JgfS9zJu"
      },
      "source": [
        "# remoção da coluna torque, pois não servirá como variável nem de entrada e nem de saída\n",
        "df.drop('torque', axis=1, inplace=True)"
      ],
      "execution_count": 4,
      "outputs": []
    },
    {
      "cell_type": "markdown",
      "metadata": {
        "id": "A1r4k-aLGKYs"
      },
      "source": [
        "#Separação entre Datasets de treino e de teste"
      ]
    },
    {
      "cell_type": "code",
      "metadata": {
        "id": "DoLQKrXnAME5"
      },
      "source": [
        "#testagens separadas pra teste\n",
        "test_set_profiles = range(65,73)\n",
        "x_cols = ['ambient', 'coolant','i_q', 'u_q','i_d', 'u_d', 'motor_speed'] #RMSE = 10.51 (com todas as variáveis)\n",
        "#x_cols = ['ambient', 'coolant','i_q', 'u_q','i_d', 'u_d'] #RMSE = 12.06 (sem motor_speed)\n",
        "#x_cols = ['ambient', 'coolant','i_q', 'u_q','i_d',  'motor_speed'] #RMSE =  10.55\n",
        "#x_cols = ['ambient', 'coolant','i_q', 'u_q', 'u_d', 'motor_speed'] #RMSE = 11.79\n",
        "#x_cols = ['ambient', 'coolant','i_q', 'i_d', 'u_d', 'motor_speed'] #RMSE = 12.22\n",
        "#x_cols = ['ambient', 'coolant', 'u_q','i_d', 'u_d', 'motor_speed'] #RMSE = 10.36 (sem i_q - melhor resultado)\n",
        "#x_cols = ['ambient', 'i_q', 'u_q','i_d', 'u_d', 'motor_speed'] #RMSE = 11.38\n",
        "#x_cols = [ 'coolant','i_q', 'u_q','i_d', 'u_d', 'motor_speed'] #RMSE = 11.01\n",
        "\n",
        "#separado 2 datasets, um com as testagens que serão usadas pra treino e outro as de teste\n",
        "trainset = df.loc[~df.profile_id.isin(test_set_profiles), :].reset_index(drop=True)\n",
        "testset = df.loc[df.profile_id.isin(test_set_profiles), :].reset_index(drop=True)\n",
        "\n",
        "\n",
        "X_train = trainset.loc[:, x_cols]\n",
        "y_train = trainset.loc[:, 'pm']\n",
        "X_test = testset.loc[:, x_cols]\n",
        "y_test = testset.loc[:, 'pm']"
      ],
      "execution_count": 5,
      "outputs": []
    },
    {
      "cell_type": "markdown",
      "metadata": {
        "id": "Mz4p4CqwMA_a"
      },
      "source": [
        "a variável motor_speed cria resíduos distantes da média, como outliers. Talvez pela unidade da medida de velocidade. E que, ao ser multiplicada ao quadrado, gera valores maiores que os das outras unidades."
      ]
    },
    {
      "cell_type": "code",
      "metadata": {
        "colab": {
          "base_uri": "https://localhost:8080/"
        },
        "id": "X3mh382lIT4e",
        "outputId": "5faeede7-ac7a-432b-b361-587293968e86"
      },
      "source": [
        "X_train.shape"
      ],
      "execution_count": 6,
      "outputs": [
        {
          "output_type": "execute_result",
          "data": {
            "text/plain": [
              "(1148796, 7)"
            ]
          },
          "metadata": {
            "tags": []
          },
          "execution_count": 6
        }
      ]
    },
    {
      "cell_type": "code",
      "metadata": {
        "colab": {
          "base_uri": "https://localhost:8080/"
        },
        "id": "wNOvX-WoIXVJ",
        "outputId": "4665be66-feb7-43c7-da97-7a1419d90888"
      },
      "source": [
        "X_test.shape"
      ],
      "execution_count": 7,
      "outputs": [
        {
          "output_type": "execute_result",
          "data": {
            "text/plain": [
              "(182020, 7)"
            ]
          },
          "metadata": {
            "tags": []
          },
          "execution_count": 7
        }
      ]
    },
    {
      "cell_type": "markdown",
      "metadata": {
        "id": "ZrwPU49cGSV6"
      },
      "source": [
        "# Modelagem"
      ]
    },
    {
      "cell_type": "code",
      "metadata": {
        "id": "RcwUg_mC9o_T"
      },
      "source": [
        "polynomial_converter = PolynomialFeatures(degree=3,include_bias=False)"
      ],
      "execution_count": 8,
      "outputs": []
    },
    {
      "cell_type": "code",
      "metadata": {
        "id": "i_g0Txx1-C-O"
      },
      "source": [
        "# Converter \"fits\" to data, in this case, reads in every X column\n",
        "# Then it \"transforms\" and ouputs the new polynomial data\n",
        "X_train_poly_features = polynomial_converter.fit_transform(X_train)\n",
        "X_test_poly_features = polynomial_converter.fit_transform(X_test)"
      ],
      "execution_count": 9,
      "outputs": []
    },
    {
      "cell_type": "code",
      "metadata": {
        "colab": {
          "base_uri": "https://localhost:8080/"
        },
        "id": "A6BYLl9k_SHZ",
        "outputId": "53e88e02-e44a-4a8c-8434-6b85df1b49b6"
      },
      "source": [
        "X_train_poly_features.shape"
      ],
      "execution_count": 10,
      "outputs": [
        {
          "output_type": "execute_result",
          "data": {
            "text/plain": [
              "(1148796, 119)"
            ]
          },
          "metadata": {
            "tags": []
          },
          "execution_count": 10
        }
      ]
    },
    {
      "cell_type": "code",
      "metadata": {
        "colab": {
          "base_uri": "https://localhost:8080/"
        },
        "id": "EkbMQXfuDoIE",
        "outputId": "9d39a58f-1bc1-4378-b13e-46e664d456a9"
      },
      "source": [
        "X_test_poly_features.shape"
      ],
      "execution_count": 11,
      "outputs": [
        {
          "output_type": "execute_result",
          "data": {
            "text/plain": [
              "(182020, 119)"
            ]
          },
          "metadata": {
            "tags": []
          },
          "execution_count": 11
        }
      ]
    },
    {
      "cell_type": "code",
      "metadata": {
        "id": "RCd1rgcxDqk3"
      },
      "source": [
        "from sklearn.linear_model import LinearRegression\n",
        "model = LinearRegression(fit_intercept=True)\n",
        "model.fit(X_train_poly_features,y_train)\n",
        "test_predictions = model.predict(X_test_poly_features)"
      ],
      "execution_count": 12,
      "outputs": []
    },
    {
      "cell_type": "markdown",
      "metadata": {
        "id": "Y5twd5BaEMOp"
      },
      "source": [
        "# Mensuração dos erros"
      ]
    },
    {
      "cell_type": "code",
      "metadata": {
        "id": "e0cViF-HEAyH"
      },
      "source": [
        "from sklearn.metrics import mean_absolute_error,mean_squared_error"
      ],
      "execution_count": 13,
      "outputs": []
    },
    {
      "cell_type": "code",
      "metadata": {
        "id": "wWQ0lraOESNe"
      },
      "source": [
        "MAE = mean_absolute_error(y_test,test_predictions)\n",
        "MSE = mean_squared_error(y_test,test_predictions)\n",
        "RMSE = np.sqrt(MSE)"
      ],
      "execution_count": 14,
      "outputs": []
    },
    {
      "cell_type": "code",
      "metadata": {
        "colab": {
          "base_uri": "https://localhost:8080/"
        },
        "id": "h3nSVWjwEWkF",
        "outputId": "47ea6b0d-b1b5-4aa8-8c5a-4c058cf32796"
      },
      "source": [
        "MAE"
      ],
      "execution_count": 15,
      "outputs": [
        {
          "output_type": "execute_result",
          "data": {
            "text/plain": [
              "7.561996399702054"
            ]
          },
          "metadata": {
            "tags": []
          },
          "execution_count": 15
        }
      ]
    },
    {
      "cell_type": "code",
      "metadata": {
        "colab": {
          "base_uri": "https://localhost:8080/"
        },
        "id": "LrPQ2hnDEy-q",
        "outputId": "84971edc-e274-4fc5-eb29-b80f9a1ea728"
      },
      "source": [
        "MSE"
      ],
      "execution_count": 16,
      "outputs": [
        {
          "output_type": "execute_result",
          "data": {
            "text/plain": [
              "109.00172230088198"
            ]
          },
          "metadata": {
            "tags": []
          },
          "execution_count": 16
        }
      ]
    },
    {
      "cell_type": "code",
      "metadata": {
        "colab": {
          "base_uri": "https://localhost:8080/"
        },
        "id": "TnA1gtmiE0Du",
        "outputId": "dcdeaca1-8e72-46b5-e739-b2916882afb4"
      },
      "source": [
        "RMSE"
      ],
      "execution_count": 17,
      "outputs": [
        {
          "output_type": "execute_result",
          "data": {
            "text/plain": [
              "10.440388991837516"
            ]
          },
          "metadata": {
            "tags": []
          },
          "execution_count": 17
        }
      ]
    },
    {
      "cell_type": "code",
      "metadata": {
        "colab": {
          "base_uri": "https://localhost:8080/"
        },
        "id": "kXK5US64E0vn",
        "outputId": "10d80128-5c4a-4cff-abb3-a9fb78e32d71"
      },
      "source": [
        "#valor médio das temperaturas do rotor em todo o dataset - para comparar com o RMSE\n",
        "#ou seja, as previsões do modelo variam 12 para + e - de 58,51\n",
        "df['pm'].mean()"
      ],
      "execution_count": 18,
      "outputs": [
        {
          "output_type": "execute_result",
          "data": {
            "text/plain": [
              "58.50677585061459"
            ]
          },
          "metadata": {
            "tags": []
          },
          "execution_count": 18
        }
      ]
    },
    {
      "cell_type": "markdown",
      "metadata": {
        "id": "v0N7XVsAE-2Q"
      },
      "source": [
        "Comparison with multiple linear regression  \n",
        "MAE = 9.626260043968127  \n",
        "MSE = 145.61949126832434   \n",
        "RMSE = 12.067290137736986 "
      ]
    },
    {
      "cell_type": "code",
      "metadata": {
        "colab": {
          "base_uri": "https://localhost:8080/"
        },
        "id": "4NiyCR-eFR4p",
        "outputId": "a6317852-92b5-4146-86f5-6b5bb4db3b71"
      },
      "source": [
        "model.coef_"
      ],
      "execution_count": 19,
      "outputs": [
        {
          "output_type": "execute_result",
          "data": {
            "text/plain": [
              "array([-2.64755911e+01,  2.74703249e+00,  5.71157960e-01, -8.97988401e+00,\n",
              "        4.60274703e+00, -2.94804017e+00,  3.97174421e-01,  4.37835836e-01,\n",
              "        1.99752609e-02,  2.93831397e-03,  5.32529592e-01, -2.93364717e-01,\n",
              "       -2.78776101e-02, -1.68536636e-02, -9.72462380e-03, -1.76943457e-03,\n",
              "       -4.37944425e-02,  9.50385333e-03,  3.64140220e-02,  3.45869609e-04,\n",
              "        2.51750116e-04, -9.13664388e-03,  5.69105930e-03, -2.81824276e-02,\n",
              "       -1.39747778e-03, -4.48604145e-02,  2.01021203e-03, -1.47389303e-02,\n",
              "        2.49951222e-03,  1.34888996e-02,  1.15004960e-02,  1.05818297e-03,\n",
              "       -8.39616604e-03,  5.22561246e-04, -2.47900216e-05,  9.98828379e-03,\n",
              "       -4.80013963e-03, -7.71224506e-04, -9.74627576e-03,  5.63379885e-03,\n",
              "        1.26212227e-03,  1.49560578e-04,  5.37890118e-04,  1.58611816e-04,\n",
              "        1.81420554e-03, -6.16974516e-04, -2.40301433e-04, -1.41290121e-05,\n",
              "        8.76586426e-06, -4.53436898e-04, -1.53042482e-04,  1.68179286e-04,\n",
              "        5.32475312e-05,  2.54463129e-05,  2.55710347e-04,  5.75509869e-04,\n",
              "        1.54746396e-05, -2.34430231e-04, -9.40793721e-04, -4.17459846e-05,\n",
              "        2.29491930e-04, -1.27303935e-05,  2.12357382e-08, -5.09003100e-05,\n",
              "       -1.48204634e-05,  3.67317746e-05, -2.13138620e-05, -2.30750035e-05,\n",
              "       -4.88372880e-07, -5.05594799e-06,  5.77042199e-05,  4.30583637e-06,\n",
              "        1.78007953e-05,  4.03377917e-06, -4.44437092e-05,  6.72118573e-05,\n",
              "       -5.69421602e-05, -4.98830819e-07, -2.73808764e-05,  6.60995275e-05,\n",
              "        1.67945986e-07,  4.93893829e-07,  3.40826254e-07,  2.58060009e-08,\n",
              "        1.88070381e-06, -1.70709849e-04, -1.02560760e-06, -9.95557593e-06,\n",
              "        2.48574370e-06,  1.67527446e-04, -2.09467677e-04,  1.02896202e-06,\n",
              "       -8.87721521e-06,  1.92851557e-05, -1.27912852e-04,  6.87434168e-06,\n",
              "       -1.32833877e-05,  2.24212306e-06,  2.05211281e-07, -5.93493470e-05,\n",
              "        9.25972002e-05,  9.19621578e-05,  6.58086392e-06, -1.02593010e-04,\n",
              "       -3.98689969e-05,  1.22816188e-06,  7.28702899e-05, -4.06711464e-06,\n",
              "       -2.71697997e-07,  4.20506654e-05, -7.42804771e-05,  1.89933432e-07,\n",
              "       -9.07057514e-05, -4.37744722e-07, -4.25632716e-08, -1.43896633e-05,\n",
              "       -2.25228448e-06,  4.00662827e-08,  1.86818871e-09])"
            ]
          },
          "metadata": {
            "tags": []
          },
          "execution_count": 19
        }
      ]
    },
    {
      "cell_type": "code",
      "metadata": {
        "colab": {
          "base_uri": "https://localhost:8080/",
          "height": 296
        },
        "id": "hVgbBW4pHJd4",
        "outputId": "bd423e44-8867-43d4-f175-4dcbac80ff8f"
      },
      "source": [
        "# plotagem da distribuição dos resíduos\n",
        "test_res = y_test - test_predictions\n",
        "\n",
        "sns.scatterplot(x=y_test,y=test_res)\n",
        "plt.axhline(y=0, color='r', linestyle='--')"
      ],
      "execution_count": 20,
      "outputs": [
        {
          "output_type": "execute_result",
          "data": {
            "text/plain": [
              "<matplotlib.lines.Line2D at 0x7f62cc7ec250>"
            ]
          },
          "metadata": {
            "tags": []
          },
          "execution_count": 20
        },
        {
          "output_type": "display_data",
          "data": {
            "image/png": "[encoded data removed]",
            "text/plain": [
              "<Figure size 432x288 with 1 Axes>"
            ]
          },
          "metadata": {
            "tags": [],
            "needs_background": "light"
          }
        }
      ]
    },
    {
      "cell_type": "code",
      "metadata": {
        "colab": {
          "base_uri": "https://localhost:8080/",
          "height": 386
        },
        "id": "_GXVJtxDHMoT",
        "outputId": "b8a2c255-a13f-4d0d-9b69-4ba0ca0fa278"
      },
      "source": [
        "#plotagem da distribuição dos resíduos pra verificar visualmente a normalidade\n",
        "sns.displot(test_res,bins=25,kde=True)"
      ],
      "execution_count": 21,
      "outputs": [
        {
          "output_type": "execute_result",
          "data": {
            "text/plain": [
              "<seaborn.axisgrid.FacetGrid at 0x7f62cc81c790>"
            ]
          },
          "metadata": {
            "tags": []
          },
          "execution_count": 21
        },
        {
          "output_type": "display_data",
          "data": {
            "image/png": "[encoded data removed]",
            "text/plain": [
              "<Figure size 360x360 with 1 Axes>"
            ]
          },
          "metadata": {
            "tags": [],
            "needs_background": "light"
          }
        }
      ]
    },
    {
      "cell_type": "code",
      "metadata": {
        "colab": {
          "base_uri": "https://localhost:8080/",
          "height": 706
        },
        "id": "RrK-cFRWHX2l",
        "outputId": "e7a7f31f-ca77-4615-9e60-ba78f1ea909f"
      },
      "source": [
        "import scipy as sp\n",
        "# Create a figure and axis to plot on\n",
        "fig, ax = plt.subplots(figsize=(6,8),dpi=100)\n",
        "# probplot returns the raw values if needed\n",
        "# we just want to see the plot, so we assign these values to _\n",
        "_ = sp.stats.probplot(test_res,plot=ax)"
      ],
      "execution_count": 22,
      "outputs": [
        {
          "output_type": "display_data",
          "data": {
            "image/png": "[encoded data removed]",
            "text/plain": [
              "<Figure size 600x800 with 1 Axes>"
            ]
          },
          "metadata": {
            "tags": [],
            "needs_background": "light"
          }
        }
      ]
    },
    {
      "cell_type": "markdown",
      "metadata": {
        "id": "sUXgTXa9Oaka"
      },
      "source": [
        "os resíduos distantes da normal devem-se à variável motor_speed como mencionado mais acima"
      ]
    },
    {
      "cell_type": "code",
      "metadata": {
        "colab": {
          "base_uri": "https://localhost:8080/",
          "height": 1000
        },
        "id": "iBn6g5mQOhe1",
        "outputId": "757ff149-a6ff-4e6d-9e74-d1669bde7bd7"
      },
      "source": [
        "import statsmodels.api as sm\n",
        "X_train_const = sm.add_constant(X_train_poly_features)\n",
        "lin_reg = sm.OLS(y_train,X_train_const).fit()\n",
        "lin_reg.summary()"
      ],
      "execution_count": 23,
      "outputs": [
        {
          "output_type": "execute_result",
          "data": {
            "text/html": [
              "<table class=\"simpletable\">\n",
              "<caption>OLS Regression Results</caption>\n",
              "<tr>\n",
              "  <th>Dep. Variable:</th>           <td>pm</td>        <th>  R-squared:         </th>  <td>   0.879</td>  \n",
              "</tr>\n",
              "<tr>\n",
              "  <th>Model:</th>                   <td>OLS</td>       <th>  Adj. R-squared:    </th>  <td>   0.879</td>  \n",
              "</tr>\n",
              "<tr>\n",
              "  <th>Method:</th>             <td>Least Squares</td>  <th>  F-statistic:       </th>  <td>7.085e+04</td> \n",
              "</tr>\n",
              "<tr>\n",
              "  <th>Date:</th>             <td>Fri, 16 Jul 2021</td> <th>  Prob (F-statistic):</th>   <td>  0.00</td>   \n",
              "</tr>\n",
              "<tr>\n",
              "  <th>Time:</th>                 <td>18:40:25</td>     <th>  Log-Likelihood:    </th> <td>-3.8370e+06</td>\n",
              "</tr>\n",
              "<tr>\n",
              "  <th>No. Observations:</th>      <td>1148796</td>     <th>  AIC:               </th>  <td>7.674e+06</td> \n",
              "</tr>\n",
              "<tr>\n",
              "  <th>Df Residuals:</th>          <td>1148677</td>     <th>  BIC:               </th>  <td>7.676e+06</td> \n",
              "</tr>\n",
              "<tr>\n",
              "  <th>Df Model:</th>              <td>   118</td>      <th>                     </th>      <td> </td>     \n",
              "</tr>\n",
              "<tr>\n",
              "  <th>Covariance Type:</th>      <td>nonrobust</td>    <th>                     </th>      <td> </td>     \n",
              "</tr>\n",
              "</table>\n",
              "<table class=\"simpletable\">\n",
              "<tr>\n",
              "    <td></td>       <th>coef</th>     <th>std err</th>      <th>t</th>      <th>P>|t|</th>  <th>[0.025</th>    <th>0.975]</th>  \n",
              "</tr>\n",
              "<tr>\n",
              "  <th>const</th> <td>  279.9820</td> <td>    8.366</td> <td>   33.466</td> <td> 0.000</td> <td>  263.585</td> <td>  296.380</td>\n",
              "</tr>\n",
              "<tr>\n",
              "  <th>x1</th>    <td>  -26.4756</td> <td>    1.122</td> <td>  -23.607</td> <td> 0.000</td> <td>  -28.674</td> <td>  -24.277</td>\n",
              "</tr>\n",
              "<tr>\n",
              "  <th>x2</th>    <td>    2.7470</td> <td>    0.101</td> <td>   27.283</td> <td> 0.000</td> <td>    2.550</td> <td>    2.944</td>\n",
              "</tr>\n",
              "<tr>\n",
              "  <th>x3</th>    <td>    0.5712</td> <td>    0.031</td> <td>   18.409</td> <td> 0.000</td> <td>    0.510</td> <td>    0.632</td>\n",
              "</tr>\n",
              "<tr>\n",
              "  <th>x4</th>    <td>   -8.9799</td> <td>    0.097</td> <td>  -92.156</td> <td> 0.000</td> <td>   -9.171</td> <td>   -8.789</td>\n",
              "</tr>\n",
              "<tr>\n",
              "  <th>x5</th>    <td>    4.6028</td> <td>    0.063</td> <td>   73.146</td> <td> 0.000</td> <td>    4.479</td> <td>    4.726</td>\n",
              "</tr>\n",
              "<tr>\n",
              "  <th>x6</th>    <td>   -2.9480</td> <td>    0.090</td> <td>  -32.804</td> <td> 0.000</td> <td>   -3.124</td> <td>   -2.772</td>\n",
              "</tr>\n",
              "<tr>\n",
              "  <th>x7</th>    <td>    0.3972</td> <td>    0.005</td> <td>   84.809</td> <td> 0.000</td> <td>    0.388</td> <td>    0.406</td>\n",
              "</tr>\n",
              "<tr>\n",
              "  <th>x8</th>    <td>    0.4378</td> <td>    0.051</td> <td>    8.653</td> <td> 0.000</td> <td>    0.339</td> <td>    0.537</td>\n",
              "</tr>\n",
              "<tr>\n",
              "  <th>x9</th>    <td>    0.0200</td> <td>    0.008</td> <td>    2.375</td> <td> 0.018</td> <td>    0.003</td> <td>    0.036</td>\n",
              "</tr>\n",
              "<tr>\n",
              "  <th>x10</th>   <td>    0.0029</td> <td>    0.002</td> <td>    1.183</td> <td> 0.237</td> <td>   -0.002</td> <td>    0.008</td>\n",
              "</tr>\n",
              "<tr>\n",
              "  <th>x11</th>   <td>    0.5325</td> <td>    0.006</td> <td>   89.170</td> <td> 0.000</td> <td>    0.521</td> <td>    0.544</td>\n",
              "</tr>\n",
              "<tr>\n",
              "  <th>x12</th>   <td>   -0.2934</td> <td>    0.004</td> <td>  -68.742</td> <td> 0.000</td> <td>   -0.302</td> <td>   -0.285</td>\n",
              "</tr>\n",
              "<tr>\n",
              "  <th>x13</th>   <td>   -0.0279</td> <td>    0.005</td> <td>   -5.742</td> <td> 0.000</td> <td>   -0.037</td> <td>   -0.018</td>\n",
              "</tr>\n",
              "<tr>\n",
              "  <th>x14</th>   <td>   -0.0169</td> <td>    0.000</td> <td>  -65.309</td> <td> 0.000</td> <td>   -0.017</td> <td>   -0.016</td>\n",
              "</tr>\n",
              "<tr>\n",
              "  <th>x15</th>   <td>   -0.0097</td> <td>    0.000</td> <td>  -23.987</td> <td> 0.000</td> <td>   -0.011</td> <td>   -0.009</td>\n",
              "</tr>\n",
              "<tr>\n",
              "  <th>x16</th>   <td>   -0.0018</td> <td>    0.000</td> <td>   -9.972</td> <td> 0.000</td> <td>   -0.002</td> <td>   -0.001</td>\n",
              "</tr>\n",
              "<tr>\n",
              "  <th>x17</th>   <td>   -0.0438</td> <td>    0.000</td> <td>  -92.663</td> <td> 0.000</td> <td>   -0.045</td> <td>   -0.043</td>\n",
              "</tr>\n",
              "<tr>\n",
              "  <th>x18</th>   <td>    0.0095</td> <td>    0.000</td> <td>   26.923</td> <td> 0.000</td> <td>    0.009</td> <td>    0.010</td>\n",
              "</tr>\n",
              "<tr>\n",
              "  <th>x19</th>   <td>    0.0364</td> <td>    0.000</td> <td>   99.139</td> <td> 0.000</td> <td>    0.036</td> <td>    0.037</td>\n",
              "</tr>\n",
              "<tr>\n",
              "  <th>x20</th>   <td>    0.0003</td> <td> 1.77e-05</td> <td>   19.579</td> <td> 0.000</td> <td>    0.000</td> <td>    0.000</td>\n",
              "</tr>\n",
              "<tr>\n",
              "  <th>x21</th>   <td>    0.0003</td> <td> 6.57e-05</td> <td>    3.830</td> <td> 0.000</td> <td>    0.000</td> <td>    0.000</td>\n",
              "</tr>\n",
              "<tr>\n",
              "  <th>x22</th>   <td>   -0.0091</td> <td>    0.001</td> <td>   -7.508</td> <td> 0.000</td> <td>   -0.012</td> <td>   -0.007</td>\n",
              "</tr>\n",
              "<tr>\n",
              "  <th>x23</th>   <td>    0.0057</td> <td>    0.000</td> <td>   47.105</td> <td> 0.000</td> <td>    0.005</td> <td>    0.006</td>\n",
              "</tr>\n",
              "<tr>\n",
              "  <th>x24</th>   <td>   -0.0282</td> <td>    0.000</td> <td> -136.804</td> <td> 0.000</td> <td>   -0.029</td> <td>   -0.028</td>\n",
              "</tr>\n",
              "<tr>\n",
              "  <th>x25</th>   <td>   -0.0014</td> <td> 5.89e-05</td> <td>  -23.730</td> <td> 0.000</td> <td>   -0.002</td> <td>   -0.001</td>\n",
              "</tr>\n",
              "<tr>\n",
              "  <th>x26</th>   <td>   -0.0449</td> <td>    0.000</td> <td> -112.895</td> <td> 0.000</td> <td>   -0.046</td> <td>   -0.044</td>\n",
              "</tr>\n",
              "<tr>\n",
              "  <th>x27</th>   <td>    0.0020</td> <td>    0.001</td> <td>    3.508</td> <td> 0.000</td> <td>    0.001</td> <td>    0.003</td>\n",
              "</tr>\n",
              "<tr>\n",
              "  <th>x28</th>   <td>   -0.0147</td> <td>    0.000</td> <td>  -30.857</td> <td> 0.000</td> <td>   -0.016</td> <td>   -0.014</td>\n",
              "</tr>\n",
              "<tr>\n",
              "  <th>x29</th>   <td>    0.0025</td> <td> 2.33e-05</td> <td>  107.163</td> <td> 0.000</td> <td>    0.002</td> <td>    0.003</td>\n",
              "</tr>\n",
              "<tr>\n",
              "  <th>x30</th>   <td>    0.0135</td> <td>    0.000</td> <td>   64.015</td> <td> 0.000</td> <td>    0.013</td> <td>    0.014</td>\n",
              "</tr>\n",
              "<tr>\n",
              "  <th>x31</th>   <td>    0.0115</td> <td>    0.001</td> <td>   13.111</td> <td> 0.000</td> <td>    0.010</td> <td>    0.013</td>\n",
              "</tr>\n",
              "<tr>\n",
              "  <th>x32</th>   <td>    0.0011</td> <td> 2.38e-05</td> <td>   44.538</td> <td> 0.000</td> <td>    0.001</td> <td>    0.001</td>\n",
              "</tr>\n",
              "<tr>\n",
              "  <th>x33</th>   <td>   -0.0084</td> <td>    0.000</td> <td>  -27.710</td> <td> 0.000</td> <td>   -0.009</td> <td>   -0.008</td>\n",
              "</tr>\n",
              "<tr>\n",
              "  <th>x34</th>   <td>    0.0005</td> <td> 1.48e-05</td> <td>   35.217</td> <td> 0.000</td> <td>    0.000</td> <td>    0.001</td>\n",
              "</tr>\n",
              "<tr>\n",
              "  <th>x35</th>   <td>-2.479e-05</td> <td> 3.99e-07</td> <td>  -62.208</td> <td> 0.000</td> <td>-2.56e-05</td> <td> -2.4e-05</td>\n",
              "</tr>\n",
              "<tr>\n",
              "  <th>x36</th>   <td>    0.0100</td> <td>    0.001</td> <td>   13.061</td> <td> 0.000</td> <td>    0.008</td> <td>    0.011</td>\n",
              "</tr>\n",
              "<tr>\n",
              "  <th>x37</th>   <td>   -0.0048</td> <td>    0.000</td> <td>  -26.589</td> <td> 0.000</td> <td>   -0.005</td> <td>   -0.004</td>\n",
              "</tr>\n",
              "<tr>\n",
              "  <th>x38</th>   <td>   -0.0008</td> <td> 5.19e-05</td> <td>  -14.866</td> <td> 0.000</td> <td>   -0.001</td> <td>   -0.001</td>\n",
              "</tr>\n",
              "<tr>\n",
              "  <th>x39</th>   <td>   -0.0097</td> <td>    0.000</td> <td>  -88.929</td> <td> 0.000</td> <td>   -0.010</td> <td>   -0.010</td>\n",
              "</tr>\n",
              "<tr>\n",
              "  <th>x40</th>   <td>    0.0056</td> <td> 8.21e-05</td> <td>   68.632</td> <td> 0.000</td> <td>    0.005</td> <td>    0.006</td>\n",
              "</tr>\n",
              "<tr>\n",
              "  <th>x41</th>   <td>    0.0013</td> <td> 7.15e-05</td> <td>   17.641</td> <td> 0.000</td> <td>    0.001</td> <td>    0.001</td>\n",
              "</tr>\n",
              "<tr>\n",
              "  <th>x42</th>   <td>    0.0001</td> <td> 4.08e-06</td> <td>   36.641</td> <td> 0.000</td> <td>    0.000</td> <td>    0.000</td>\n",
              "</tr>\n",
              "<tr>\n",
              "  <th>x43</th>   <td>    0.0005</td> <td> 1.61e-05</td> <td>   33.401</td> <td> 0.000</td> <td>    0.001</td> <td>    0.001</td>\n",
              "</tr>\n",
              "<tr>\n",
              "  <th>x44</th>   <td>    0.0002</td> <td> 7.07e-06</td> <td>   22.449</td> <td> 0.000</td> <td>    0.000</td> <td>    0.000</td>\n",
              "</tr>\n",
              "<tr>\n",
              "  <th>x45</th>   <td>    0.0018</td> <td> 1.76e-05</td> <td>  102.987</td> <td> 0.000</td> <td>    0.002</td> <td>    0.002</td>\n",
              "</tr>\n",
              "<tr>\n",
              "  <th>x46</th>   <td>   -0.0006</td> <td>  1.3e-05</td> <td>  -47.633</td> <td> 0.000</td> <td>   -0.001</td> <td>   -0.001</td>\n",
              "</tr>\n",
              "<tr>\n",
              "  <th>x47</th>   <td>   -0.0002</td> <td> 1.04e-05</td> <td>  -23.148</td> <td> 0.000</td> <td>   -0.000</td> <td>   -0.000</td>\n",
              "</tr>\n",
              "<tr>\n",
              "  <th>x48</th>   <td>-1.413e-05</td> <td> 6.25e-07</td> <td>  -22.606</td> <td> 0.000</td> <td>-1.54e-05</td> <td>-1.29e-05</td>\n",
              "</tr>\n",
              "<tr>\n",
              "  <th>x49</th>   <td> 8.766e-06</td> <td> 2.43e-06</td> <td>    3.601</td> <td> 0.000</td> <td> 3.99e-06</td> <td> 1.35e-05</td>\n",
              "</tr>\n",
              "<tr>\n",
              "  <th>x50</th>   <td>   -0.0005</td> <td>  4.7e-05</td> <td>   -9.639</td> <td> 0.000</td> <td>   -0.001</td> <td>   -0.000</td>\n",
              "</tr>\n",
              "<tr>\n",
              "  <th>x51</th>   <td>   -0.0002</td> <td> 4.61e-06</td> <td>  -33.209</td> <td> 0.000</td> <td>   -0.000</td> <td>   -0.000</td>\n",
              "</tr>\n",
              "<tr>\n",
              "  <th>x52</th>   <td>    0.0002</td> <td> 4.74e-06</td> <td>   35.504</td> <td> 0.000</td> <td>    0.000</td> <td>    0.000</td>\n",
              "</tr>\n",
              "<tr>\n",
              "  <th>x53</th>   <td> 5.325e-05</td> <td> 2.24e-06</td> <td>   23.723</td> <td> 0.000</td> <td> 4.88e-05</td> <td> 5.76e-05</td>\n",
              "</tr>\n",
              "<tr>\n",
              "  <th>x54</th>   <td> 2.545e-05</td> <td> 1.36e-05</td> <td>    1.869</td> <td> 0.062</td> <td>-1.23e-06</td> <td> 5.21e-05</td>\n",
              "</tr>\n",
              "<tr>\n",
              "  <th>x55</th>   <td>    0.0003</td> <td> 1.88e-05</td> <td>   13.579</td> <td> 0.000</td> <td>    0.000</td> <td>    0.000</td>\n",
              "</tr>\n",
              "<tr>\n",
              "  <th>x56</th>   <td>    0.0006</td> <td> 1.28e-05</td> <td>   45.131</td> <td> 0.000</td> <td>    0.001</td> <td>    0.001</td>\n",
              "</tr>\n",
              "<tr>\n",
              "  <th>x57</th>   <td> 1.547e-05</td> <td> 8.22e-07</td> <td>   18.816</td> <td> 0.000</td> <td> 1.39e-05</td> <td> 1.71e-05</td>\n",
              "</tr>\n",
              "<tr>\n",
              "  <th>x58</th>   <td>   -0.0002</td> <td> 6.94e-06</td> <td>  -33.804</td> <td> 0.000</td> <td>   -0.000</td> <td>   -0.000</td>\n",
              "</tr>\n",
              "<tr>\n",
              "  <th>x59</th>   <td>   -0.0009</td> <td> 3.23e-05</td> <td>  -29.122</td> <td> 0.000</td> <td>   -0.001</td> <td>   -0.001</td>\n",
              "</tr>\n",
              "<tr>\n",
              "  <th>x60</th>   <td>-4.175e-05</td> <td> 7.91e-07</td> <td>  -52.779</td> <td> 0.000</td> <td>-4.33e-05</td> <td>-4.02e-05</td>\n",
              "</tr>\n",
              "<tr>\n",
              "  <th>x61</th>   <td>    0.0002</td> <td> 5.79e-06</td> <td>   39.650</td> <td> 0.000</td> <td>    0.000</td> <td>    0.000</td>\n",
              "</tr>\n",
              "<tr>\n",
              "  <th>x62</th>   <td>-1.273e-05</td> <td> 3.21e-07</td> <td>  -39.626</td> <td> 0.000</td> <td>-1.34e-05</td> <td>-1.21e-05</td>\n",
              "</tr>\n",
              "<tr>\n",
              "  <th>x63</th>   <td> 2.123e-08</td> <td> 1.25e-08</td> <td>    1.696</td> <td> 0.090</td> <td> -3.3e-09</td> <td> 4.58e-08</td>\n",
              "</tr>\n",
              "<tr>\n",
              "  <th>x64</th>   <td> -5.09e-05</td> <td> 1.03e-06</td> <td>  -49.231</td> <td> 0.000</td> <td>-5.29e-05</td> <td>-4.89e-05</td>\n",
              "</tr>\n",
              "<tr>\n",
              "  <th>x65</th>   <td>-1.482e-05</td> <td> 4.32e-07</td> <td>  -34.334</td> <td> 0.000</td> <td>-1.57e-05</td> <td> -1.4e-05</td>\n",
              "</tr>\n",
              "<tr>\n",
              "  <th>x66</th>   <td> 3.673e-05</td> <td> 1.06e-06</td> <td>   34.596</td> <td> 0.000</td> <td> 3.47e-05</td> <td> 3.88e-05</td>\n",
              "</tr>\n",
              "<tr>\n",
              "  <th>x67</th>   <td>-2.131e-05</td> <td> 7.49e-07</td> <td>  -28.451</td> <td> 0.000</td> <td>-2.28e-05</td> <td>-1.98e-05</td>\n",
              "</tr>\n",
              "<tr>\n",
              "  <th>x68</th>   <td>-2.308e-05</td> <td> 6.29e-07</td> <td>  -36.660</td> <td> 0.000</td> <td>-2.43e-05</td> <td>-2.18e-05</td>\n",
              "</tr>\n",
              "<tr>\n",
              "  <th>x69</th>   <td>-4.884e-07</td> <td> 3.84e-08</td> <td>  -12.714</td> <td> 0.000</td> <td>-5.64e-07</td> <td>-4.13e-07</td>\n",
              "</tr>\n",
              "<tr>\n",
              "  <th>x70</th>   <td>-5.056e-06</td> <td> 2.63e-07</td> <td>  -19.257</td> <td> 0.000</td> <td>-5.57e-06</td> <td>-4.54e-06</td>\n",
              "</tr>\n",
              "<tr>\n",
              "  <th>x71</th>   <td>  5.77e-05</td> <td> 3.61e-06</td> <td>   15.999</td> <td> 0.000</td> <td> 5.06e-05</td> <td> 6.48e-05</td>\n",
              "</tr>\n",
              "<tr>\n",
              "  <th>x72</th>   <td> 4.306e-06</td> <td> 3.93e-07</td> <td>   10.965</td> <td> 0.000</td> <td> 3.54e-06</td> <td> 5.08e-06</td>\n",
              "</tr>\n",
              "<tr>\n",
              "  <th>x73</th>   <td>  1.78e-05</td> <td> 4.92e-07</td> <td>   36.202</td> <td> 0.000</td> <td> 1.68e-05</td> <td> 1.88e-05</td>\n",
              "</tr>\n",
              "<tr>\n",
              "  <th>x74</th>   <td> 4.034e-06</td> <td> 1.69e-07</td> <td>   23.888</td> <td> 0.000</td> <td>  3.7e-06</td> <td> 4.36e-06</td>\n",
              "</tr>\n",
              "<tr>\n",
              "  <th>x75</th>   <td>-4.444e-05</td> <td> 1.43e-06</td> <td>  -31.161</td> <td> 0.000</td> <td>-4.72e-05</td> <td>-4.16e-05</td>\n",
              "</tr>\n",
              "<tr>\n",
              "  <th>x76</th>   <td> 6.721e-05</td> <td> 1.81e-06</td> <td>   37.169</td> <td> 0.000</td> <td> 6.37e-05</td> <td> 7.08e-05</td>\n",
              "</tr>\n",
              "<tr>\n",
              "  <th>x77</th>   <td>-5.694e-05</td> <td> 1.19e-06</td> <td>  -47.960</td> <td> 0.000</td> <td>-5.93e-05</td> <td>-5.46e-05</td>\n",
              "</tr>\n",
              "<tr>\n",
              "  <th>x78</th>   <td>-4.988e-07</td> <td> 9.53e-08</td> <td>   -5.233</td> <td> 0.000</td> <td>-6.86e-07</td> <td>-3.12e-07</td>\n",
              "</tr>\n",
              "<tr>\n",
              "  <th>x79</th>   <td>-2.738e-05</td> <td>    6e-07</td> <td>  -45.672</td> <td> 0.000</td> <td>-2.86e-05</td> <td>-2.62e-05</td>\n",
              "</tr>\n",
              "<tr>\n",
              "  <th>x80</th>   <td>  6.61e-05</td> <td> 2.35e-06</td> <td>   28.183</td> <td> 0.000</td> <td> 6.15e-05</td> <td> 7.07e-05</td>\n",
              "</tr>\n",
              "<tr>\n",
              "  <th>x81</th>   <td> 1.679e-07</td> <td> 5.28e-08</td> <td>    3.182</td> <td> 0.001</td> <td> 6.45e-08</td> <td> 2.71e-07</td>\n",
              "</tr>\n",
              "<tr>\n",
              "  <th>x82</th>   <td> 4.939e-07</td> <td> 5.76e-07</td> <td>    0.857</td> <td> 0.392</td> <td>-6.36e-07</td> <td> 1.62e-06</td>\n",
              "</tr>\n",
              "<tr>\n",
              "  <th>x83</th>   <td> 3.408e-07</td> <td>  2.7e-08</td> <td>   12.623</td> <td> 0.000</td> <td> 2.88e-07</td> <td> 3.94e-07</td>\n",
              "</tr>\n",
              "<tr>\n",
              "  <th>x84</th>   <td> 2.581e-08</td> <td> 1.77e-09</td> <td>   14.547</td> <td> 0.000</td> <td> 2.23e-08</td> <td> 2.93e-08</td>\n",
              "</tr>\n",
              "<tr>\n",
              "  <th>x85</th>   <td> 1.881e-06</td> <td> 1.04e-07</td> <td>   18.082</td> <td> 0.000</td> <td> 1.68e-06</td> <td> 2.08e-06</td>\n",
              "</tr>\n",
              "<tr>\n",
              "  <th>x86</th>   <td>   -0.0002</td> <td> 1.65e-06</td> <td> -103.166</td> <td> 0.000</td> <td>   -0.000</td> <td>   -0.000</td>\n",
              "</tr>\n",
              "<tr>\n",
              "  <th>x87</th>   <td>-1.026e-06</td> <td> 1.81e-07</td> <td>   -5.671</td> <td> 0.000</td> <td>-1.38e-06</td> <td>-6.71e-07</td>\n",
              "</tr>\n",
              "<tr>\n",
              "  <th>x88</th>   <td>-9.956e-06</td> <td> 2.96e-07</td> <td>  -33.596</td> <td> 0.000</td> <td>-1.05e-05</td> <td>-9.37e-06</td>\n",
              "</tr>\n",
              "<tr>\n",
              "  <th>x89</th>   <td> 2.486e-06</td> <td> 8.45e-08</td> <td>   29.433</td> <td> 0.000</td> <td> 2.32e-06</td> <td> 2.65e-06</td>\n",
              "</tr>\n",
              "<tr>\n",
              "  <th>x90</th>   <td>    0.0002</td> <td> 3.89e-06</td> <td>   43.031</td> <td> 0.000</td> <td>    0.000</td> <td>    0.000</td>\n",
              "</tr>\n",
              "<tr>\n",
              "  <th>x91</th>   <td>   -0.0002</td> <td> 2.28e-06</td> <td>  -91.941</td> <td> 0.000</td> <td>   -0.000</td> <td>   -0.000</td>\n",
              "</tr>\n",
              "<tr>\n",
              "  <th>x92</th>   <td> 1.029e-06</td> <td> 2.71e-06</td> <td>    0.379</td> <td> 0.705</td> <td>-4.29e-06</td> <td> 6.35e-06</td>\n",
              "</tr>\n",
              "<tr>\n",
              "  <th>x93</th>   <td>-8.877e-06</td> <td> 2.13e-07</td> <td>  -41.693</td> <td> 0.000</td> <td>-9.29e-06</td> <td>-8.46e-06</td>\n",
              "</tr>\n",
              "<tr>\n",
              "  <th>x94</th>   <td> 1.929e-05</td> <td> 2.16e-07</td> <td>   89.272</td> <td> 0.000</td> <td> 1.89e-05</td> <td> 1.97e-05</td>\n",
              "</tr>\n",
              "<tr>\n",
              "  <th>x95</th>   <td>   -0.0001</td> <td> 1.28e-06</td> <td> -100.300</td> <td> 0.000</td> <td>   -0.000</td> <td>   -0.000</td>\n",
              "</tr>\n",
              "<tr>\n",
              "  <th>x96</th>   <td> 6.874e-06</td> <td> 9.88e-08</td> <td>   69.547</td> <td> 0.000</td> <td> 6.68e-06</td> <td> 7.07e-06</td>\n",
              "</tr>\n",
              "<tr>\n",
              "  <th>x97</th>   <td>-1.328e-05</td> <td> 3.99e-07</td> <td>  -33.285</td> <td> 0.000</td> <td>-1.41e-05</td> <td>-1.25e-05</td>\n",
              "</tr>\n",
              "<tr>\n",
              "  <th>x98</th>   <td> 2.242e-06</td> <td> 1.22e-07</td> <td>   18.357</td> <td> 0.000</td> <td>    2e-06</td> <td> 2.48e-06</td>\n",
              "</tr>\n",
              "<tr>\n",
              "  <th>x99</th>   <td> 2.052e-07</td> <td> 4.41e-09</td> <td>   46.573</td> <td> 0.000</td> <td> 1.97e-07</td> <td> 2.14e-07</td>\n",
              "</tr>\n",
              "<tr>\n",
              "  <th>x100</th>  <td>-5.935e-05</td> <td> 1.86e-06</td> <td>  -31.937</td> <td> 0.000</td> <td> -6.3e-05</td> <td>-5.57e-05</td>\n",
              "</tr>\n",
              "<tr>\n",
              "  <th>x101</th>  <td>  9.26e-05</td> <td> 3.49e-06</td> <td>   26.540</td> <td> 0.000</td> <td> 8.58e-05</td> <td> 9.94e-05</td>\n",
              "</tr>\n",
              "<tr>\n",
              "  <th>x102</th>  <td> 9.196e-05</td> <td> 1.64e-06</td> <td>   55.932</td> <td> 0.000</td> <td> 8.87e-05</td> <td> 9.52e-05</td>\n",
              "</tr>\n",
              "<tr>\n",
              "  <th>x103</th>  <td> 6.581e-06</td> <td> 1.45e-07</td> <td>   45.400</td> <td> 0.000</td> <td>  6.3e-06</td> <td> 6.86e-06</td>\n",
              "</tr>\n",
              "<tr>\n",
              "  <th>x104</th>  <td>   -0.0001</td> <td>    2e-06</td> <td>  -51.336</td> <td> 0.000</td> <td>   -0.000</td> <td>-9.87e-05</td>\n",
              "</tr>\n",
              "<tr>\n",
              "  <th>x105</th>  <td>-3.987e-05</td> <td> 2.59e-06</td> <td>  -15.370</td> <td> 0.000</td> <td> -4.5e-05</td> <td>-3.48e-05</td>\n",
              "</tr>\n",
              "<tr>\n",
              "  <th>x106</th>  <td> 1.228e-06</td> <td> 1.52e-07</td> <td>    8.093</td> <td> 0.000</td> <td> 9.31e-07</td> <td> 1.53e-06</td>\n",
              "</tr>\n",
              "<tr>\n",
              "  <th>x107</th>  <td> 7.287e-05</td> <td> 9.55e-07</td> <td>   76.266</td> <td> 0.000</td> <td>  7.1e-05</td> <td> 7.47e-05</td>\n",
              "</tr>\n",
              "<tr>\n",
              "  <th>x108</th>  <td>-4.067e-06</td> <td>  7.9e-08</td> <td>  -51.469</td> <td> 0.000</td> <td>-4.22e-06</td> <td>-3.91e-06</td>\n",
              "</tr>\n",
              "<tr>\n",
              "  <th>x109</th>  <td>-2.717e-07</td> <td> 3.89e-09</td> <td>  -69.883</td> <td> 0.000</td> <td>-2.79e-07</td> <td>-2.64e-07</td>\n",
              "</tr>\n",
              "<tr>\n",
              "  <th>x110</th>  <td> 4.205e-05</td> <td> 3.52e-07</td> <td>  119.590</td> <td> 0.000</td> <td> 4.14e-05</td> <td> 4.27e-05</td>\n",
              "</tr>\n",
              "<tr>\n",
              "  <th>x111</th>  <td>-7.428e-05</td> <td>  1.5e-06</td> <td>  -49.665</td> <td> 0.000</td> <td>-7.72e-05</td> <td>-7.13e-05</td>\n",
              "</tr>\n",
              "<tr>\n",
              "  <th>x112</th>  <td> 1.899e-07</td> <td> 4.49e-08</td> <td>    4.234</td> <td> 0.000</td> <td> 1.02e-07</td> <td> 2.78e-07</td>\n",
              "</tr>\n",
              "<tr>\n",
              "  <th>x113</th>  <td>-9.071e-05</td> <td> 1.95e-06</td> <td>  -46.508</td> <td> 0.000</td> <td>-9.45e-05</td> <td>-8.69e-05</td>\n",
              "</tr>\n",
              "<tr>\n",
              "  <th>x114</th>  <td>-4.377e-07</td> <td>  7.4e-08</td> <td>   -5.915</td> <td> 0.000</td> <td>-5.83e-07</td> <td>-2.93e-07</td>\n",
              "</tr>\n",
              "<tr>\n",
              "  <th>x115</th>  <td>-4.256e-08</td> <td> 2.11e-09</td> <td>  -20.129</td> <td> 0.000</td> <td>-4.67e-08</td> <td>-3.84e-08</td>\n",
              "</tr>\n",
              "<tr>\n",
              "  <th>x116</th>  <td>-1.439e-05</td> <td>  3.4e-07</td> <td>  -42.331</td> <td> 0.000</td> <td>-1.51e-05</td> <td>-1.37e-05</td>\n",
              "</tr>\n",
              "<tr>\n",
              "  <th>x117</th>  <td>-2.252e-06</td> <td> 3.07e-08</td> <td>  -73.313</td> <td> 0.000</td> <td>-2.31e-06</td> <td>-2.19e-06</td>\n",
              "</tr>\n",
              "<tr>\n",
              "  <th>x118</th>  <td> 4.007e-08</td> <td> 1.22e-09</td> <td>   32.935</td> <td> 0.000</td> <td> 3.77e-08</td> <td> 4.25e-08</td>\n",
              "</tr>\n",
              "<tr>\n",
              "  <th>x119</th>  <td> 1.868e-09</td> <td> 4.64e-11</td> <td>   40.285</td> <td> 0.000</td> <td> 1.78e-09</td> <td> 1.96e-09</td>\n",
              "</tr>\n",
              "</table>\n",
              "<table class=\"simpletable\">\n",
              "<tr>\n",
              "  <th>Omnibus:</th>       <td>389877.517</td> <th>  Durbin-Watson:     </th>   <td>   0.019</td>  \n",
              "</tr>\n",
              "<tr>\n",
              "  <th>Prob(Omnibus):</th>   <td> 0.000</td>   <th>  Jarque-Bera (JB):  </th> <td>11400470.067</td>\n",
              "</tr>\n",
              "<tr>\n",
              "  <th>Skew:</th>            <td> 1.030</td>   <th>  Prob(JB):          </th>   <td>    0.00</td>  \n",
              "</tr>\n",
              "<tr>\n",
              "  <th>Kurtosis:</th>        <td>18.295</td>   <th>  Cond. No.          </th>   <td>8.72e+13</td>  \n",
              "</tr>\n",
              "</table><br/><br/>Warnings:<br/>[1] Standard Errors assume that the covariance matrix of the errors is correctly specified.<br/>[2] The condition number is large, 8.72e+13. This might indicate that there are<br/>strong multicollinearity or other numerical problems."
            ],
            "text/plain": [
              "<class 'statsmodels.iolib.summary.Summary'>\n",
              "\"\"\"\n",
              "                            OLS Regression Results                            \n",
              "==============================================================================\n",
              "Dep. Variable:                     pm   R-squared:                       0.879\n",
              "Model:                            OLS   Adj. R-squared:                  0.879\n",
              "Method:                 Least Squares   F-statistic:                 7.085e+04\n",
              "Date:                Fri, 16 Jul 2021   Prob (F-statistic):               0.00\n",
              "Time:                        18:40:25   Log-Likelihood:            -3.8370e+06\n",
              "No. Observations:             1148796   AIC:                         7.674e+06\n",
              "Df Residuals:                 1148677   BIC:                         7.676e+06\n",
              "Df Model:                         118                                         \n",
              "Covariance Type:            nonrobust                                         \n",
              "==============================================================================\n",
              "                 coef    std err          t      P>|t|      [0.025      0.975]\n",
              "------------------------------------------------------------------------------\n",
              "const        279.9820      8.366     33.466      0.000     263.585     296.380\n",
              "x1           -26.4756      1.122    -23.607      0.000     -28.674     -24.277\n",
              "x2             2.7470      0.101     27.283      0.000       2.550       2.944\n",
              "x3             0.5712      0.031     18.409      0.000       0.510       0.632\n",
              "x4            -8.9799      0.097    -92.156      0.000      -9.171      -8.789\n",
              "x5             4.6028      0.063     73.146      0.000       4.479       4.726\n",
              "x6            -2.9480      0.090    -32.804      0.000      -3.124      -2.772\n",
              "x7             0.3972      0.005     84.809      0.000       0.388       0.406\n",
              "x8             0.4378      0.051      8.653      0.000       0.339       0.537\n",
              "x9             0.0200      0.008      2.375      0.018       0.003       0.036\n",
              "x10            0.0029      0.002      1.183      0.237      -0.002       0.008\n",
              "x11            0.5325      0.006     89.170      0.000       0.521       0.544\n",
              "x12           -0.2934      0.004    -68.742      0.000      -0.302      -0.285\n",
              "x13           -0.0279      0.005     -5.742      0.000      -0.037      -0.018\n",
              "x14           -0.0169      0.000    -65.309      0.000      -0.017      -0.016\n",
              "x15           -0.0097      0.000    -23.987      0.000      -0.011      -0.009\n",
              "x16           -0.0018      0.000     -9.972      0.000      -0.002      -0.001\n",
              "x17           -0.0438      0.000    -92.663      0.000      -0.045      -0.043\n",
              "x18            0.0095      0.000     26.923      0.000       0.009       0.010\n",
              "x19            0.0364      0.000     99.139      0.000       0.036       0.037\n",
              "x20            0.0003   1.77e-05     19.579      0.000       0.000       0.000\n",
              "x21            0.0003   6.57e-05      3.830      0.000       0.000       0.000\n",
              "x22           -0.0091      0.001     -7.508      0.000      -0.012      -0.007\n",
              "x23            0.0057      0.000     47.105      0.000       0.005       0.006\n",
              "x24           -0.0282      0.000   -136.804      0.000      -0.029      -0.028\n",
              "x25           -0.0014   5.89e-05    -23.730      0.000      -0.002      -0.001\n",
              "x26           -0.0449      0.000   -112.895      0.000      -0.046      -0.044\n",
              "x27            0.0020      0.001      3.508      0.000       0.001       0.003\n",
              "x28           -0.0147      0.000    -30.857      0.000      -0.016      -0.014\n",
              "x29            0.0025   2.33e-05    107.163      0.000       0.002       0.003\n",
              "x30            0.0135      0.000     64.015      0.000       0.013       0.014\n",
              "x31            0.0115      0.001     13.111      0.000       0.010       0.013\n",
              "x32            0.0011   2.38e-05     44.538      0.000       0.001       0.001\n",
              "x33           -0.0084      0.000    -27.710      0.000      -0.009      -0.008\n",
              "x34            0.0005   1.48e-05     35.217      0.000       0.000       0.001\n",
              "x35        -2.479e-05   3.99e-07    -62.208      0.000   -2.56e-05    -2.4e-05\n",
              "x36            0.0100      0.001     13.061      0.000       0.008       0.011\n",
              "x37           -0.0048      0.000    -26.589      0.000      -0.005      -0.004\n",
              "x38           -0.0008   5.19e-05    -14.866      0.000      -0.001      -0.001\n",
              "x39           -0.0097      0.000    -88.929      0.000      -0.010      -0.010\n",
              "x40            0.0056   8.21e-05     68.632      0.000       0.005       0.006\n",
              "x41            0.0013   7.15e-05     17.641      0.000       0.001       0.001\n",
              "x42            0.0001   4.08e-06     36.641      0.000       0.000       0.000\n",
              "x43            0.0005   1.61e-05     33.401      0.000       0.001       0.001\n",
              "x44            0.0002   7.07e-06     22.449      0.000       0.000       0.000\n",
              "x45            0.0018   1.76e-05    102.987      0.000       0.002       0.002\n",
              "x46           -0.0006    1.3e-05    -47.633      0.000      -0.001      -0.001\n",
              "x47           -0.0002   1.04e-05    -23.148      0.000      -0.000      -0.000\n",
              "x48        -1.413e-05   6.25e-07    -22.606      0.000   -1.54e-05   -1.29e-05\n",
              "x49         8.766e-06   2.43e-06      3.601      0.000    3.99e-06    1.35e-05\n",
              "x50           -0.0005    4.7e-05     -9.639      0.000      -0.001      -0.000\n",
              "x51           -0.0002   4.61e-06    -33.209      0.000      -0.000      -0.000\n",
              "x52            0.0002   4.74e-06     35.504      0.000       0.000       0.000\n",
              "x53         5.325e-05   2.24e-06     23.723      0.000    4.88e-05    5.76e-05\n",
              "x54         2.545e-05   1.36e-05      1.869      0.062   -1.23e-06    5.21e-05\n",
              "x55            0.0003   1.88e-05     13.579      0.000       0.000       0.000\n",
              "x56            0.0006   1.28e-05     45.131      0.000       0.001       0.001\n",
              "x57         1.547e-05   8.22e-07     18.816      0.000    1.39e-05    1.71e-05\n",
              "x58           -0.0002   6.94e-06    -33.804      0.000      -0.000      -0.000\n",
              "x59           -0.0009   3.23e-05    -29.122      0.000      -0.001      -0.001\n",
              "x60        -4.175e-05   7.91e-07    -52.779      0.000   -4.33e-05   -4.02e-05\n",
              "x61            0.0002   5.79e-06     39.650      0.000       0.000       0.000\n",
              "x62        -1.273e-05   3.21e-07    -39.626      0.000   -1.34e-05   -1.21e-05\n",
              "x63         2.123e-08   1.25e-08      1.696      0.090    -3.3e-09    4.58e-08\n",
              "x64         -5.09e-05   1.03e-06    -49.231      0.000   -5.29e-05   -4.89e-05\n",
              "x65        -1.482e-05   4.32e-07    -34.334      0.000   -1.57e-05    -1.4e-05\n",
              "x66         3.673e-05   1.06e-06     34.596      0.000    3.47e-05    3.88e-05\n",
              "x67        -2.131e-05   7.49e-07    -28.451      0.000   -2.28e-05   -1.98e-05\n",
              "x68        -2.308e-05   6.29e-07    -36.660      0.000   -2.43e-05   -2.18e-05\n",
              "x69        -4.884e-07   3.84e-08    -12.714      0.000   -5.64e-07   -4.13e-07\n",
              "x70        -5.056e-06   2.63e-07    -19.257      0.000   -5.57e-06   -4.54e-06\n",
              "x71          5.77e-05   3.61e-06     15.999      0.000    5.06e-05    6.48e-05\n",
              "x72         4.306e-06   3.93e-07     10.965      0.000    3.54e-06    5.08e-06\n",
              "x73          1.78e-05   4.92e-07     36.202      0.000    1.68e-05    1.88e-05\n",
              "x74         4.034e-06   1.69e-07     23.888      0.000     3.7e-06    4.36e-06\n",
              "x75        -4.444e-05   1.43e-06    -31.161      0.000   -4.72e-05   -4.16e-05\n",
              "x76         6.721e-05   1.81e-06     37.169      0.000    6.37e-05    7.08e-05\n",
              "x77        -5.694e-05   1.19e-06    -47.960      0.000   -5.93e-05   -5.46e-05\n",
              "x78        -4.988e-07   9.53e-08     -5.233      0.000   -6.86e-07   -3.12e-07\n",
              "x79        -2.738e-05      6e-07    -45.672      0.000   -2.86e-05   -2.62e-05\n",
              "x80          6.61e-05   2.35e-06     28.183      0.000    6.15e-05    7.07e-05\n",
              "x81         1.679e-07   5.28e-08      3.182      0.001    6.45e-08    2.71e-07\n",
              "x82         4.939e-07   5.76e-07      0.857      0.392   -6.36e-07    1.62e-06\n",
              "x83         3.408e-07    2.7e-08     12.623      0.000    2.88e-07    3.94e-07\n",
              "x84         2.581e-08   1.77e-09     14.547      0.000    2.23e-08    2.93e-08\n",
              "x85         1.881e-06   1.04e-07     18.082      0.000    1.68e-06    2.08e-06\n",
              "x86           -0.0002   1.65e-06   -103.166      0.000      -0.000      -0.000\n",
              "x87        -1.026e-06   1.81e-07     -5.671      0.000   -1.38e-06   -6.71e-07\n",
              "x88        -9.956e-06   2.96e-07    -33.596      0.000   -1.05e-05   -9.37e-06\n",
              "x89         2.486e-06   8.45e-08     29.433      0.000    2.32e-06    2.65e-06\n",
              "x90            0.0002   3.89e-06     43.031      0.000       0.000       0.000\n",
              "x91           -0.0002   2.28e-06    -91.941      0.000      -0.000      -0.000\n",
              "x92         1.029e-06   2.71e-06      0.379      0.705   -4.29e-06    6.35e-06\n",
              "x93        -8.877e-06   2.13e-07    -41.693      0.000   -9.29e-06   -8.46e-06\n",
              "x94         1.929e-05   2.16e-07     89.272      0.000    1.89e-05    1.97e-05\n",
              "x95           -0.0001   1.28e-06   -100.300      0.000      -0.000      -0.000\n",
              "x96         6.874e-06   9.88e-08     69.547      0.000    6.68e-06    7.07e-06\n",
              "x97        -1.328e-05   3.99e-07    -33.285      0.000   -1.41e-05   -1.25e-05\n",
              "x98         2.242e-06   1.22e-07     18.357      0.000       2e-06    2.48e-06\n",
              "x99         2.052e-07   4.41e-09     46.573      0.000    1.97e-07    2.14e-07\n",
              "x100       -5.935e-05   1.86e-06    -31.937      0.000    -6.3e-05   -5.57e-05\n",
              "x101         9.26e-05   3.49e-06     26.540      0.000    8.58e-05    9.94e-05\n",
              "x102        9.196e-05   1.64e-06     55.932      0.000    8.87e-05    9.52e-05\n",
              "x103        6.581e-06   1.45e-07     45.400      0.000     6.3e-06    6.86e-06\n",
              "x104          -0.0001      2e-06    -51.336      0.000      -0.000   -9.87e-05\n",
              "x105       -3.987e-05   2.59e-06    -15.370      0.000    -4.5e-05   -3.48e-05\n",
              "x106        1.228e-06   1.52e-07      8.093      0.000    9.31e-07    1.53e-06\n",
              "x107        7.287e-05   9.55e-07     76.266      0.000     7.1e-05    7.47e-05\n",
              "x108       -4.067e-06    7.9e-08    -51.469      0.000   -4.22e-06   -3.91e-06\n",
              "x109       -2.717e-07   3.89e-09    -69.883      0.000   -2.79e-07   -2.64e-07\n",
              "x110        4.205e-05   3.52e-07    119.590      0.000    4.14e-05    4.27e-05\n",
              "x111       -7.428e-05    1.5e-06    -49.665      0.000   -7.72e-05   -7.13e-05\n",
              "x112        1.899e-07   4.49e-08      4.234      0.000    1.02e-07    2.78e-07\n",
              "x113       -9.071e-05   1.95e-06    -46.508      0.000   -9.45e-05   -8.69e-05\n",
              "x114       -4.377e-07    7.4e-08     -5.915      0.000   -5.83e-07   -2.93e-07\n",
              "x115       -4.256e-08   2.11e-09    -20.129      0.000   -4.67e-08   -3.84e-08\n",
              "x116       -1.439e-05    3.4e-07    -42.331      0.000   -1.51e-05   -1.37e-05\n",
              "x117       -2.252e-06   3.07e-08    -73.313      0.000   -2.31e-06   -2.19e-06\n",
              "x118        4.007e-08   1.22e-09     32.935      0.000    3.77e-08    4.25e-08\n",
              "x119        1.868e-09   4.64e-11     40.285      0.000    1.78e-09    1.96e-09\n",
              "==============================================================================\n",
              "Omnibus:                   389877.517   Durbin-Watson:                   0.019\n",
              "Prob(Omnibus):                  0.000   Jarque-Bera (JB):         11400470.067\n",
              "Skew:                           1.030   Prob(JB):                         0.00\n",
              "Kurtosis:                      18.295   Cond. No.                     8.72e+13\n",
              "==============================================================================\n",
              "\n",
              "Warnings:\n",
              "[1] Standard Errors assume that the covariance matrix of the errors is correctly specified.\n",
              "[2] The condition number is large, 8.72e+13. This might indicate that there are\n",
              "strong multicollinearity or other numerical problems.\n",
              "\"\"\""
            ]
          },
          "metadata": {
            "tags": []
          },
          "execution_count": 23
        }
      ]
    },
    {
      "cell_type": "markdown",
      "metadata": {
        "id": "_hxPsUcSSX7L"
      },
      "source": [
        "Ajustando os parâmetros"
      ]
    },
    {
      "cell_type": "code",
      "metadata": {
        "id": "N51UhxoGSdKp"
      },
      "source": [
        "# TRAINING ERROR PER DEGREE\n",
        "train_rmse_errors = []\n",
        "# TEST ERROR PER DEGREE\n",
        "test_rmse_errors = []\n",
        "\n",
        "for d in range(1,5):\n",
        "    \n",
        "    # CREATE POLY DATA SET FOR DEGREE \"d\"\n",
        "    polynomial_converter = PolynomialFeatures(degree=d,include_bias=False)\n",
        "    X_train_poly_features = polynomial_converter.fit_transform(X_train)\n",
        "    X_test_poly_features = polynomial_converter.fit_transform(X_test)\n",
        "\n",
        "    # TRAIN ON THIS NEW POLY SET    \n",
        "    model = LinearRegression(fit_intercept=True)\n",
        "    model.fit(X_train_poly_features,y_train)\n",
        "\n",
        "    # PREDICT ON BOTH TRAIN AND TEST\n",
        "    train_pred = model.predict(X_train_poly_features)\n",
        "    test_pred = model.predict(X_test_poly_features)\n",
        "    \n",
        "    \n",
        "    # Errors on Train Set\n",
        "    train_RMSE = np.sqrt(mean_squared_error(y_train,train_pred))\n",
        "    \n",
        "    # Errors on Test Set\n",
        "    test_RMSE = np.sqrt(mean_squared_error(y_test,test_pred))\n",
        "\n",
        "    # Append errors to lists for plotting later\n",
        "    \n",
        "   \n",
        "    train_rmse_errors.append(train_RMSE)\n",
        "    test_rmse_errors.append(test_RMSE)"
      ],
      "execution_count": 24,
      "outputs": []
    },
    {
      "cell_type": "code",
      "metadata": {
        "colab": {
          "base_uri": "https://localhost:8080/"
        },
        "id": "QNPzICqQW1oE",
        "outputId": "d57bab7b-9e5c-40bc-d37d-1f3bd0f7c3b6"
      },
      "source": [
        "train_rmse_errors"
      ],
      "execution_count": 25,
      "outputs": [
        {
          "output_type": "execute_result",
          "data": {
            "text/plain": [
              "[11.987580437227521, 9.053098796365713, 6.828594656693907, 5.699459383379581]"
            ]
          },
          "metadata": {
            "tags": []
          },
          "execution_count": 25
        }
      ]
    },
    {
      "cell_type": "code",
      "metadata": {
        "colab": {
          "base_uri": "https://localhost:8080/"
        },
        "id": "ssvr5EmEW5f2",
        "outputId": "b9a01e8b-1efa-4683-c791-470d1fff14d8"
      },
      "source": [
        "test_rmse_errors"
      ],
      "execution_count": 26,
      "outputs": [
        {
          "output_type": "execute_result",
          "data": {
            "text/plain": [
              "[12.067290137732849, 10.51059417664734, 10.440388991837516, 11.435076569279545]"
            ]
          },
          "metadata": {
            "tags": []
          },
          "execution_count": 26
        }
      ]
    },
    {
      "cell_type": "markdown",
      "metadata": {
        "id": "CsFj_lyEgaFH"
      },
      "source": [
        "Baseado nos valores, percebe-se que do polinômio de grau 2 para o 3 há relativa estabilização do erro no teste e do 3 para o 4, o erro do teste começa a subir, enquanto o erro do treino continua a decrescer.  \n",
        "Considerando o aumento de computação necessária do polinômio de grau 2 para o 3 e também o aumento do erro posterior, escolhe-se manter o grau 2. Embora, no teste de OLS de regressão, o R^2 de uma regressão polinomial de grau 3 é de 87%, enquanto de grau 2 é de 78.8%."
      ]
    },
    {
      "cell_type": "code",
      "metadata": {
        "colab": {
          "base_uri": "https://localhost:8080/",
          "height": 296
        },
        "id": "1hn8FYeCWMRX",
        "outputId": "0da86750-f43a-423e-d03a-44ee36fc2530"
      },
      "source": [
        "plt.plot(range(1,5),train_rmse_errors,label='TRAIN')\n",
        "plt.plot(range(1,5),test_rmse_errors,label='TEST')\n",
        "plt.xlabel(\"Polynomial Complexity\")\n",
        "plt.ylabel(\"RMSE\")\n",
        "plt.legend()"
      ],
      "execution_count": 27,
      "outputs": [
        {
          "output_type": "execute_result",
          "data": {
            "text/plain": [
              "<matplotlib.legend.Legend at 0x7f62cc16b2d0>"
            ]
          },
          "metadata": {
            "tags": []
          },
          "execution_count": 27
        },
        {
          "output_type": "display_data",
          "data": {
            "image/png": "[encoded data removed]",
            "text/plain": [
              "<Figure size 432x288 with 1 Axes>"
            ]
          },
          "metadata": {
            "tags": [],
            "needs_background": "light"
          }
        }
      ]
    }
  ]
}